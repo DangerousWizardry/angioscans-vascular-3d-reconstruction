{
 "cells": [
  {
   "cell_type": "code",
   "execution_count": 11,
   "metadata": {},
   "outputs": [],
   "source": [
    "import numpy as np\n",
    "from pathlib import Path\n",
    "import cv2\n",
    "import pandas as pd\n",
    "from skimage import measure, filters\n",
    "import matplotlib.pyplot as plt\n",
    "from matplotlib.patches import Ellipse\n",
    "import tqdm \n",
    "\n",
    "import SimpleITK as sitk\n",
    "import itkwidgets \n",
    "import napari\n",
    "\n",
    "from napari.utils.colormaps import colormap_utils as cu"
   ]
  },
  {
   "cell_type": "code",
   "execution_count": 3,
   "metadata": {},
   "outputs": [
    {
     "name": "stdout",
     "output_type": "stream",
     "text": [
      "(1532, 512, 512)\n"
     ]
    }
   ],
   "source": [
    "mask_list = np.load(Path(\"temp/mask_list.npy\"))\n",
    "mask1=mask_list[0]\n",
    "mask1=np.where(mask1==255, 0, 1)\n",
    "print(mask1.shape)"
   ]
  },
  {
   "cell_type": "code",
   "execution_count": 3,
   "metadata": {},
   "outputs": [],
   "source": [
    "# previous_area=500\n",
    "# enchainement_T_F_area=[] #true if the next is smaller\n",
    "# previous_ML=100\n",
    "# enchainement_major_length=[] #true if the next is smaller\n",
    "# for im_in in mask1[-1:]:\n",
    "#     im_floodfill = im_in.copy()\n",
    "#     h, w = im_in.shape[:2]\n",
    "#     mask_new = np.zeros((h+2, w+2), np.uint8)\n",
    "#     cv2.floodFill(im_floodfill, mask_new, (0,0), 0)\n",
    "    \n",
    "#     sum_im_in=np.sum(im_floodfill)\n",
    "#     if sum_im_in < previous_area:\n",
    "#         enchainement_T_F_area.append(True)\n",
    "#     else: \n",
    "#         enchainement_T_F_area.append(False)\n",
    "#     previous_area=sum_im_in\n",
    "    \n",
    "#     properties_to_test=[\"axis_major_length\"] \n",
    "#     props = measure.regionprops_table(im_floodfill, im_in, properties=properties_to_test)\n",
    "#     major_Lenght=(props[\"axis_major_length\"][0])\n",
    "\n",
    "#     if major_Lenght < previous_ML:\n",
    "#         enchainement_major_length.append(True)\n",
    "#     else: \n",
    "#         enchainement_major_length.append(False)\n",
    "#     previous_ML=major_Lenght\n",
    "        \n",
    "#     fig, ax = plt.subplots(nrows = 1, ncols=2, figsize=(15,6))\n",
    "#     ax[0].imshow(im_in[270:310, 220:300])\n",
    "#     ax[1].imshow(im_floodfill[270:310, 220:300])\n",
    "#     plt.show()\n",
    "# import collections\n",
    "# frequency = collections.Counter(enchainement_T_F_area)\n",
    "# print(frequency)\n",
    "# frequency2 = collections.Counter(enchainement_major_length)\n",
    "# print(frequency2)\n"
   ]
  },
  {
   "cell_type": "code",
   "execution_count": 12,
   "metadata": {},
   "outputs": [],
   "source": [
    "def fit_ellipses(mask, rangemin, rangemax):\n",
    "    ''' \n",
    "    Le but est de récuperer les paramètres d'une liste ellipse en fonction d'une liste de masques fournis par le network construction\n",
    "    Args :\n",
    "        mask (numpy array) : masque des artères\n",
    "        rangemin (int): début des coupes sélectionnées\n",
    "        rangemax (int): fin des coupes sélectionnées\n",
    "    Return:\n",
    "        list_params_ellispses (list[list[double]]): paramètres de chaque ellipse\n",
    "    '''\n",
    "    list_params_ellipses=[]\n",
    "    for img in tqdm.tqdm(mask[rangemin:rangemax]):\n",
    "        list_points_ellipse=[]\n",
    "        for j in range(img.shape[0]):\n",
    "            for i in range(img.shape[1]):\n",
    "                if img[j][i] ==0:\n",
    "                    list_points_ellipse.append((i,j))\n",
    "        array_points_ellipse=np.array(list_points_ellipse)\n",
    "\n",
    "        ell = measure.EllipseModel()\n",
    "        ell.estimate(array_points_ellipse)\n",
    "        list_params_ellipses.append(ell.params)\n",
    "    return list_params_ellipses"
   ]
  },
  {
   "cell_type": "code",
   "execution_count": 13,
   "metadata": {},
   "outputs": [],
   "source": [
    "def create_3d_ellipses(list_params_ellipses):\n",
    "    '''\n",
    "    Crée le numpy array représentant les images des ellipses\n",
    "    Args:\n",
    "        list_params_ellispses (list[list[double]]): paramètres de chaque ellipse\n",
    "    Return:\n",
    "        ellipses_3d (numpy array) : 3d images of the ellipses\n",
    "    '''\n",
    "    list_2D_ellipses = []\n",
    "    for params in list_params_ellipses:\n",
    "        xc, yc, a, b, theta = params\n",
    "        t = np.linspace(0, 2*np.pi, 100)\n",
    "        X = xc + a*np.cos(theta)*np.cos(t) - b*np.sin(theta)*np.sin(t)\n",
    "        Y = yc + a*np.sin(theta)*np.cos(t) + b*np.cos(theta)*np.sin(t)\n",
    "        built_ellipse = np.zeros((512,512))\n",
    "        for i in range(len(X)):\n",
    "            built_ellipse[int(Y[i])][int(X[i])] = 1\n",
    "\n",
    "        list_2D_ellipses.append(built_ellipse)\n",
    "    ellipses_3D = np.array(list_2D_ellipses)\n",
    "    return ellipses_3D"
   ]
  },
  {
   "cell_type": "code",
   "execution_count": 14,
   "metadata": {},
   "outputs": [
    {
     "name": "stderr",
     "output_type": "stream",
     "text": [
      "100%|██████████| 300/300 [00:47<00:00,  6.25it/s]\n"
     ]
    }
   ],
   "source": [
    "rangemin=mask1.shape[0]-300\n",
    "rangemax=mask1.shape[0]\n",
    "\n",
    "list_params = fit_ellipses(mask1, rangemin,rangemax)\n",
    "ellipses_3d = create_3d_ellipses(list_params)"
   ]
  },
  {
   "cell_type": "code",
   "execution_count": 16,
   "metadata": {},
   "outputs": [],
   "source": [
    "# to view in napari\n",
    "image_array = np.load(Path(\"temp/preprocessed_image.npy\"))\n",
    "image_originale=image_array[rangemin:rangemax]\n",
    "mask_lucas=mask1[rangemin:rangemax]\n",
    "\n",
    "viewer = napari.Viewer()\n",
    "\n",
    "colorindex = 0\n",
    "image_layer = viewer.add_image(image_originale)\n",
    "image_layer = viewer.add_image(ellipses_3d,colormap=list(cu.AVAILABLE_COLORMAPS.keys())[colorindex],blending=\"additive\")\n",
    "image_layer = viewer.add_image(mask_lucas,colormap=list(cu.AVAILABLE_COLORMAPS.keys())[colorindex],blending=\"additive\")\n",
    "napari.run()"
   ]
  },
  {
   "cell_type": "markdown",
   "metadata": {},
   "source": [
    "tests pour smooth la surface"
   ]
  },
  {
   "cell_type": "code",
   "execution_count": 18,
   "metadata": {},
   "outputs": [
    {
     "name": "stdout",
     "output_type": "stream",
     "text": [
      "234\n"
     ]
    }
   ],
   "source": [
    "# test algo à la main\n",
    "# list_params_ellipses : xc, yc, a, b, theta\n",
    "# [] : 1 ellipse [][] : le param\n",
    "import copy\n",
    "\n",
    "count = 0\n",
    "seuil = [3,3,70,70,100]\n",
    "new_list_params_ellipses = copy.deepcopy(list_params_ellipses)\n",
    "#new_list_params_ellipses.append(list_params_ellipses[0])\n",
    "# 1st step : voir si on a des ellipses qui déconnent\n",
    "for i in range(len(new_list_params_ellipses)-1): # pour toutes les ellipses\n",
    "    for j in range(len(new_list_params_ellipses[0])): # pour chacun des paramètres\n",
    "        param_avant = new_list_params_ellipses[i][j]\n",
    "        param = new_list_params_ellipses[i+1][j]\n",
    "        if (param-param_avant)*100/param_avant > seuil[j]:\n",
    "            count +=1\n",
    "            new_list_params_ellipses[i+1][j] = param_avant\n",
    "\n",
    "print(count)"
   ]
  },
  {
   "cell_type": "code",
   "execution_count": 19,
   "metadata": {},
   "outputs": [],
   "source": [
    "# create the new ellipses using parameters\n",
    "new_ellipses = create_3d_ellipses(new_list_params_ellipses)\n",
    "\n",
    "# look at the result\n",
    "viewer = napari.Viewer()\n",
    "\n",
    "colorindex = 0\n",
    "image_layer = viewer.add_image(ellipses_3d)\n",
    "#image_layer = viewer.add_image(ellipse_to_see,colormap=list(cu.AVAILABLE_COLORMAPS.keys())[colorindex],blending=\"additive\")\n",
    "image_layer = viewer.add_image(new_ellipses,colormap=list(cu.AVAILABLE_COLORMAPS.keys())[colorindex],blending=\"additive\")\n",
    "napari.run()"
   ]
  },
  {
   "cell_type": "code",
   "execution_count": 32,
   "metadata": {},
   "outputs": [
    {
     "name": "stdout",
     "output_type": "stream",
     "text": [
      "257.11504018926564\n",
      "6.290653473854987\n",
      "240.56234515703187\n",
      "27.664639993439074\n"
     ]
    }
   ],
   "source": [
    "list_xc = []\n",
    "list_yc = []\n",
    "for i in range(len(new_list_params_ellipses)):\n",
    "    xc, yc, a, b, theta = new_list_params_ellipses[i]\n",
    "    list_xc.append(xc)\n",
    "    list_yc.append(yc)\n",
    "\n",
    "print(np.mean(list_xc))\n",
    "print(np.std((list_xc)))\n",
    "print(np.mean(list_yc))\n",
    "print(np.std(list_yc))"
   ]
  }
 ],
 "metadata": {
  "kernelspec": {
   "display_name": "Python 3",
   "language": "python",
   "name": "python3"
  },
  "language_info": {
   "codemirror_mode": {
    "name": "ipython",
    "version": 3
   },
   "file_extension": ".py",
   "mimetype": "text/x-python",
   "name": "python",
   "nbconvert_exporter": "python",
   "pygments_lexer": "ipython3",
   "version": "3.11.5"
  }
 },
 "nbformat": 4,
 "nbformat_minor": 2
}
