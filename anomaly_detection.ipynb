{
 "cells": [
  {
   "cell_type": "code",
   "execution_count": 1,
   "metadata": {},
   "outputs": [
    {
     "name": "stderr",
     "output_type": "stream",
     "text": [
      "c:\\Users\\zoeba\\anaconda3\\Lib\\site-packages\\paramiko\\transport.py:219: CryptographyDeprecationWarning: Blowfish has been deprecated\n",
      "  \"class\": algorithms.Blowfish,\n"
     ]
    }
   ],
   "source": [
    "import numpy as np\n",
    "from pathlib import Path\n",
    "import cv2\n",
    "import pandas as pd\n",
    "from skimage import measure, filters, draw\n",
    "import matplotlib.pyplot as plt\n",
    "from matplotlib.patches import Ellipse\n",
    "import tqdm \n",
    "from scipy import ndimage\n",
    "\n",
    "import SimpleITK as sitk\n",
    "import itkwidgets \n",
    "import napari\n",
    "import copy\n",
    "\n",
    "from napari.utils.colormaps import colormap_utils as cu"
   ]
  },
  {
   "cell_type": "code",
   "execution_count": 2,
   "metadata": {},
   "outputs": [],
   "source": [
    "def find_slice_with_mask(mask):\n",
    "    '''\n",
    "    Détecte sur les index des premières et dernière tranches d'un masque. \n",
    "    Args:\n",
    "        mask (np array): le masque ou le fond est des 1 et le masque des 0\n",
    "    Return:\n",
    "        (rangemin,rangemax) (int,int): tuple avec l'index des premières et dernière tranches d'un masque. \n",
    "    '''\n",
    "    nb_slices_with_masks=[]\n",
    "    for nb_slice in range(mask.shape[0]-1, 0,-1):\n",
    "        if 255 in mask[nb_slice]:\n",
    "            nb_slices_with_masks.append(nb_slice)\n",
    "    rangemin = np.min(nb_slices_with_masks) #mask 1\n",
    "    rangemax = np.max(nb_slices_with_masks) #mask 1\n",
    "    return (rangemin,rangemax)"
   ]
  },
  {
   "cell_type": "code",
   "execution_count": 3,
   "metadata": {},
   "outputs": [],
   "source": [
    "def fit_ellipses(mask, rangemin, rangemax):\n",
    "    ''' \n",
    "    Le but est de récuperer les paramètres d'une liste ellipse en fonction d'une liste de masques fournis par le network construction\n",
    "    Args :\n",
    "        mask (numpy array) : masque des artères\n",
    "        rangemin (int): début des coupes sélectionnées\n",
    "        rangemax (int): fin des coupes sélectionnées\n",
    "    Return:\n",
    "        list_params_ellipses_to_return (list[list[double]]): paramètres de chaque ellipse\n",
    "    '''\n",
    "    list_params_ellipses=[]\n",
    "    for index_img in tqdm.tqdm(reversed(range(rangemax-rangemin))):\n",
    "        img=mask[rangemin+index_img]\n",
    "        contours_found,_=cv2.findContours(img.astype(np.uint8), method=cv2.RETR_LIST, mode=cv2.CHAIN_APPROX_SIMPLE)\n",
    "        if len(contours_found)>0:\n",
    "            ellipse=cv2.fitEllipse(contours_found[0])\n",
    "            ellipse_ok=((ellipse[0][0], ellipse[0][1]), (ellipse[1][0]/2,ellipse[1][1]/2), ellipse[2])\n",
    "            list_params_ellipses.append(ellipse_ok)\n",
    "        else:\n",
    "            print(\"erreur nb contours\")\n",
    "    list_params_ellipses.reverse()\n",
    "    return list_params_ellipses"
   ]
  },
  {
   "cell_type": "code",
   "execution_count": 4,
   "metadata": {},
   "outputs": [],
   "source": [
    "def predict_and_compare_values(list_params):\n",
    "    #working on it\n",
    "    new_list_params=[list_params[-1]]\n",
    "    list_products = [my_tuple[1][0]*my_tuple[1][1] for my_tuple in list_params]\n",
    "    list_indexes= [ i for i in range(len(list_products))]\n",
    "    fit = np.polyfit(list_indexes, list_products, deg=1)\n",
    "    predict_size_area = np.poly1d(fit)\n",
    "    list_products_predicted=[predict_size_area(index) for index in list_indexes]\n",
    "    \n",
    "    count=0\n",
    "    for index in reversed(range(len(list_products_predicted)-1)):\n",
    "        product_predicted=list_products_predicted[index]\n",
    "        if np.abs((product_predicted-list_products[index])*100/product_predicted)<50: #si moins de 10 pourcent d'erreurs, je garde ma value originales\n",
    "            new_list_params.append(list_params[index])\n",
    "        else: #sinon, je mets les param de l'ellipse précédente\n",
    "            new_list_params.append(new_list_params[-1])\n",
    "            count+=1\n",
    "    # print(\"count \",count)\n",
    "    new_list_params.reverse()\n",
    "    return new_list_params"
   ]
  },
  {
   "cell_type": "code",
   "execution_count": 5,
   "metadata": {},
   "outputs": [],
   "source": [
    "def dilation(img_3D, kernel_size):\n",
    "    ''' \n",
    "    Dilatation d'une image \n",
    "    Args:\n",
    "        img_3D (numpy array): image à dilater\n",
    "        kernel_size (int): taille du kernel\n",
    "    '''\n",
    "    kernel = cv2.getStructuringElement(cv2.MORPH_ELLIPSE,(kernel_size,kernel_size))\n",
    "    for index, slice in enumerate(img_3D):\n",
    "        img_3D[index] = cv2.dilate(img_3D[index] , kernel, iterations=1)"
   ]
  },
  {
   "cell_type": "code",
   "execution_count": 6,
   "metadata": {},
   "outputs": [],
   "source": [
    "def create_3d_ellipses(list_params_ellipses, shape_image, rangemin, rangemax, dilate=False):\n",
    "    ''' \n",
    "    Draw 3d ellipses on a white image\n",
    "    Args:\n",
    "        list_params_ellipses (list[list[double]]): the parameters of each ellipse\n",
    "        mask (numpy array): the initial masks\n",
    "        rangemin (int): first slice of the mask\n",
    "        rangemask (int): last slice of the mask\n",
    "        dilate (Boolean): indicatinf if neede to dliate of not the image\n",
    "    Return:\n",
    "        ellipses_3d (numpy array): images with drawing of ellipses on it\n",
    "    '''\n",
    "    ellipses_3d = []\n",
    "    for index_img in tqdm.tqdm(range(rangemax-rangemin)):\n",
    "        ellipse_mask = np.zeros((shape_image[1],shape_image[2]), dtype=np.uint8)\n",
    "        params = list_params_ellipses[index_img]\n",
    "        center = (int(params[0][0]),int(params[0][1]))\n",
    "        axis = (int(params[1][0]),int(params[1][1]))\n",
    "        angle = int(params[2])\n",
    "        color = 255\n",
    "        cv2.ellipse(ellipse_mask, center, axis, angle, 0, 360, color,-1)\n",
    "        ellipses_3d.append(ellipse_mask)\n",
    "    numpy_ellipse_3d=np.array(ellipses_3d)\n",
    "    if dilate:\n",
    "        dilation(numpy_ellipse_3d, kernel_size=4)\n",
    "    return numpy_ellipse_3d"
   ]
  },
  {
   "cell_type": "code",
   "execution_count": 7,
   "metadata": {},
   "outputs": [],
   "source": [
    "def keeping_arteries_only(filled_ellipses, image):\n",
    "    '''\n",
    "    Le but est de garder l'image originale en la restreignant à l'intérieur des ellipses.\n",
    "    Args:\n",
    "        filled_ellipses (np.array): les ellipses remplies\n",
    "        image (np.array): image d'origine \n",
    "    Return:\n",
    "        list_arteries_only (np.array): l'image originale restreinte à l'intérieur des ellipses\n",
    "    ''' \n",
    "    list_arteries_only=np.where(filled_ellipses==255, image, 0)\n",
    "    return list_arteries_only"
   ]
  },
  {
   "cell_type": "code",
   "execution_count": 8,
   "metadata": {},
   "outputs": [],
   "source": [
    "def construct_ellipses_network(mask):\n",
    "    #working on it \n",
    "    '''\n",
    "    En partant de la liste de masques construite par la network construction, des ellipses sont approximées pour reconstruire un réseau artériel lisse. \n",
    "    Args:\n",
    "        mask_list (list[np.array]): la liste des masque construite par la network construction\n",
    "    Return:\n",
    "        info_all_masks (list[dic]): une liste où pour chaque loigne (qui correspond à un masque), il y a un dictionnaire où les clefs sont: rangemin, rangemax, mask,  smooth_ellipses\n",
    "        ellipses_network (np.array): l'image 3D où le réseau d'ellipse est reconstitué\n",
    "    ''' \n",
    "    rangemin,rangemax=find_slice_with_mask(mask)\n",
    "    list_params=fit_ellipses(mask, rangemin, rangemax)\n",
    "    # ellipses_3d=create_3d_ellipses(list_params,mask.shape, rangemin, rangemax)\n",
    "       \n",
    "    new_list_param=predict_and_compare_values(list_params)\n",
    "    new_ellipses_3d=create_3d_ellipses(new_list_param,mask.shape, rangemin, rangemax, dilate=True)\n",
    "\n",
    "    before=np.zeros((rangemin, mask.shape[1],mask.shape[1]))\n",
    "    after=np.zeros((mask.shape[0]-rangemax, mask.shape[1],mask.shape[1]))\n",
    "    whole_size_ellipses_3D=np.concatenate((before,new_ellipses_3d,after))\n",
    "\n",
    "    info_of_one_mask={'rangemin':rangemin,'rangemax':rangemax,'mask':mask, 'ellipses_3D':whole_size_ellipses_3D}\n",
    "    return info_of_one_mask"
   ]
  },
  {
   "cell_type": "code",
   "execution_count": 9,
   "metadata": {},
   "outputs": [],
   "source": [
    "def construct_mask_network(mask_list,range_to_do):\n",
    "    '''\n",
    " \n",
    "    ''' \n",
    "    mask_network=np.zeros(mask_list[0].shape)\n",
    "    for index_mask in tqdm.tqdm(range(range_to_do)):#len(mask_list))):\n",
    "        mask_ok=np.where(mask_list[index_mask]==255,0,1)\n",
    "        \n",
    "        mask_network=mask_network+mask_ok\n",
    "        mask_network_ok=np.where(mask_network>1,1,mask_network)\n",
    "    return mask_network_ok"
   ]
  },
  {
   "cell_type": "markdown",
   "metadata": {},
   "source": [
    "# constructing the whole network"
   ]
  },
  {
   "cell_type": "code",
   "execution_count": 10,
   "metadata": {},
   "outputs": [],
   "source": [
    "mask_list = np.load(Path(\"temp/mask_list.npy\"))\n",
    "image_array = np.load(Path(\"temp/preprocessed_image.npy\"))"
   ]
  },
  {
   "cell_type": "markdown",
   "metadata": {},
   "source": [
    "to plot everything on the same graph"
   ]
  },
  {
   "cell_type": "code",
   "execution_count": 13,
   "metadata": {},
   "outputs": [
    {
     "name": "stdout",
     "output_type": "stream",
     "text": [
      "1  out of  9\n"
     ]
    },
    {
     "name": "stderr",
     "output_type": "stream",
     "text": [
      "265it [00:00, 3416.87it/s]\n",
      "100%|██████████| 265/265 [00:00<00:00, 6750.54it/s]\n"
     ]
    },
    {
     "name": "stdout",
     "output_type": "stream",
     "text": [
      "2  out of  9\n"
     ]
    },
    {
     "name": "stderr",
     "output_type": "stream",
     "text": [
      "230it [00:00, 1364.42it/s]\n",
      "100%|██████████| 230/230 [00:00<00:00, 6961.05it/s]\n"
     ]
    },
    {
     "name": "stdout",
     "output_type": "stream",
     "text": [
      "3  out of  9\n"
     ]
    },
    {
     "name": "stderr",
     "output_type": "stream",
     "text": [
      "23it [00:00, 868.66it/s]\n",
      "100%|██████████| 23/23 [00:00<00:00, 1472.18it/s]\n"
     ]
    },
    {
     "name": "stdout",
     "output_type": "stream",
     "text": [
      "4  out of  9\n"
     ]
    },
    {
     "name": "stderr",
     "output_type": "stream",
     "text": [
      "23it [00:00, 799.33it/s]\n",
      "100%|██████████| 23/23 [00:00<00:00, 2805.55it/s]\n"
     ]
    },
    {
     "name": "stdout",
     "output_type": "stream",
     "text": [
      "5  out of  9\n"
     ]
    },
    {
     "name": "stderr",
     "output_type": "stream",
     "text": [
      "83it [00:00, 1604.79it/s]\n",
      "100%|██████████| 83/83 [00:00<00:00, 4958.23it/s]\n"
     ]
    },
    {
     "name": "stdout",
     "output_type": "stream",
     "text": [
      "6  out of  9\n"
     ]
    },
    {
     "name": "stderr",
     "output_type": "stream",
     "text": [
      "83it [00:00, 1901.06it/s]\n",
      "100%|██████████| 83/83 [00:00<00:00, 5906.87it/s]\n"
     ]
    },
    {
     "name": "stdout",
     "output_type": "stream",
     "text": [
      "7  out of  9\n"
     ]
    },
    {
     "name": "stderr",
     "output_type": "stream",
     "text": [
      "2it [00:00, 84.98it/s]\n",
      "100%|██████████| 2/2 [00:00<00:00, 565.42it/s]\n"
     ]
    },
    {
     "name": "stdout",
     "output_type": "stream",
     "text": [
      "8  out of  9\n"
     ]
    },
    {
     "name": "stderr",
     "output_type": "stream",
     "text": [
      "2it [00:00, 1874.97it/s]\n",
      "100%|██████████| 2/2 [00:00<?, ?it/s]\n"
     ]
    },
    {
     "name": "stdout",
     "output_type": "stream",
     "text": [
      "9  out of  9\n"
     ]
    },
    {
     "name": "stderr",
     "output_type": "stream",
     "text": [
      "1it [00:00, 46.54it/s]\n"
     ]
    },
    {
     "ename": "LinAlgError",
     "evalue": "SVD did not converge in Linear Least Squares",
     "output_type": "error",
     "traceback": [
      "\u001b[1;31m---------------------------------------------------------------------------\u001b[0m",
      "\u001b[1;31mLinAlgError\u001b[0m                               Traceback (most recent call last)",
      "Cell \u001b[1;32mIn[13], line 8\u001b[0m\n\u001b[0;32m      6\u001b[0m \u001b[38;5;28;01mfor\u001b[39;00m index \u001b[38;5;129;01min\u001b[39;00m \u001b[38;5;28mrange\u001b[39m(min_range,max_range):\n\u001b[0;32m      7\u001b[0m     \u001b[38;5;28mprint\u001b[39m(index\u001b[38;5;241m+\u001b[39m\u001b[38;5;241m1\u001b[39m\u001b[38;5;241m-\u001b[39mmin_range, \u001b[38;5;124m\"\u001b[39m\u001b[38;5;124m out of \u001b[39m\u001b[38;5;124m\"\u001b[39m, max_range\u001b[38;5;241m-\u001b[39mmin_range)\n\u001b[1;32m----> 8\u001b[0m     info_one_mask\u001b[38;5;241m=\u001b[39m construct_ellipses_network(mask_list[index])\n\u001b[0;32m      9\u001b[0m     ellipses_network\u001b[38;5;241m=\u001b[39mellipses_network\u001b[38;5;241m+\u001b[39minfo_one_mask[\u001b[38;5;124m'\u001b[39m\u001b[38;5;124mellipses_3D\u001b[39m\u001b[38;5;124m'\u001b[39m]\n\u001b[0;32m     10\u001b[0m     ellipses_network_ok\u001b[38;5;241m=\u001b[39mnp\u001b[38;5;241m.\u001b[39mwhere(ellipses_network\u001b[38;5;241m>\u001b[39m\u001b[38;5;241m255\u001b[39m,\u001b[38;5;241m255\u001b[39m,ellipses_network)\n",
      "Cell \u001b[1;32mIn[8], line 15\u001b[0m, in \u001b[0;36mconstruct_ellipses_network\u001b[1;34m(mask)\u001b[0m\n\u001b[0;32m     12\u001b[0m list_params\u001b[38;5;241m=\u001b[39mfit_ellipses(mask, rangemin, rangemax)\n\u001b[0;32m     13\u001b[0m \u001b[38;5;66;03m# ellipses_3d=create_3d_ellipses(list_params,mask.shape, rangemin, rangemax)\u001b[39;00m\n\u001b[1;32m---> 15\u001b[0m new_list_param\u001b[38;5;241m=\u001b[39mpredict_and_compare_values(list_params)\n\u001b[0;32m     16\u001b[0m new_ellipses_3d\u001b[38;5;241m=\u001b[39mcreate_3d_ellipses(new_list_param,mask\u001b[38;5;241m.\u001b[39mshape, rangemin, rangemax, dilate\u001b[38;5;241m=\u001b[39m\u001b[38;5;28;01mTrue\u001b[39;00m)\n\u001b[0;32m     18\u001b[0m before\u001b[38;5;241m=\u001b[39mnp\u001b[38;5;241m.\u001b[39mzeros((rangemin, mask\u001b[38;5;241m.\u001b[39mshape[\u001b[38;5;241m1\u001b[39m],mask\u001b[38;5;241m.\u001b[39mshape[\u001b[38;5;241m1\u001b[39m]))\n",
      "Cell \u001b[1;32mIn[4], line 6\u001b[0m, in \u001b[0;36mpredict_and_compare_values\u001b[1;34m(list_params)\u001b[0m\n\u001b[0;32m      4\u001b[0m list_products \u001b[38;5;241m=\u001b[39m [my_tuple[\u001b[38;5;241m1\u001b[39m][\u001b[38;5;241m0\u001b[39m]\u001b[38;5;241m*\u001b[39mmy_tuple[\u001b[38;5;241m1\u001b[39m][\u001b[38;5;241m1\u001b[39m] \u001b[38;5;28;01mfor\u001b[39;00m my_tuple \u001b[38;5;129;01min\u001b[39;00m list_params]\n\u001b[0;32m      5\u001b[0m list_indexes\u001b[38;5;241m=\u001b[39m [ i \u001b[38;5;28;01mfor\u001b[39;00m i \u001b[38;5;129;01min\u001b[39;00m \u001b[38;5;28mrange\u001b[39m(\u001b[38;5;28mlen\u001b[39m(list_products))]\n\u001b[1;32m----> 6\u001b[0m fit \u001b[38;5;241m=\u001b[39m np\u001b[38;5;241m.\u001b[39mpolyfit(list_indexes, list_products, deg\u001b[38;5;241m=\u001b[39m\u001b[38;5;241m1\u001b[39m)\n\u001b[0;32m      7\u001b[0m predict_size_area \u001b[38;5;241m=\u001b[39m np\u001b[38;5;241m.\u001b[39mpoly1d(fit)\n\u001b[0;32m      8\u001b[0m list_products_predicted\u001b[38;5;241m=\u001b[39m[predict_size_area(index) \u001b[38;5;28;01mfor\u001b[39;00m index \u001b[38;5;129;01min\u001b[39;00m list_indexes]\n",
      "File \u001b[1;32m<__array_function__ internals>:200\u001b[0m, in \u001b[0;36mpolyfit\u001b[1;34m(*args, **kwargs)\u001b[0m\n",
      "File \u001b[1;32mc:\\Users\\zoeba\\anaconda3\\Lib\\site-packages\\numpy\\lib\\polynomial.py:668\u001b[0m, in \u001b[0;36mpolyfit\u001b[1;34m(x, y, deg, rcond, full, w, cov)\u001b[0m\n\u001b[0;32m    666\u001b[0m scale \u001b[38;5;241m=\u001b[39m NX\u001b[38;5;241m.\u001b[39msqrt((lhs\u001b[38;5;241m*\u001b[39mlhs)\u001b[38;5;241m.\u001b[39msum(axis\u001b[38;5;241m=\u001b[39m\u001b[38;5;241m0\u001b[39m))\n\u001b[0;32m    667\u001b[0m lhs \u001b[38;5;241m/\u001b[39m\u001b[38;5;241m=\u001b[39m scale\n\u001b[1;32m--> 668\u001b[0m c, resids, rank, s \u001b[38;5;241m=\u001b[39m lstsq(lhs, rhs, rcond)\n\u001b[0;32m    669\u001b[0m c \u001b[38;5;241m=\u001b[39m (c\u001b[38;5;241m.\u001b[39mT\u001b[38;5;241m/\u001b[39mscale)\u001b[38;5;241m.\u001b[39mT  \u001b[38;5;66;03m# broadcast scale coefficients\u001b[39;00m\n\u001b[0;32m    671\u001b[0m \u001b[38;5;66;03m# warn on rank reduction, which indicates an ill conditioned matrix\u001b[39;00m\n",
      "File \u001b[1;32m<__array_function__ internals>:200\u001b[0m, in \u001b[0;36mlstsq\u001b[1;34m(*args, **kwargs)\u001b[0m\n",
      "File \u001b[1;32mc:\\Users\\zoeba\\anaconda3\\Lib\\site-packages\\numpy\\linalg\\linalg.py:2285\u001b[0m, in \u001b[0;36mlstsq\u001b[1;34m(a, b, rcond)\u001b[0m\n\u001b[0;32m   2282\u001b[0m \u001b[38;5;28;01mif\u001b[39;00m n_rhs \u001b[38;5;241m==\u001b[39m \u001b[38;5;241m0\u001b[39m:\n\u001b[0;32m   2283\u001b[0m     \u001b[38;5;66;03m# lapack can't handle n_rhs = 0 - so allocate the array one larger in that axis\u001b[39;00m\n\u001b[0;32m   2284\u001b[0m     b \u001b[38;5;241m=\u001b[39m zeros(b\u001b[38;5;241m.\u001b[39mshape[:\u001b[38;5;241m-\u001b[39m\u001b[38;5;241m2\u001b[39m] \u001b[38;5;241m+\u001b[39m (m, n_rhs \u001b[38;5;241m+\u001b[39m \u001b[38;5;241m1\u001b[39m), dtype\u001b[38;5;241m=\u001b[39mb\u001b[38;5;241m.\u001b[39mdtype)\n\u001b[1;32m-> 2285\u001b[0m x, resids, rank, s \u001b[38;5;241m=\u001b[39m gufunc(a, b, rcond, signature\u001b[38;5;241m=\u001b[39msignature, extobj\u001b[38;5;241m=\u001b[39mextobj)\n\u001b[0;32m   2286\u001b[0m \u001b[38;5;28;01mif\u001b[39;00m m \u001b[38;5;241m==\u001b[39m \u001b[38;5;241m0\u001b[39m:\n\u001b[0;32m   2287\u001b[0m     x[\u001b[38;5;241m.\u001b[39m\u001b[38;5;241m.\u001b[39m\u001b[38;5;241m.\u001b[39m] \u001b[38;5;241m=\u001b[39m \u001b[38;5;241m0\u001b[39m\n",
      "File \u001b[1;32mc:\\Users\\zoeba\\anaconda3\\Lib\\site-packages\\numpy\\linalg\\linalg.py:101\u001b[0m, in \u001b[0;36m_raise_linalgerror_lstsq\u001b[1;34m(err, flag)\u001b[0m\n\u001b[0;32m    100\u001b[0m \u001b[38;5;28;01mdef\u001b[39;00m \u001b[38;5;21m_raise_linalgerror_lstsq\u001b[39m(err, flag):\n\u001b[1;32m--> 101\u001b[0m     \u001b[38;5;28;01mraise\u001b[39;00m LinAlgError(\u001b[38;5;124m\"\u001b[39m\u001b[38;5;124mSVD did not converge in Linear Least Squares\u001b[39m\u001b[38;5;124m\"\u001b[39m)\n",
      "\u001b[1;31mLinAlgError\u001b[0m: SVD did not converge in Linear Least Squares"
     ]
    }
   ],
   "source": [
    "min_range=0\n",
    "max_range=9#len(mask_list)\n",
    "info_one_mask={}\n",
    "ellipses_network=np.zeros_like(mask_list[0])#, dtype=np.uint8)\n",
    "arteries_network=np.zeros_like(mask_list[0])#, dtype=np.uint8)\n",
    "for index in range(min_range,max_range):\n",
    "    print(index+1-min_range, \" out of \", max_range-min_range)\n",
    "    info_one_mask= construct_ellipses_network(mask_list[index])\n",
    "    ellipses_network=ellipses_network+info_one_mask['ellipses_3D']\n",
    "    ellipses_network_ok=np.where(ellipses_network>255,255,ellipses_network)\n",
    "\n",
    "    arteries=keeping_arteries_only(info_one_mask['ellipses_3D'], image_array)\n",
    "    #here we do the stats, within a function\n",
    "    arteries_network=arteries_network+arteries\n",
    "    arteries_network=np.where(arteries_network>255,arteries_network/2,arteries_network)  "
   ]
  },
  {
   "cell_type": "code",
   "execution_count": 14,
   "metadata": {},
   "outputs": [
    {
     "name": "stderr",
     "output_type": "stream",
     "text": [
      "WARNING: QWindowsWindow::setGeometry: Unable to set geometry 1920x984+0+34 (frame: 1942x1040-11-11) on QWidgetWindow/\"_QtMainWindowClassWindow\" on \"\\\\.\\DISPLAY1\". Resulting geometry: 1920x974+0+34 (frame: 1942x1030-11-11) margins: 11, 45, 11, 11 minimum size: 545x492 MINMAXINFO maxSize=0,0 maxpos=0,0 mintrack=1112,1040 maxtrack=0,0)\n"
     ]
    }
   ],
   "source": [
    "viewer = napari.Viewer()\n",
    "image_layer = viewer.add_image(arteries_network, colormap=\"gray\", contrast_limits=(0,255))\n",
    "image_layer = viewer.add_image(ellipses_network, colormap=\"blue\", contrast_limits=(0,255), blending=\"additive\")\n",
    "napari.run()"
   ]
  },
  {
   "cell_type": "markdown",
   "metadata": {},
   "source": [
    "on one mask only"
   ]
  },
  {
   "cell_type": "code",
   "execution_count": 28,
   "metadata": {},
   "outputs": [],
   "source": [
    "# mask = mask_list[0]\n",
    "# rangemin,rangemax=find_slice_with_mask(mask)\n",
    "# arteries=keeping_arteries_only(new_ellipses3D, image_array[rangemin:rangemax])\n",
    "\n",
    "# viewer = napari.Viewer()\n",
    "# image_layer = viewer.add_image(arteries, colormap=\"gray\", contrast_limits=(0,255))\n",
    "# napari.run()"
   ]
  }
 ],
 "metadata": {
  "kernelspec": {
   "display_name": "Python 3",
   "language": "python",
   "name": "python3"
  },
  "language_info": {
   "codemirror_mode": {
    "name": "ipython",
    "version": 3
   },
   "file_extension": ".py",
   "mimetype": "text/x-python",
   "name": "python",
   "nbconvert_exporter": "python",
   "pygments_lexer": "ipython3",
   "version": "3.11.5"
  }
 },
 "nbformat": 4,
 "nbformat_minor": 2
}
