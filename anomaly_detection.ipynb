{
 "cells": [
  {
   "cell_type": "code",
   "execution_count": 1,
   "metadata": {},
   "outputs": [
    {
     "name": "stderr",
     "output_type": "stream",
     "text": [
      "c:\\Users\\zoeba\\anaconda3\\Lib\\site-packages\\paramiko\\transport.py:219: CryptographyDeprecationWarning: Blowfish has been deprecated\n",
      "  \"class\": algorithms.Blowfish,\n"
     ]
    }
   ],
   "source": [
    "import numpy as np\n",
    "from pathlib import Path\n",
    "import cv2\n",
    "import pandas as pd\n",
    "from skimage import measure, filters, draw\n",
    "import matplotlib.pyplot as plt\n",
    "from matplotlib.patches import Ellipse\n",
    "import tqdm \n",
    "from scipy import ndimage\n",
    "\n",
    "import SimpleITK as sitk\n",
    "import itkwidgets \n",
    "import napari\n",
    "import copy\n",
    "import gzip\n",
    "import time\n",
    "\n",
    "from napari.utils.colormaps import colormap_utils as cu"
   ]
  },
  {
   "cell_type": "code",
   "execution_count": 2,
   "metadata": {},
   "outputs": [],
   "source": [
    "def find_slice_with_mask(mask):\n",
    "    '''\n",
    "    Détecte sur les index des premières et dernière tranches d'un masque. \n",
    "    Args:\n",
    "        mask (np array): le masque ou le fond est des 1 et le masque des 0\n",
    "    Return:\n",
    "        (rangemin,rangemax) (int,int): tuple avec l'index des premières et dernière tranches d'un masque. \n",
    "    '''\n",
    "    nb_slices_with_masks=[]\n",
    "    for nb_slice in range(mask.shape[0]-1, 0,-1):\n",
    "        if 255 in mask[nb_slice]:\n",
    "            nb_slices_with_masks.append(nb_slice)\n",
    "    rangemin = np.min(nb_slices_with_masks) #mask 1\n",
    "    rangemax = np.max(nb_slices_with_masks) #mask 1\n",
    "    return (rangemin,rangemax)"
   ]
  },
  {
   "cell_type": "code",
   "execution_count": 3,
   "metadata": {},
   "outputs": [],
   "source": [
    "def fit_ellipses(mask, rangemin, rangemax):\n",
    "    ''' \n",
    "    Le but est de récuperer les paramètres d'une liste ellipse en fonction d'une liste de masques fournis par le network construction\n",
    "    Args :\n",
    "        mask (numpy array) : masque des artères\n",
    "        rangemin (int): début des coupes sélectionnées\n",
    "        rangemax (int): fin des coupes sélectionnées\n",
    "    Return:\n",
    "        list_params_ellipses_to_return (list[list[double]]): paramètres de chaque ellipse\n",
    "    '''\n",
    "    list_params_ellipses=[]\n",
    "    for index_img in (reversed(range(rangemax-rangemin))):\n",
    "        img=mask[rangemin+index_img]\n",
    "        contours_found,_=cv2.findContours(img.astype(np.uint8), method=cv2.RETR_LIST, mode=cv2.CHAIN_APPROX_SIMPLE)\n",
    "        if len(contours_found)>0: ## attention à remodifier\n",
    "            if len(contours_found[0])>5:\n",
    "                ellipse=cv2.fitEllipse(contours_found[0])\n",
    "                ellipse_ok=((ellipse[0][0], ellipse[0][1]), (ellipse[1][0]/2,ellipse[1][1]/2), ellipse[2])\n",
    "                # print(ellipse_ok)\n",
    "                list_params_ellipses.append(ellipse_ok)\n",
    "            else:\n",
    "                ellipse_ok=((list_params_ellipses[-1][0][0], list_params_ellipses[-1][0][1]), (list_params_ellipses[-1][1][0]/2,ellipse[1][1]/2), list_params_ellipses[-1][2])\n",
    "                list_params_ellipses.append(ellipse_ok)\n",
    "        else:\n",
    "            print(\"erreur nb contours\")\n",
    "            \n",
    "    list_params_ellipses.reverse()\n",
    "    return list_params_ellipses"
   ]
  },
  {
   "cell_type": "code",
   "execution_count": 4,
   "metadata": {},
   "outputs": [],
   "source": [
    "def predict_and_compare_values(list_params, rangemin, all_ranges_max):\n",
    "    '''\n",
    "    Ajuste les paramêtre des ellispes les unes par rapport au autres. \n",
    "    Args:\n",
    "        list_params (list): les paramêtres originaux des ellipses pour un mask donné\n",
    "        rangemin (int) : l'index de la première tranche de ce mask\n",
    "        all_ranges_max (list[int]): les index maximums de chaque mask\n",
    "    Return:\n",
    "        new_list_params (list): les paramêtres des ellipses après modification pour un mask donné \n",
    "    '''\n",
    "    new_list_params=[list_params[-1]]\n",
    "    list_products = [my_tuple[1][0]*my_tuple[1][1] for my_tuple in list_params]\n",
    "    list_indexes= [ i for i in range(len(list_products))]\n",
    "    fit = np.polyfit(list_indexes, list_products, deg=1)\n",
    "    predict_size_area = np.poly1d(fit)\n",
    "    list_products_predicted=[predict_size_area(index) for index in list_indexes]\n",
    "    \n",
    "    count=0\n",
    "    for index in reversed(range(len(list_products_predicted)-1)):\n",
    "        product_predicted=list_products_predicted[index]\n",
    "        if np.abs((product_predicted-list_products[index])*100/product_predicted)<50: #si moins de 10 pourcent d'erreurs, je garde ma value originales\n",
    "            new_list_params.append(list_params[index])\n",
    "        elif (index+rangemin) in all_ranges_max:#si je suis à une jonction de 2 mask = bifurcation\n",
    "            new_list_params.append(list_params[index])\n",
    "        else: #sinon, je mets les param de l'ellipse précédente\n",
    "            new_list_params.append(new_list_params[-1])\n",
    "            count+=1\n",
    "    new_list_params.reverse()\n",
    "    return new_list_params"
   ]
  },
  {
   "cell_type": "code",
   "execution_count": 5,
   "metadata": {},
   "outputs": [],
   "source": [
    "def dilation(img_3D, kernel_size):\n",
    "    ''' \n",
    "    Dilatation d'une image \n",
    "    Args:\n",
    "        img_3D (numpy array): image à dilater\n",
    "        kernel_size (int): taille du kernel\n",
    "    '''\n",
    "    kernel = cv2.getStructuringElement(cv2.MORPH_ELLIPSE,(kernel_size,kernel_size))\n",
    "    for index, slice in enumerate(img_3D):\n",
    "        img_3D[index] = cv2.dilate(img_3D[index] , kernel, iterations=1)"
   ]
  },
  {
   "cell_type": "code",
   "execution_count": 6,
   "metadata": {},
   "outputs": [],
   "source": [
    "def create_3d_ellipses(list_params_ellipses, shape_image, rangemin, rangemax, dilate=False):\n",
    "    ''' \n",
    "    Draw 3d ellipses on a white image\n",
    "    Args:\n",
    "        list_params_ellipses (list[list[double]]): the parameters of each ellipse\n",
    "        mask (numpy array): the initial masks\n",
    "        rangemin (int): first slice of the mask\n",
    "        rangemax (int): last slice of the mask\n",
    "        dilate (Boolean): indicatinf if neede to dliate of not the image\n",
    "    Return:\n",
    "        ellipses_3d (numpy array): images with drawing of ellipses on it\n",
    "    '''\n",
    "    ellipses_3d = []\n",
    "    for index_img in (range(rangemax-rangemin)):\n",
    "        ellipse_mask = np.zeros((shape_image[1],shape_image[2]), dtype=np.uint8)\n",
    "        params = list_params_ellipses[index_img]\n",
    "        center = (int(params[0][0]),int(params[0][1]))\n",
    "        axis = (int(params[1][0]),int(params[1][1]))\n",
    "        angle = int(params[2])\n",
    "        color = 255\n",
    "        cv2.ellipse(ellipse_mask, center, axis, angle, 0, 360, color,-1)\n",
    "        ellipses_3d.append(ellipse_mask)\n",
    "    numpy_ellipse_3d=np.array(ellipses_3d)\n",
    "    if dilate:\n",
    "        dilation(numpy_ellipse_3d, kernel_size=4)\n",
    "    return numpy_ellipse_3d"
   ]
  },
  {
   "cell_type": "code",
   "execution_count": 7,
   "metadata": {},
   "outputs": [],
   "source": [
    "def keeping_arteries_only(filled_ellipses, image):\n",
    "    '''\n",
    "    Le but est de garder l'image originale en la restreignant à l'intérieur des ellipses.\n",
    "    Args:\n",
    "        filled_ellipses (np.array): les ellipses remplies\n",
    "        image (np.array): image d'origine \n",
    "    Return:\n",
    "        list_arteries_only (np.array): l'image originale restreinte à l'intérieur des ellipses\n",
    "    ''' \n",
    "    list_arteries_only=np.where(filled_ellipses==255, image, 0)\n",
    "    return list_arteries_only"
   ]
  },
  {
   "cell_type": "code",
   "execution_count": 8,
   "metadata": {},
   "outputs": [],
   "source": [
    "def construct_ellipses_network(mask, rangemin,rangemax, all_ranges_max):\n",
    "    #working on it \n",
    "    '''\n",
    "    En partant de la liste de masques construite par la network construction, des ellipses sont approximées pour reconstruire un réseau artériel lisse. \n",
    "    Args:\n",
    "        mask_list (list[np.array]): la liste des masque construite par la network construction\n",
    "        rangemin (int): last slice of the mask in the total 3D block\n",
    "        rangemax (int): first slice of the mask in the total 3D block\n",
    "        all_ranges_max (list[int]): les index maximums de chaque mask\n",
    "\n",
    "    Return:\n",
    "        info_all_masks (list[dic]): une liste où pour chaque loigne (qui correspond à un masque), il y a un dictionnaire où les clefs sont: rangemin, rangemax, mask,  smooth_ellipses\n",
    "    ''' \n",
    "    list_params=fit_ellipses(mask, rangemin, rangemax)\n",
    "       \n",
    "    new_list_param=predict_and_compare_values(list_params, rangemin, all_ranges_max)\n",
    "    new_ellipses_3d=create_3d_ellipses(new_list_param,mask.shape, rangemin, rangemax, dilate=True)\n",
    "\n",
    "    before=np.zeros((rangemin, mask.shape[1],mask.shape[1]))\n",
    "    after=np.zeros((mask.shape[0]-rangemax, mask.shape[1],mask.shape[1]))\n",
    "    whole_size_ellipses_3D=np.concatenate((before,new_ellipses_3d,after))\n",
    "\n",
    "    info_of_one_mask={'rangemin':rangemin,'rangemax':rangemax,'mask':mask, 'ellipses_3D':whole_size_ellipses_3D}\n",
    "    return info_of_one_mask"
   ]
  },
  {
   "cell_type": "code",
   "execution_count": 15,
   "metadata": {},
   "outputs": [],
   "source": [
    "def construct_mask_network(mask_list,min_range,max_range):\n",
    "    '''\n",
    "    En partant de la liste de masques, le réseau complet est construit. \n",
    "    Args:\n",
    "        mask_list (list[np.array]): la liste des masque construite par la network construction\n",
    "        min_range (int): l'index du premier masque à traiter\n",
    "        max_range (int): l'index du dernier masque à traiter\n",
    "\n",
    "    Return:\n",
    "        mask_network (np.array): l'image 3D où le réseau de mask est reconstitué\n",
    "    ''' \n",
    "    mask_network=np.zeros(mask_list[0].shape)\n",
    "    print(\"Constructing the mask network...\", end= \" \")\n",
    "    for index_mask in (range(min_range, max_range)):\n",
    "        mask_network=np.where(mask_list[index_mask]!=0,mask_list[index_mask],mask_network)  \n",
    "    print(\"Done\")\n",
    "    return mask_network"
   ]
  },
  {
   "cell_type": "code",
   "execution_count": 16,
   "metadata": {},
   "outputs": [],
   "source": [
    "def constructing_all_networks(image_preprocessed, mask_list, min_range, max_range, reconstruct_ellipse=False, reconstruct_arteries=False, reconstruct_masks=False):\n",
    "    '''\n",
    "    Fonction qui permet de construire les réseaux d'artères, d'ellipses et de masks. \n",
    "    Args:\n",
    "        image_preprocessed (np.array): l'image pré-traitée\n",
    "        mask_list (list[np.array]): la liste des masque construite par la network construction\n",
    "        min_range (int): l'index du premier masque à traiter\n",
    "        max_range (int): l'index du dernier masque à traiter\n",
    "        reconstruct_ellipse (boolean): indique si le réseau d'ellipses doit être construit\n",
    "        reconstruct_arteries (boolean): indique si le réseau d'artères doit être construit\n",
    "        reconstruct_masks (boolean): indique si le réseau de masks doit être construit\n",
    "\n",
    "    Return:\n",
    "        mask_network (np.array): l'image 3D où le réseau de mask est reconstitué\n",
    "        ellipses_network (np.array): l'image 3D où le réseau d'ellipses est reconstitué\n",
    "        arteries_network (np.array): l'image 3D où le réseau d'artères est reconstitué\n",
    "    ''' \n",
    "    ellipses_network=np.zeros_like(mask_list[0])\n",
    "    arteries_network=np.zeros_like(mask_list[0])\n",
    "    mask_network=np.zeros_like(mask_list[0])\n",
    "\n",
    "    all_ranges_max=[] #storing all index where there is a bifurcation\n",
    "    for index in range(len(mask_list)):\n",
    "        all_ranges_max.append(find_slice_with_mask(mask_list[index])[1])\n",
    "\n",
    "    if (max_range-min_range)==1:\n",
    "        print(1, \" out of \", 1)\n",
    "        rangemin,rangemax=find_slice_with_mask(mask_list[min_range])\n",
    "        info_one_mask= construct_ellipses_network(mask_list[min_range],rangemin,rangemax+1, all_ranges_max)\n",
    "        ellipses_network=info_one_mask['ellipses_3D']\n",
    "        arteries_network=keeping_arteries_only(info_one_mask['ellipses_3D'], image_preprocessed)\n",
    "        mask_network=mask_list[min_range]\n",
    "    else:\n",
    "        for index in tqdm.tqdm(range(min_range,max_range)):\n",
    "            # print(index+1-min_range, \" out of \", max_range-min_range, \" masks done\")\n",
    "\n",
    "            rangemin,rangemax=find_slice_with_mask(mask_list[index])\n",
    "            info_one_mask= construct_ellipses_network(mask_list[index],rangemin,rangemax+1, all_ranges_max)\n",
    "    \n",
    "            if reconstruct_ellipse:\n",
    "                ellipses_network=np.where(info_one_mask['ellipses_3D']!=0, info_one_mask['ellipses_3D'], ellipses_network)\n",
    "            arteries_whole=keeping_arteries_only(info_one_mask['ellipses_3D'], image_preprocessed)\n",
    "            if reconstruct_arteries:\n",
    "                arteries_network=np.where(arteries_whole!=0,arteries_whole, arteries_network)\n",
    "\n",
    "        if reconstruct_masks :\n",
    "            mask_network=construct_mask_network(mask_list,min_range,max_range)\n",
    "    return mask_network, ellipses_network, arteries_network"
   ]
  },
  {
   "cell_type": "code",
   "execution_count": 17,
   "metadata": {},
   "outputs": [
    {
     "name": "stdout",
     "output_type": "stream",
     "text": [
      "(12, 1532, 512, 512)\n"
     ]
    }
   ],
   "source": [
    "f = gzip.GzipFile('temp/mask_list.npy.gz', \"r\")\n",
    "mask_list = np.load(f)\n",
    "print(mask_list.shape)\n",
    "image_preprocessed = np.load(Path(\"temp/preprocessed_image.npy\"))\n"
   ]
  },
  {
   "cell_type": "markdown",
   "metadata": {},
   "source": [
    "# attention à mettre False en argument de la fonction"
   ]
  },
  {
   "cell_type": "code",
   "execution_count": 20,
   "metadata": {},
   "outputs": [
    {
     "name": "stderr",
     "output_type": "stream",
     "text": [
      "100%|██████████| 7/7 [01:03<00:00,  9.11s/it]\n"
     ]
    },
    {
     "name": "stdout",
     "output_type": "stream",
     "text": [
      "Constructin the mask network... Done\n"
     ]
    }
   ],
   "source": [
    "minrange=0\n",
    "maxrange=7\n",
    "mask_network, ellipses_network, arteries_network=constructing_all_networks(\n",
    "    image_preprocessed, \n",
    "    mask_list, \n",
    "    min_range=minrange, \n",
    "    max_range=maxrange, \n",
    "    reconstruct_ellipse=True, \n",
    "    reconstruct_arteries=True, \n",
    "    reconstruct_masks=True)"
   ]
  },
  {
   "cell_type": "code",
   "execution_count": 19,
   "metadata": {},
   "outputs": [
    {
     "name": "stderr",
     "output_type": "stream",
     "text": [
      "WARNING: QWindowsWindow::setGeometry: Unable to set geometry 1920x984+0+34 (frame: 1942x1040-11-11) on QWidgetWindow/\"_QtMainWindowClassWindow\" on \"\\\\.\\DISPLAY1\". Resulting geometry: 1920x974+0+34 (frame: 1942x1030-11-11) margins: 11, 45, 11, 11 minimum size: 545x492 MINMAXINFO maxSize=0,0 maxpos=0,0 mintrack=1112,1040 maxtrack=0,0)\n"
     ]
    }
   ],
   "source": [
    "viewer = napari.Viewer()\n",
    "image_layer = viewer.add_image(arteries_network, colormap=\"gray\", contrast_limits=(0,255))\n",
    "image_layer = viewer.add_image(ellipses_network, colormap=\"blue\", contrast_limits=(0,255), blending=\"additive\")\n",
    "image_layer = viewer.add_image(mask_network, colormap=\"green\", contrast_limits=(0,255), blending=\"additive\")\n",
    "napari.run()"
   ]
  },
  {
   "cell_type": "code",
   "execution_count": 19,
   "metadata": {},
   "outputs": [],
   "source": [
    "image_original = sitk.ReadImage(Path(\"data/anonymise_patient1.mhd\"))\n",
    "image_original_array = sitk.GetArrayViewFromImage(image_original)"
   ]
  },
  {
   "cell_type": "code",
   "execution_count": 20,
   "metadata": {},
   "outputs": [],
   "source": [
    "to_view=np.where(ellipses_network==255, arteries_network, image_original_array)"
   ]
  },
  {
   "cell_type": "code",
   "execution_count": 21,
   "metadata": {},
   "outputs": [],
   "source": [
    "viewer = napari.Viewer()\n",
    "image_layer = viewer.add_image(to_view, colormap=\"gray\", contrast_limits=(0,255))\n",
    "image_layer = viewer.add_image(ellipses_network, colormap=\"blue\", contrast_limits=(0,255), blending=\"additive\")\n",
    "image_layer = viewer.add_image(mask_network, colormap=\"green\", contrast_limits=(0,255), blending=\"additive\")\n",
    "napari.run()"
   ]
  },
  {
   "cell_type": "markdown",
   "metadata": {},
   "source": [
    "saved just in case\n"
   ]
  },
  {
   "cell_type": "code",
   "execution_count": null,
   "metadata": {},
   "outputs": [],
   "source": [
    "min_range=0\n",
    "max_range=6#len(mask_list)\n",
    "info_one_mask={}\n",
    "ellipses_network=np.zeros_like(mask_list[0])#, dtype=np.uint8)\n",
    "arteries_network=np.zeros_like(mask_list[0])#, dtype=np.uint8)\n",
    "\n",
    "reconstruct_ellipse=True\n",
    "reconstruct_arteries=True\n",
    "\n",
    "all_ranges_max=[]\n",
    "for index in range(len(mask_list)):\n",
    "    all_ranges_max.append(find_slice_with_mask(mask_list[index])[1])\n",
    "\n",
    "\n",
    "for index in range(min_range,max_range):\n",
    "    print(index+1-min_range, \" out of \", max_range-min_range)\n",
    "\n",
    "    rangemin,rangemax=find_slice_with_mask(mask_list[index])\n",
    "\n",
    "    info_one_mask= construct_ellipses_network(mask_list[index],rangemin,rangemax+1, all_ranges_max) #test, +1 ici \n",
    "    if reconstruct_ellipse:\n",
    "        ellipses_network=ellipses_network+info_one_mask['ellipses_3D']\n",
    "        ellipses_network_ok=np.where(ellipses_network>255,255,ellipses_network)\n",
    "    arteries_whole=keeping_arteries_only(info_one_mask['ellipses_3D'], image_preprocessed)\n",
    "    \n",
    "    if reconstruct_arteries:\n",
    "        arteries_network=arteries_network+arteries_whole\n",
    "        arteries_network=np.where(arteries_network>255,arteries_network/2,arteries_network)  "
   ]
  },
  {
   "cell_type": "code",
   "execution_count": 28,
   "metadata": {},
   "outputs": [],
   "source": [
    "mask_network=construct_mask_network(mask_list,min_range,max_range)"
   ]
  }
 ],
 "metadata": {
  "kernelspec": {
   "display_name": "Python 3",
   "language": "python",
   "name": "python3"
  },
  "language_info": {
   "codemirror_mode": {
    "name": "ipython",
    "version": 3
   },
   "file_extension": ".py",
   "mimetype": "text/x-python",
   "name": "python",
   "nbconvert_exporter": "python",
   "pygments_lexer": "ipython3",
   "version": "3.11.5"
  }
 },
 "nbformat": 4,
 "nbformat_minor": 2
}
