{
 "cells": [
  {
   "cell_type": "code",
   "execution_count": 2,
   "metadata": {},
   "outputs": [],
   "source": [
    "import numpy as np\n",
    "from pathlib import Path\n",
    "import cv2\n",
    "import pandas as pd\n",
    "from skimage import measure, filters, draw\n",
    "import matplotlib.pyplot as plt\n",
    "from matplotlib.patches import Ellipse\n",
    "import tqdm \n",
    "from scipy import ndimage\n",
    "\n",
    "import SimpleITK as sitk\n",
    "import itkwidgets \n",
    "import napari\n",
    "import copy\n",
    "\n",
    "from napari.utils.colormaps import colormap_utils as cu"
   ]
  },
  {
   "cell_type": "code",
   "execution_count": 3,
   "metadata": {},
   "outputs": [],
   "source": [
    "def find_slice_with_mask(mask):\n",
    "    '''\n",
    "    Détecte sur les index des premières et dernière tranches d'un masque. \n",
    "    Args:\n",
    "        mask (np array): le masque ou le fond est des 1 et le masque des 0\n",
    "    Return:\n",
    "        (rangemin,rangemax) (int,int): tuple avec l'index des premières et dernière tranches d'un masque. \n",
    "    '''\n",
    "    nb_slices_with_masks=[]\n",
    "    for nb_slice in range(mask.shape[0]-1, 0,-1):\n",
    "        if 255 in mask[nb_slice]:\n",
    "            nb_slices_with_masks.append(nb_slice)\n",
    "    rangemin = np.min(nb_slices_with_masks) #mask 1\n",
    "    rangemax = np.max(nb_slices_with_masks) #mask 1\n",
    "    return (rangemin,rangemax)"
   ]
  },
  {
   "cell_type": "code",
   "execution_count": 4,
   "metadata": {},
   "outputs": [],
   "source": [
    "def fit_ellipses(mask, rangemin, rangemax):\n",
    "    ''' \n",
    "    Le but est de récuperer les paramètres d'une liste ellipse en fonction d'une liste de masques fournis par le network construction\n",
    "    Args :\n",
    "        mask (numpy array) : masque des artères\n",
    "        rangemin (int): début des coupes sélectionnées\n",
    "        rangemax (int): fin des coupes sélectionnées\n",
    "    Return:\n",
    "        list_params_ellipses_to_return (list[list[double]]): paramètres de chaque ellipse\n",
    "    '''\n",
    "    list_params_ellipses=[]\n",
    "    for index_img in tqdm.tqdm(reversed(range(rangemax-rangemin))):\n",
    "        img=mask[rangemin+index_img]\n",
    "        contours_found,_=cv2.findContours(img.astype(np.uint8), method=cv2.RETR_LIST, mode=cv2.CHAIN_APPROX_SIMPLE)\n",
    "        if len(contours_found)>0: ## attention à remodifier\n",
    "            if len(contours_found[0])>5:\n",
    "                ellipse=cv2.fitEllipse(contours_found[0])\n",
    "                ellipse_ok=((ellipse[0][0], ellipse[0][1]), (ellipse[1][0]/2,ellipse[1][1]/2), ellipse[2])\n",
    "                # print(ellipse_ok)\n",
    "                list_params_ellipses.append(ellipse_ok)\n",
    "            else:\n",
    "                ellipse_ok=((list_params_ellipses[-1][0][0], list_params_ellipses[-1][0][1]), (list_params_ellipses[-1][1][0]/2,ellipse[1][1]/2), list_params_ellipses[-1][2])\n",
    "                list_params_ellipses.append(ellipse_ok)\n",
    "        else:\n",
    "            print(\"erreur nb contours\")\n",
    "            \n",
    "    list_params_ellipses.reverse()\n",
    "    return list_params_ellipses"
   ]
  },
  {
   "cell_type": "code",
   "execution_count": 5,
   "metadata": {},
   "outputs": [],
   "source": [
    "def predict_and_compare_values(list_params):\n",
    "    #working on it\n",
    "    new_list_params=[list_params[-1]]\n",
    "    list_products = [my_tuple[1][0]*my_tuple[1][1] for my_tuple in list_params]\n",
    "    list_indexes= [ i for i in range(len(list_products))]\n",
    "    fit = np.polyfit(list_indexes, list_products, deg=1)\n",
    "    predict_size_area = np.poly1d(fit)\n",
    "    list_products_predicted=[predict_size_area(index) for index in list_indexes]\n",
    "    \n",
    "    count=0\n",
    "    for index in reversed(range(len(list_products_predicted)-1)):\n",
    "        product_predicted=list_products_predicted[index]\n",
    "        if np.abs((product_predicted-list_products[index])*100/product_predicted)<50: #si moins de 10 pourcent d'erreurs, je garde ma value originales\n",
    "            new_list_params.append(list_params[index])\n",
    "        else: #sinon, je mets les param de l'ellipse précédente\n",
    "            new_list_params.append(new_list_params[-1])\n",
    "            count+=1\n",
    "    # print(\"count \",count)\n",
    "    new_list_params.reverse()\n",
    "    return new_list_params"
   ]
  },
  {
   "cell_type": "code",
   "execution_count": 6,
   "metadata": {},
   "outputs": [],
   "source": [
    "def dilation(img_3D, kernel_size):\n",
    "    ''' \n",
    "    Dilatation d'une image \n",
    "    Args:\n",
    "        img_3D (numpy array): image à dilater\n",
    "        kernel_size (int): taille du kernel\n",
    "    '''\n",
    "    kernel = cv2.getStructuringElement(cv2.MORPH_ELLIPSE,(kernel_size,kernel_size))\n",
    "    for index, slice in enumerate(img_3D):\n",
    "        img_3D[index] = cv2.dilate(img_3D[index] , kernel, iterations=1)"
   ]
  },
  {
   "cell_type": "code",
   "execution_count": 7,
   "metadata": {},
   "outputs": [],
   "source": [
    "def create_3d_ellipses(list_params_ellipses, shape_image, rangemin, rangemax, dilate=False):\n",
    "    ''' \n",
    "    Draw 3d ellipses on a white image\n",
    "    Args:\n",
    "        list_params_ellipses (list[list[double]]): the parameters of each ellipse\n",
    "        mask (numpy array): the initial masks\n",
    "        rangemin (int): first slice of the mask\n",
    "        rangemask (int): last slice of the mask\n",
    "        dilate (Boolean): indicatinf if neede to dliate of not the image\n",
    "    Return:\n",
    "        ellipses_3d (numpy array): images with drawing of ellipses on it\n",
    "    '''\n",
    "    ellipses_3d = []\n",
    "    for index_img in tqdm.tqdm(range(rangemax-rangemin)):\n",
    "        ellipse_mask = np.zeros((shape_image[1],shape_image[2]), dtype=np.uint8)\n",
    "        params = list_params_ellipses[index_img]\n",
    "        center = (int(params[0][0]),int(params[0][1]))\n",
    "        axis = (int(params[1][0]),int(params[1][1]))\n",
    "        angle = int(params[2])\n",
    "        color = 255\n",
    "        cv2.ellipse(ellipse_mask, center, axis, angle, 0, 360, color,-1)\n",
    "        ellipses_3d.append(ellipse_mask)\n",
    "    numpy_ellipse_3d=np.array(ellipses_3d)\n",
    "    if dilate:\n",
    "        dilation(numpy_ellipse_3d, kernel_size=4)\n",
    "    return numpy_ellipse_3d"
   ]
  },
  {
   "cell_type": "code",
   "execution_count": 8,
   "metadata": {},
   "outputs": [],
   "source": [
    "def keeping_arteries_only(filled_ellipses, image):\n",
    "    '''\n",
    "    Le but est de garder l'image originale en la restreignant à l'intérieur des ellipses.\n",
    "    Args:\n",
    "        filled_ellipses (np.array): les ellipses remplies\n",
    "        image (np.array): image d'origine \n",
    "    Return:\n",
    "        list_arteries_only (np.array): l'image originale restreinte à l'intérieur des ellipses\n",
    "    ''' \n",
    "    list_arteries_only=np.where(filled_ellipses==255, image, 0)\n",
    "    return list_arteries_only"
   ]
  },
  {
   "cell_type": "code",
   "execution_count": 9,
   "metadata": {},
   "outputs": [],
   "source": [
    "def construct_ellipses_network(mask):\n",
    "    #working on it \n",
    "    '''\n",
    "    En partant de la liste de masques construite par la network construction, des ellipses sont approximées pour reconstruire un réseau artériel lisse. \n",
    "    Args:\n",
    "        mask_list (list[np.array]): la liste des masque construite par la network construction\n",
    "    Return:\n",
    "        info_all_masks (list[dic]): une liste où pour chaque loigne (qui correspond à un masque), il y a un dictionnaire où les clefs sont: rangemin, rangemax, mask,  smooth_ellipses\n",
    "        ellipses_network (np.array): l'image 3D où le réseau d'ellipse est reconstitué\n",
    "    ''' \n",
    "    rangemin,rangemax=find_slice_with_mask(mask)\n",
    "    list_params=fit_ellipses(mask, rangemin, rangemax)\n",
    "    # ellipses_3d=create_3d_ellipses(list_params,mask.shape, rangemin, rangemax)\n",
    "       \n",
    "    new_list_param=predict_and_compare_values(list_params)\n",
    "    new_ellipses_3d=create_3d_ellipses(new_list_param,mask.shape, rangemin, rangemax, dilate=True)\n",
    "\n",
    "    before=np.zeros((rangemin, mask.shape[1],mask.shape[1]))\n",
    "    after=np.zeros((mask.shape[0]-rangemax, mask.shape[1],mask.shape[1]))\n",
    "    whole_size_ellipses_3D=np.concatenate((before,new_ellipses_3d,after))\n",
    "\n",
    "    info_of_one_mask={'rangemin':rangemin,'rangemax':rangemax,'mask':mask, 'ellipses_3D':whole_size_ellipses_3D}\n",
    "    return info_of_one_mask"
   ]
  },
  {
   "cell_type": "code",
   "execution_count": 10,
   "metadata": {},
   "outputs": [],
   "source": [
    "def construct_mask_network(mask_list,range_to_do):\n",
    "    '''\n",
    " \n",
    "    ''' \n",
    "    mask_network=np.zeros(mask_list[0].shape)\n",
    "    for index_mask in tqdm.tqdm(range(range_to_do)):#len(mask_list))):\n",
    "        mask_ok=np.where(mask_list[index_mask]==255,0,1)\n",
    "        \n",
    "        mask_network=mask_network+mask_ok\n",
    "        mask_network_ok=np.where(mask_network>1,1,mask_network)\n",
    "    return mask_network_ok"
   ]
  },
  {
   "cell_type": "markdown",
   "metadata": {},
   "source": [
    "# constructing the whole network"
   ]
  },
  {
   "cell_type": "code",
   "execution_count": 10,
   "metadata": {},
   "outputs": [
    {
     "name": "stdout",
     "output_type": "stream",
     "text": [
      "(13, 1532, 512, 512)\n"
     ]
    }
   ],
   "source": [
    "import gzip\n",
    "\n",
    "f = gzip.GzipFile('temp/mask_list.npy.gz', \"r\")\n",
    "mask_list = np.load(f)\n",
    "\n",
    "\n",
    "# image_original = sitk.ReadImage(Path(\"data/anonymise_patient1.mhd\"))\n",
    "# reshapeFilter = sitk.IntensityWindowingImageFilter()\n",
    "# reshapeFilter.SetWindowMinimum(0)\n",
    "# reshapeFilter.SetWindowMaximum(1000)\n",
    "# reshapeFilter.SetOutputMinimum(0)\n",
    "# reshapeFilter.SetOutputMaximum(255)\n",
    "# resultReshape = reshapeFilter.Execute(image_original)\n",
    "#image_array_original = sitk.GetArrayFromImage(resultReshape)\n",
    "\n",
    "image_original = np.load(Path(\"temp/preprocessed_image.npy\"))\n",
    "\n",
    "print(mask_list.shape)"
   ]
  },
  {
   "cell_type": "markdown",
   "metadata": {},
   "source": [
    "to plot everything on the same graph"
   ]
  },
  {
   "cell_type": "code",
   "execution_count": 15,
   "metadata": {},
   "outputs": [
    {
     "name": "stdout",
     "output_type": "stream",
     "text": [
      "1  out of  2\n"
     ]
    },
    {
     "name": "stderr",
     "output_type": "stream",
     "text": [
      "265it [00:00, 3209.85it/s]\n",
      "100%|██████████| 265/265 [00:00<00:00, 7424.49it/s]\n"
     ]
    },
    {
     "name": "stdout",
     "output_type": "stream",
     "text": [
      "(265, 512, 512)\n",
      "(265, 512, 512)\n",
      "2  out of  2\n"
     ]
    },
    {
     "name": "stderr",
     "output_type": "stream",
     "text": [
      "230it [00:00, 2533.42it/s]\n",
      "100%|██████████| 230/230 [00:00<00:00, 5849.23it/s]\n"
     ]
    },
    {
     "name": "stdout",
     "output_type": "stream",
     "text": [
      "(230, 512, 512)\n",
      "(230, 512, 512)\n"
     ]
    }
   ],
   "source": [
    "min_range=0\n",
    "max_range=1#len(mask_list)\n",
    "info_one_mask={}\n",
    "ellipses_network=np.zeros_like(mask_list[0])#, dtype=np.uint8)\n",
    "arteries_network=np.zeros_like(mask_list[0])#, dtype=np.uint8)\n",
    "reconstruct_or_not=False\n",
    "for index in range(min_range,max_range):\n",
    "    print(index+1-min_range, \" out of \", max_range-min_range)\n",
    "    info_one_mask= construct_ellipses_network(mask_list[index])\n",
    "    if reconstruct_or_not:\n",
    "        ellipses_network=ellipses_network+info_one_mask['ellipses_3D']\n",
    "        ellipses_network_ok=np.where(ellipses_network>255,255,ellipses_network)\n",
    "    arteries_whole=keeping_arteries_only(info_one_mask['ellipses_3D'], image_original)\n",
    "    rangemin=info_one_mask['rangemin']\n",
    "    rangemax=info_one_mask['rangemax']\n",
    "    arteries_min_max=keeping_arteries_only(info_one_mask['ellipses_3D'][rangemin:rangemax], image_original[rangemin:rangemax])\n",
    "    # np.save(Path(\"temp/arteries\"+str(index)+\".npy\"), arteries_min_max)\n",
    "    print(arteries_min_max.shape)\n",
    "    # np.save(Path(\"temp/ellipses\"+str(index)+\".npy\"), info_one_mask['ellipses_3D'][rangemin:rangemax])\n",
    "    print(info_one_mask['ellipses_3D'][rangemin:rangemax].shape)\n",
    "    #here we do the stats, within a function\n",
    "    if reconstruct_or_not:\n",
    "        arteries_network=arteries_network+arteries_whole\n",
    "        arteries_network=np.where(arteries_network>255,arteries_network/2,arteries_network)  "
   ]
  },
  {
   "cell_type": "code",
   "execution_count": 12,
   "metadata": {},
   "outputs": [
    {
     "name": "stderr",
     "output_type": "stream",
     "text": [
      "WARNING: QWindowsWindow::setGeometry: Unable to set geometry 1920x984+0+34 (frame: 1942x1040-11-11) on QWidgetWindow/\"_QtMainWindowClassWindow\" on \"\\\\.\\DISPLAY1\". Resulting geometry: 1920x974+0+34 (frame: 1942x1030-11-11) margins: 11, 45, 11, 11 minimum size: 545x492 MINMAXINFO maxSize=0,0 maxpos=0,0 mintrack=1112,1040 maxtrack=0,0)\n"
     ]
    }
   ],
   "source": [
    "viewer = napari.Viewer()\n",
    "image_layer = viewer.add_image(arteries_network, colormap=\"gray\", contrast_limits=(0,255))\n",
    "image_layer = viewer.add_image(ellipses_network, colormap=\"blue\", contrast_limits=(0,255), blending=\"additive\")\n",
    "napari.run()"
   ]
  },
  {
   "cell_type": "markdown",
   "metadata": {},
   "source": [
    "on one mask only"
   ]
  },
  {
   "cell_type": "code",
   "execution_count": 28,
   "metadata": {},
   "outputs": [],
   "source": [
    "# mask = mask_list[0]\n",
    "# rangemin,rangemax=find_slice_with_mask(mask)\n",
    "# arteries=keeping_arteries_only(new_ellipses3D, image_array[rangemin:rangemax])\n",
    "\n",
    "# viewer = napari.Viewer()\n",
    "# image_layer = viewer.add_image(arteries, colormap=\"gray\", contrast_limits=(0,255))\n",
    "# napari.run()"
   ]
  },
  {
   "cell_type": "markdown",
   "metadata": {},
   "source": [
    "# Partie stats"
   ]
  },
  {
   "cell_type": "code",
   "execution_count": 12,
   "metadata": {},
   "outputs": [],
   "source": [
    "# np.save(Path(\"temp/arteries.npy\"), arteries)\n",
    "# np.save(Path(\"temp/ellipses.npy\"), new_ellipses3D)\n",
    "arteries = np.load(Path(\"temp/arteries_min_max.npy\"))\n",
    "ellipses3D = np.load(Path(\"temp/ellipses.npy\"))"
   ]
  },
  {
   "cell_type": "markdown",
   "metadata": {},
   "source": [
    "Récupérer une liste de valeurs de pixels par slice, en prenant en compte uniquement les pixels dans l'ellipse"
   ]
  },
  {
   "cell_type": "code",
   "execution_count": 59,
   "metadata": {},
   "outputs": [],
   "source": [
    "arteries_only = np.where(ellipses3D == 255, arteries, np.nan)\n",
    "arteries_only_flatten = arteries_only.reshape(arteries_only.shape[0], arteries_only.shape[1]*arteries_only.shape[2])\n",
    "list_values=[]\n",
    "for slice in arteries_only_flatten:\n",
    "    slice = list(slice[np.logical_not(np.isnan(slice))]) # remove nan\n",
    "    list_values.append(slice)"
   ]
  },
  {
   "cell_type": "code",
   "execution_count": 15,
   "metadata": {},
   "outputs": [],
   "source": [
    "# a modifier pour avoir une classe calcification avec la slice, le pourcentage et le masque de calcification\n",
    "\n",
    "def find_calcifications (pixel_values, pourcentage):\n",
    "    ''' \n",
    "    Fonction pour trouver les calcifications les plus importantes de chaque masque\n",
    "    Args:\n",
    "        pixel_values (list[list[double]]) : valeurs des pixels dans chacune des coupes de l'image\n",
    "        pourcentage (int) : le pourcentage de calcifications qu'on veut retourner \n",
    "    Return:\n",
    "        list_calcifications (list[int, double]) : retourne un tuple avec l'index de la coupe et son pourcentage de calcification\n",
    "    '''\n",
    "    # calcul pourcentage de calcification\n",
    "    proportion_calcification = []\n",
    "    for slice in pixel_values:\n",
    "        nb_pixel_250 = sum(1 for valeur in slice if valeur > 250)\n",
    "        proportion = nb_pixel_250 / len(slice)\n",
    "        proportion_calcification.append(proportion)\n",
    "\n",
    "    # sélectionner les n plus grosses calcifications\n",
    "    n = int(pourcentage/100 * len(list_values))\n",
    "    sorted_indices = np.argsort(proportion_calcification)[::-1] #trier indices par ordre décroissant\n",
    "    top_n_indices = sorted_indices[:n]\n",
    "    list_calcifications = [(i, proportion_calcification[i]) for i in top_n_indices]\n",
    "\n",
    "    return list_calcifications"
   ]
  },
  {
   "cell_type": "code",
   "execution_count": 24,
   "metadata": {},
   "outputs": [],
   "source": [
    "def remove_calcifications(pixel_values):\n",
    "    for i in range(len(pixel_values)):\n",
    "        pixel_values[i] = [valeur for valeur in list_values[i] if valeur < 250]"
   ]
  },
  {
   "cell_type": "code",
   "execution_count": 16,
   "metadata": {},
   "outputs": [
    {
     "name": "stdout",
     "output_type": "stream",
     "text": [
      "[(71, 0.2643171806167401), (72, 0.24675324675324675), (73, 0.2412280701754386), (70, 0.24034334763948498), (69, 0.23555555555555555), (67, 0.22317596566523606), (68, 0.20851063829787234), (66, 0.20306513409961685), (74, 0.19736842105263158), (75, 0.16176470588235295), (80, 0.15196078431372548), (144, 0.1488673139158576), (76, 0.14761904761904762), (145, 0.1465798045602606), (65, 0.1417624521072797), (146, 0.14012738853503184), (77, 0.1391304347826087), (82, 0.13736263736263737), (150, 0.13119533527696792), (149, 0.13099041533546327)]\n"
     ]
    }
   ],
   "source": [
    "print(find_calcifications(list_values, 5))"
   ]
  },
  {
   "cell_type": "code",
   "execution_count": 25,
   "metadata": {},
   "outputs": [],
   "source": [
    "remove_calcifications(list_values)"
   ]
  },
  {
   "cell_type": "code",
   "execution_count": 66,
   "metadata": {},
   "outputs": [
    {
     "data": {
      "image/png": "[encoded data removed]",
      "text/plain": [
       "<Figure size 640x480 with 1 Axes>"
      ]
     },
     "metadata": {},
     "output_type": "display_data"
    }
   ],
   "source": [
    "# fit a normal distribution on the points on each slice\n",
    "from scipy.stats import norm\n",
    "\n",
    "my_slice = list_values[120]\n",
    "\n",
    "# fit a normal distribution\n",
    "mu, std = norm.fit(my_slice)\n",
    "plt.hist(my_slice, bins=25, density=True, alpha=0.6, color='g')\n",
    "\n",
    "# Plot\n",
    "xmin = 0\n",
    "xmax = 255\n",
    "x = np.linspace(xmin, xmax, 100)\n",
    "p = norm.pdf(x, mu, std)\n",
    "plt.plot(x, p, 'k', linewidth=2)\n",
    "title = \"Fit results: mu = %.2f,  std = %.2f\" % (mu, std)\n",
    "plt.title(title)\n",
    "\n",
    "plt.show()"
   ]
  },
  {
   "cell_type": "code",
   "execution_count": 45,
   "metadata": {},
   "outputs": [
    {
     "data": {
      "image/png": "[encoded data removed]",
      "text/plain": [
       "<Figure size 640x480 with 1 Axes>"
      ]
     },
     "metadata": {},
     "output_type": "display_data"
    }
   ],
   "source": [
    "# créer une distribution de référence : en utilisant tous les points ?\n",
    "\n",
    "# fit a normal distribution\n",
    "list_values_flatten = [element for sublist in list_values for element in sublist]\n",
    "mu0, std0 = norm.fit(list_values_flatten)\n",
    "plt.hist(list_values_flatten, bins=25, density=True, alpha=0.6, color='g')\n",
    "\n",
    "# Plot\n",
    "xmin = 0\n",
    "xmax = 255\n",
    "x = np.linspace(xmin, xmax, 100)\n",
    "p = norm.pdf(x, mu, std)\n",
    "plt.plot(x, p, 'k', linewidth=2)\n",
    "title = \"Fit results: mu = %.2f,  std = %.2f\" % (mu, std)\n",
    "plt.title(title)\n",
    "\n",
    "plt.show()"
   ]
  },
  {
   "cell_type": "markdown",
   "metadata": {},
   "source": [
    "Kolmogorov-Smirnov test : tester si deux échantillons suivent la même loi"
   ]
  },
  {
   "cell_type": "code",
   "execution_count": 68,
   "metadata": {},
   "outputs": [],
   "source": [
    "from scipy import stats\n",
    "list_pvalues = []\n",
    "list_stats_test = []\n",
    "\n",
    "for slice in list_values:\n",
    "    a = stats.ks_2samp(slice, list_values_flatten)\n",
    "    list_stats_test.append(a[0])\n",
    "    list_pvalues.append(a[1])\n",
    "\n",
    "# for index, pvalue in enumerate(res):\n",
    "#     if pvalue > 0.05:\n",
    "#         print(index)"
   ]
  },
  {
   "cell_type": "code",
   "execution_count": 70,
   "metadata": {},
   "outputs": [
    {
     "name": "stdout",
     "output_type": "stream",
     "text": [
      "61\n",
      "62\n",
      "96\n",
      "105\n",
      "106\n",
      "151\n",
      "157\n",
      "173\n",
      "231\n",
      "237\n",
      "242\n",
      "244\n",
      "253\n",
      "254\n",
      "255\n",
      "258\n",
      "259\n",
      "263\n",
      "269\n",
      "270\n",
      "372\n"
     ]
    }
   ],
   "source": [
    "for index, pvalue in enumerate(res):\n",
    "    if pvalue > 0.05:\n",
    "        print(index)"
   ]
  },
  {
   "cell_type": "code",
   "execution_count": 71,
   "metadata": {},
   "outputs": [],
   "source": [
    "viewer = napari.Viewer()\n",
    "image_layer = viewer.add_image(arteries, colormap=\"gray\", contrast_limits=(0,255))\n",
    "napari.run()"
   ]
  }
 ],
 "metadata": {
  "kernelspec": {
   "display_name": "Python 3",
   "language": "python",
   "name": "python3"
  },
  "language_info": {
   "codemirror_mode": {
    "name": "ipython",
    "version": 3
   },
   "file_extension": ".py",
   "mimetype": "text/x-python",
   "name": "python",
   "nbconvert_exporter": "python",
   "pygments_lexer": "ipython3",
   "version": "3.11.5"
  }
 },
 "nbformat": 4,
 "nbformat_minor": 2
}
