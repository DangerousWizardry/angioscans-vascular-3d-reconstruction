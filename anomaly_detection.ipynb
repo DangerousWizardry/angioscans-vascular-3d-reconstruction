{
 "cells": [
  {
   "cell_type": "code",
   "execution_count": 1,
   "metadata": {},
   "outputs": [
    {
     "name": "stderr",
     "output_type": "stream",
     "text": [
      "c:\\Users\\zoeba\\anaconda3\\Lib\\site-packages\\paramiko\\transport.py:219: CryptographyDeprecationWarning: Blowfish has been deprecated\n",
      "  \"class\": algorithms.Blowfish,\n"
     ]
    }
   ],
   "source": [
    "import numpy as np\n",
    "from pathlib import Path\n",
    "import cv2\n",
    "import pandas as pd\n",
    "from skimage import measure, filters, draw\n",
    "import matplotlib.pyplot as plt\n",
    "from matplotlib.patches import Ellipse\n",
    "import tqdm \n",
    "from scipy import ndimage\n",
    "\n",
    "import SimpleITK as sitk\n",
    "import itkwidgets \n",
    "import napari\n",
    "import copy\n",
    "\n",
    "from napari.utils.colormaps import colormap_utils as cu"
   ]
  },
  {
   "cell_type": "code",
   "execution_count": 3,
   "metadata": {},
   "outputs": [],
   "source": [
    "def fit_ellipses(mask, rangemin, rangemax):\n",
    "    ''' \n",
    "    Le but est de récuperer les paramètres d'une liste ellipse en fonction d'une liste de masques fournis par le network construction\n",
    "    Args :\n",
    "        mask (numpy array) : masque des artères\n",
    "        rangemin (int): début des coupes sélectionnées\n",
    "        rangemax (int): fin des coupes sélectionnées\n",
    "    Return:\n",
    "        list_params_ellispses (list[list[double]]): paramètres de chaque ellipse\n",
    "    '''\n",
    "    # list_params_ellipses=[]\n",
    "    # for img in tqdm.tqdm(mask[rangemin:rangemax]):\n",
    "    #     list_points_contour=[]\n",
    "    #     for j in range(img.shape[0]):\n",
    "    #         for i in range(img.shape[1]):\n",
    "    #             if img[j][i] == 1:\n",
    "    #                 list_points_contour.append((i,j))\n",
    "    #     array_points_contour=np.array(list_points_contour)\n",
    "    #     ell = measure.EllipseModel()\n",
    "    #     #draw contour\n",
    "    #     #cv2.fitellipse()\n",
    "    #     ell.estimate(array_points_contour)\n",
    "    #     list_params_ellipses.append(ell.params)\n",
    "    # return list_params_ellipses"
   ]
  },
  {
   "cell_type": "code",
   "execution_count": 4,
   "metadata": {},
   "outputs": [],
   "source": [
    "def create_3d_ellipses(list_params_ellipses):\n",
    "    '''\n",
    "    Crée le numpy array représentant les images des ellipses\n",
    "    Args:\n",
    "        list_params_ellispses (list[list[double]]): paramètres de chaque ellipse\n",
    "    Return:\n",
    "        ellipses_3d (numpy array) : 3d images of the ellipses\n",
    "    '''\n",
    "    # list_2D_ellipses = []\n",
    "    # for params in list_params_ellipses:\n",
    "    #     xc, yc, a, b, theta = params\n",
    "    #     t = np.linspace(0, 2*np.pi, 100)\n",
    "    #     X = xc + a*np.cos(theta)*np.cos(t) - b*np.sin(theta)*np.sin(t)\n",
    "    #     Y = yc + a*np.sin(theta)*np.cos(t) + b*np.cos(theta)*np.sin(t)\n",
    "    #     built_ellipse = np.zeros((512,512))\n",
    "    #     for i in range(len(X)):\n",
    "    #         built_ellipse[int(Y[i])][int(X[i])] = 1\n",
    "\n",
    "    #     list_2D_ellipses.append(built_ellipse)\n",
    "    # ellipses_3D = np.array(list_2D_ellipses)\n",
    "    # return ellipses_3D"
   ]
  },
  {
   "cell_type": "code",
   "execution_count": 19,
   "metadata": {},
   "outputs": [],
   "source": [
    "def find_slice_with_mask(mask):\n",
    "    '''\n",
    "    Détecte sur les index des premières et dernière tranches d'un masque. \n",
    "    Args:\n",
    "        mask (np array): le masque ou le fond est des 1 et le masque des 0\n",
    "    Return:\n",
    "        (rangemin,rangemax) (int,int): tuple avec l'index des premières et dernière tranches d'un masque. \n",
    "    '''\n",
    "    nb_slices_with_masks=[]\n",
    "    for nb_slice in range(mask.shape[0]-1, 0,-1):\n",
    "        if 1 in mask[nb_slice]:\n",
    "            nb_slices_with_masks.append(nb_slice)\n",
    "    rangemin = np.min(nb_slices_with_masks) #mask 1\n",
    "    rangemax = np.max(nb_slices_with_masks) #mask 1\n",
    "    return (rangemin,rangemax)"
   ]
  },
  {
   "cell_type": "code",
   "execution_count": 8,
   "metadata": {},
   "outputs": [],
   "source": [
    "def construct_ellipses_network(mask_list,range_to_do):\n",
    "    '''\n",
    "    En partant de la liste de masques construite par la network construction, des ellipses sont approximées pour reconstruire un réseau artériel lisse. \n",
    "    Args:\n",
    "        mask_list (list[np.array]): la liste des masque construite par la network construction\n",
    "    Return:\n",
    "        info_all_masks (list[dic]): une liste où pour chaque loigne (qui correspond à un masque), il y a un dictionnaire où les clefs sont: rangemin, rangemax, mask,  smooth_ellipses\n",
    "        ellipses_network (np.array): l'image 3D où le réseau d'ellipse est reconstitué\n",
    "    ''' \n",
    "    info_all_masks = []\n",
    "    ellipses_network=np.zeros(mask_list[0].shape)\n",
    "    for index_mask in (range(range_to_do)):#len(mask_list))):\n",
    "        print(index_mask+1, \" out of \", range_to_do)\n",
    "        mask = mask_list[index_mask]\n",
    "        mask_01 = np.where(mask == 255, 1, 0)\n",
    "        rangemin,rangemax=find_slice_with_mask(mask_01)\n",
    "\n",
    "        # list_params = fit_ellipses(mask_01, rangemin, rangemax)\n",
    "        #[0] centre [1] WIDTH HEIGHT \n",
    "        # fit = np.polyfit(list_params[1][0] * list_params[1][1])\n",
    "        # predict_size_area = np.poly1d(fit)\n",
    "        # predict_size_area(1380)\n",
    "    #     seuil = [7, 7, 60, 60, 300]\n",
    "    #     ponderation = [1,2,3,4,4,4,3,2,1]\n",
    "    #     nb_slices = 9\n",
    "\n",
    "    #     homogeneous_params = ensuring_3d_continuity(list_params, seuil)\n",
    "    #     smooth_params = smooth_3d_ellipses(homogeneous_params, nb_slices, ponderation)\n",
    "    #     smooth_ellipses = create_3d_ellipses(smooth_params)\n",
    "\n",
    "    #     before=np.zeros((rangemin, mask_01.shape[1],mask_01.shape[1]))\n",
    "    #     after=np.zeros((mask_01.shape[0]-rangemax, mask_01.shape[1],mask_01.shape[1]))\n",
    "    #     whole=np.concatenate((before,smooth_ellipses,after))\n",
    "        \n",
    "    #     ellipses_network=ellipses_network+whole\n",
    "\n",
    "    #     ellipses_network_ok=np.where(ellipses_network>1,1,ellipses_network)\n",
    "\n",
    "    #     info_of_one_mask={'index':index_mask, 'rangemin':rangemin,'rangemax':rangemax,'mask':mask_01, 'smooth_ellipses':smooth_ellipses}\n",
    "    #     info_all_masks.append(info_of_one_mask)\n",
    "    # return info_all_masks, ellipses_network_ok"
   ]
  },
  {
   "cell_type": "code",
   "execution_count": 9,
   "metadata": {},
   "outputs": [],
   "source": [
    "def construct_mask_network(mask_list,range_to_do):\n",
    "    '''\n",
    " \n",
    "    ''' \n",
    "    mask_network=np.zeros(mask_list[0].shape)\n",
    "    for index_mask in tqdm.tqdm(range(range_to_do)):#len(mask_list))):\n",
    "        mask_ok=np.where(mask_list[index_mask]==255,0,1)\n",
    "        \n",
    "        mask_network=mask_network+mask_ok\n",
    "        mask_network_ok=np.where(mask_network>1,1,mask_network)\n",
    "    return mask_network_ok"
   ]
  },
  {
   "cell_type": "code",
   "execution_count": 10,
   "metadata": {},
   "outputs": [],
   "source": [
    "def filling_ellipses(ellipses):\n",
    "    # #avec fill binary holes\n",
    "    # '''\n",
    "    # En partant  des images 3D des ellipses, on crée une image 3D des ellipses remplies. \n",
    "    # Args:\n",
    "    #     ellipses (np.array): les ellipses à remplir\n",
    "    # Return:\n",
    "    #     filled_ellipses_np (np.array): les ellipses remplies\n",
    "    # ''' \n",
    "    # filled_ellipses=[]\n",
    "    # for index in range(len(ellipses)):\n",
    "    #     ellipse=copy.deepcopy(ellipses[index]) # à modifier !!!!\n",
    "    #     ellipse_filled=ndimage.binary_fill_holes(ellipse)\n",
    "    #     filled_ellipses.append(ellipse_filled)\n",
    "    #     filled_ellipses_np=np.array(filled_ellipses)\n",
    "    # return filled_ellipses_np\n",
    "\n",
    "#cv2.drawcontour(ellipse[index],)\n",
    "\n",
    "\n",
    "\n",
    "# def filling_ellipses(image_to_fill):\n",
    "#     #avec fill binary holes\n",
    "#     '''\n",
    "#     En partant des images 3D des ellipses, on crée une image 3D des ellipses remplies. \n",
    "#     Args:\n",
    "#         ellipses (np.array): les ellipses à remplir\n",
    "#     Return:\n",
    "#         filled_ellipses_np (np.array): les ellipses remplies\n",
    "#     ''' \n",
    "#     result = np.zeros_like(image_to_fill,dtype=np.uint8)\n",
    "#     for index in range(len(image_tofill)):\n",
    "#         contours,  = cv2.findContours(image_to_fill[index], cv2.RETR_EXTERNAL, cv2.CHAIN_APPROX_NONE)\n",
    "#         if len(contours)>0:\n",
    "#             cv2.drawContours(cv2.drawContours(result, contours, -1, 1, -1))\n",
    "#     return result\n",
    "\n",
    "# #cv2.drawcontour(ellipse[index],)"
   ]
  },
  {
   "cell_type": "code",
   "execution_count": 11,
   "metadata": {},
   "outputs": [],
   "source": [
    "def keeping_arteries_only(filled_ellipses, image):\n",
    "    '''\n",
    "    Le but est de garder l'image originale en la restreignant à l'intérieur des ellipses.\n",
    "    Args:\n",
    "        filled_ellipses (np.array): les ellipses remplies\n",
    "        image (np.array): image d'origine \n",
    "    Return:\n",
    "        list_arteries_only (np.array): l'image originale restreinte à l'intérieur des ellipses\n",
    "    ''' \n",
    "    list_arteries_only=[]\n",
    "    for index in range(len(filled_ellipses)):\n",
    "        slice_ell=filled_ellipses[index]\n",
    "        slice_im=image[index]\n",
    "        arteries_only=np.where(slice_ell==1,slice_im, np.nan)\n",
    "        list_arteries_only.append(arteries_only)\n",
    "    return np.array(list_arteries_only)"
   ]
  },
  {
   "cell_type": "code",
   "execution_count": 12,
   "metadata": {},
   "outputs": [],
   "source": [
    "def plotting_hist(images):\n",
    "    '''\n",
    "    En partant  des images 3D, on plot l'histogramme de chaque slice.\n",
    "    Args:\n",
    "        images (np.array)\n",
    "    ''' \n",
    "    count=0\n",
    "    for index in range(len(images)):\n",
    "        slice_im=images[index]\n",
    "        if 255 in slice_im and count <10:\n",
    "            print(index,end=', ')\n",
    "            # plt.hist(slice_im.flatten(), bins=255)\n",
    "            # plt.title(index)\n",
    "            # plt.ylim((1,20))\n",
    "            # plt.xlim((1,256))\n",
    "            # plt.show()\n",
    "            # count+=1"
   ]
  },
  {
   "cell_type": "markdown",
   "metadata": {},
   "source": [
    "# constructing the whole network"
   ]
  },
  {
   "cell_type": "code",
   "execution_count": 13,
   "metadata": {},
   "outputs": [
    {
     "name": "stdout",
     "output_type": "stream",
     "text": [
      "1  out of  2\n"
     ]
    },
    {
     "name": "stderr",
     "output_type": "stream",
     "text": [
      "100%|██████████| 265/265 [00:46<00:00,  5.74it/s]\n"
     ]
    },
    {
     "name": "stdout",
     "output_type": "stream",
     "text": [
      "2  out of  2\n"
     ]
    },
    {
     "name": "stderr",
     "output_type": "stream",
     "text": [
      "100%|██████████| 230/230 [00:32<00:00,  7.02it/s]\n"
     ]
    }
   ],
   "source": [
    "mask_list = np.load(Path(\"temp/mask_list.npy\"))\n",
    "range_to_do=2#len(mask_list)\n",
    "info_all_masks, ellipses_network=construct_ellipses_network(mask_list,range_to_do)"
   ]
  },
  {
   "cell_type": "code",
   "execution_count": 14,
   "metadata": {},
   "outputs": [
    {
     "name": "stderr",
     "output_type": "stream",
     "text": [
      "100%|██████████| 2/2 [00:18<00:00,  9.07s/it]\n"
     ]
    }
   ],
   "source": [
    "# image_array = np.load(Path(\"temp/preprocessed_image.npy\"))\n",
    "# network_mask=construct_mask_network(mask_list,range_to_do)"
   ]
  },
  {
   "cell_type": "markdown",
   "metadata": {},
   "source": [
    "to run : 4min"
   ]
  },
  {
   "cell_type": "markdown",
   "metadata": {},
   "source": [
    "average testing"
   ]
  },
  {
   "cell_type": "code",
   "execution_count": 17,
   "metadata": {},
   "outputs": [
    {
     "name": "stdout",
     "output_type": "stream",
     "text": [
      "1532\n"
     ]
    },
    {
     "name": "stderr",
     "output_type": "stream",
     "text": [
      "Mean of empty slice\n"
     ]
    },
    {
     "name": "stdout",
     "output_type": "stream",
     "text": [
      "mean gray for all network:  65.96514419767912\n",
      "std gray for all network:  10.093494560958149\n",
      "[1149, 1150, 1152, 1153, 1154, 1170, 1357, 1358, 1359, 1395, 1396, 1397, 1398, 1399, 1400]\n"
     ]
    },
    {
     "name": "stderr",
     "output_type": "stream",
     "text": [
      "WARNING: QWindowsWindow::setGeometry: Unable to set geometry 1920x988+0+34 (frame: 1942x1044-11-11) on QWidgetWindow/\"_QtMainWindowClassWindow\" on \"\\\\.\\DISPLAY1\". Resulting geometry: 1920x974+0+34 (frame: 1942x1030-11-11) margins: 11, 45, 11, 11 minimum size: 545x494 MINMAXINFO maxSize=0,0 maxpos=0,0 mintrack=1112,1044 maxtrack=0,0)\n",
      "WARNING: QWindowsWindow::setGeometry: Unable to set geometry 1920x992+0+34 (frame: 1942x1048-11-11) on QWidgetWindow/\"_QtMainWindowClassWindow\" on \"\\\\.\\DISPLAY1\". Resulting geometry: 1920x974+0+34 (frame: 1942x1030-11-11) margins: 11, 45, 11, 11 minimum size: 545x496 MINMAXINFO maxSize=0,0 maxpos=0,0 mintrack=1112,1048 maxtrack=0,0)\n"
     ]
    }
   ],
   "source": [
    "# network_arteries_only_no255=np.where(network_arteries_only==255, np.nan, network_arteries_only)\n",
    "# network_mean_slice=[]\n",
    "# print(len(network_arteries_only_no255))\n",
    "# for index in range(len(network_arteries_only_no255)):\n",
    "#     slice=network_arteries_only_no255[index]\n",
    "#     network_mean_slice.append(np.nanmean(slice))\n",
    "\n",
    "# moyenne_network = np.nanmean(network_mean_slice)\n",
    "# std_network = np.nanstd(network_mean_slice)\n",
    "# print(\"mean gray for all network: \", moyenne_network)\n",
    "# print(\"std gray for all network: \",std_network)\n",
    "\n",
    "# list_deviating_indices=[]\n",
    "# for index in range(len(network_mean_slice)):\n",
    "#     if network_mean_slice[index] < moyenne_network - 1.5*std_network:\n",
    "#         list_deviating_indices.append(index)\n",
    "# print(list_deviating_indices)"
   ]
  },
  {
   "cell_type": "code",
   "execution_count": 18,
   "metadata": {},
   "outputs": [
    {
     "name": "stderr",
     "output_type": "stream",
     "text": [
      "WARNING: QWindowsWindow::setGeometry: Unable to set geometry 1920x984+0+34 (frame: 1942x1040-11-11) on QWidgetWindow/\"_QtMainWindowClassWindow\" on \"\\\\.\\DISPLAY1\". Resulting geometry: 1920x974+0+34 (frame: 1942x1030-11-11) margins: 11, 45, 11, 11 minimum size: 545x492 MINMAXINFO maxSize=0,0 maxpos=0,0 mintrack=1112,1040 maxtrack=0,0)\n"
     ]
    }
   ],
   "source": [
    "viewer = napari.Viewer()\n",
    "image_layer = viewer.add_image(image_array, colormap=\"gray\")\n",
    "image_layer = viewer.add_image(ellipses_network, colormap='blue',blending=\"additive\")\n",
    "image_layer = viewer.add_image(network_mask, colormap='gray_r',blending=\"additive\")\n",
    "napari.run()"
   ]
  },
  {
   "cell_type": "code",
   "execution_count": null,
   "metadata": {},
   "outputs": [],
   "source": []
  }
 ],
 "metadata": {
  "kernelspec": {
   "display_name": "Python 3",
   "language": "python",
   "name": "python3"
  },
  "language_info": {
   "codemirror_mode": {
    "name": "ipython",
    "version": 3
   },
   "file_extension": ".py",
   "mimetype": "text/x-python",
   "name": "python",
   "nbconvert_exporter": "python",
   "pygments_lexer": "ipython3",
   "version": "3.11.5"
  }
 },
 "nbformat": 4,
 "nbformat_minor": 2
}
