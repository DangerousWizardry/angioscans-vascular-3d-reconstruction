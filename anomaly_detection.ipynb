{
 "cells": [
  {
   "cell_type": "code",
   "execution_count": 1,
   "metadata": {},
   "outputs": [
    {
     "name": "stderr",
     "output_type": "stream",
     "text": [
      "c:\\Users\\zoeba\\anaconda3\\Lib\\site-packages\\paramiko\\transport.py:219: CryptographyDeprecationWarning: Blowfish has been deprecated\n",
      "  \"class\": algorithms.Blowfish,\n"
     ]
    }
   ],
   "source": [
    "import numpy as np\n",
    "from pathlib import Path\n",
    "import cv2\n",
    "import pandas as pd\n",
    "from skimage import measure, filters\n",
    "import matplotlib.pyplot as plt\n",
    "from matplotlib.patches import Ellipse\n",
    "import tqdm \n",
    "\n",
    "import SimpleITK as sitk\n",
    "import itkwidgets \n",
    "import napari\n",
    "import copy\n",
    "\n",
    "from napari.utils.colormaps import colormap_utils as cu"
   ]
  },
  {
   "cell_type": "code",
   "execution_count": 2,
   "metadata": {},
   "outputs": [],
   "source": [
    "# previous_area=500\n",
    "# enchainement_T_F_area=[] #true if the next is smaller\n",
    "# previous_ML=100\n",
    "# enchainement_major_length=[] #true if the next is smaller\n",
    "# for im_in in mask1[-1:]:\n",
    "#     im_floodfill = im_in.copy()\n",
    "#     h, w = im_in.shape[:2]\n",
    "#     mask_new = np.zeros((h+2, w+2), np.uint8)\n",
    "#     cv2.floodFill(im_floodfill, mask_new, (0,0), 0)\n",
    "    \n",
    "#     sum_im_in=np.sum(im_floodfill)\n",
    "#     if sum_im_in < previous_area:\n",
    "#         enchainement_T_F_area.append(True)\n",
    "#     else: \n",
    "#         enchainement_T_F_area.append(False)\n",
    "#     previous_area=sum_im_in\n",
    "    \n",
    "#     properties_to_test=[\"axis_major_length\"] \n",
    "#     props = measure.regionprops_table(im_floodfill, im_in, properties=properties_to_test)\n",
    "#     major_Lenght=(props[\"axis_major_length\"][0])\n",
    "\n",
    "#     if major_Lenght < previous_ML:\n",
    "#         enchainement_major_length.append(True)\n",
    "#     else: \n",
    "#         enchainement_major_length.append(False)\n",
    "#     previous_ML=major_Lenght\n",
    "        \n",
    "#     fig, ax = plt.subplots(nrows = 1, ncols=2, figsize=(15,6))\n",
    "#     ax[0].imshow(im_in[270:310, 220:300])\n",
    "#     ax[1].imshow(im_floodfill[270:310, 220:300])\n",
    "#     plt.show()\n",
    "# import collections\n",
    "# frequency = collections.Counter(enchainement_T_F_area)\n",
    "# print(frequency)\n",
    "# frequency2 = collections.Counter(enchainement_major_length)\n",
    "# print(frequency2)"
   ]
  },
  {
   "cell_type": "code",
   "execution_count": 3,
   "metadata": {},
   "outputs": [],
   "source": [
    "def fit_ellipses(mask, rangemin, rangemax):\n",
    "    ''' \n",
    "    Le but est de récuperer les paramètres d'une liste ellipse en fonction d'une liste de masques fournis par le network construction\n",
    "    Args :\n",
    "        mask (numpy array) : masque des artères\n",
    "        rangemin (int): début des coupes sélectionnées\n",
    "        rangemax (int): fin des coupes sélectionnées\n",
    "    Return:\n",
    "        list_params_ellispses (list[list[double]]): paramètres de chaque ellipse\n",
    "    '''\n",
    "    list_params_ellipses=[]\n",
    "    for img in tqdm.tqdm(mask[rangemin:rangemax]):\n",
    "        list_points_ellipse=[]\n",
    "        for j in range(img.shape[0]):\n",
    "            for i in range(img.shape[1]):\n",
    "                if img[j][i] == 0:\n",
    "                    list_points_ellipse.append((i,j))\n",
    "        array_points_ellipse=np.array(list_points_ellipse)\n",
    "        ell = measure.EllipseModel()\n",
    "        ell.estimate(array_points_ellipse)\n",
    "        list_params_ellipses.append(ell.params)\n",
    "    return list_params_ellipses"
   ]
  },
  {
   "cell_type": "code",
   "execution_count": 4,
   "metadata": {},
   "outputs": [],
   "source": [
    "def create_3d_ellipses(list_params_ellipses):\n",
    "    '''\n",
    "    Crée le numpy array représentant les images des ellipses\n",
    "    Args:\n",
    "        list_params_ellispses (list[list[double]]): paramètres de chaque ellipse\n",
    "    Return:\n",
    "        ellipses_3d (numpy array) : 3d images of the ellipses\n",
    "    '''\n",
    "    list_2D_ellipses = []\n",
    "    for params in list_params_ellipses:\n",
    "        xc, yc, a, b, theta = params\n",
    "        t = np.linspace(0, 2*np.pi, 100)\n",
    "        X = xc + a*np.cos(theta)*np.cos(t) - b*np.sin(theta)*np.sin(t)\n",
    "        Y = yc + a*np.sin(theta)*np.cos(t) + b*np.cos(theta)*np.sin(t)\n",
    "        built_ellipse = np.zeros((512,512))\n",
    "        for i in range(len(X)):\n",
    "            built_ellipse[int(Y[i])][int(X[i])] = 1\n",
    "\n",
    "        list_2D_ellipses.append(built_ellipse)\n",
    "    ellipses_3D = np.array(list_2D_ellipses)\n",
    "    return ellipses_3D"
   ]
  },
  {
   "cell_type": "code",
   "execution_count": 5,
   "metadata": {},
   "outputs": [],
   "source": [
    "def ensuring_3d_continuity(original_list_params, seuil):\n",
    "    ''' \n",
    "    Vérification itérative qu'aucune ellipse est abberante et modification si c'est le cas\n",
    "    Args:\n",
    "        original_list_params (list[list[double]]): paramètres originaux de chaque ellipse\n",
    "        seuil (list[int]): valeurs d'écarts autorisés entre l'ellipse précédente et l'ellipse actuelle\n",
    "    Return:\n",
    "        homogeneous_list_params (list[list[double]]): liste des paramètres des ellipses après modification\n",
    "    '''\n",
    "    count = 0 #compter le nombre de modifications\n",
    "\n",
    "    homogeneous_list_params = copy.deepcopy(original_list_params)\n",
    "\n",
    "    for i in range(len(homogeneous_list_params)-1,0,-1): # pour toutes les ellipses en commençant par le haut\n",
    "        for j in range(len(homogeneous_list_params[0])): # pour chacun des paramètres\n",
    "            param_avant = homogeneous_list_params[i][j]\n",
    "            param = homogeneous_list_params[i-1][j]\n",
    "            if j!= 0 and j!=1: # différenciation de condition de modification selon le type de paramètre\n",
    "                if np.abs(param-param_avant*100/param_avant) > seuil[j]: # taux de variation (pour a, b et theta)\n",
    "                    count +=1\n",
    "                    if (param-param_avant<0): #si l'ellipse est plus petite que l'ellipse d'avant\n",
    "                        homogeneous_list_params[i-1][j] = param_avant-param*10/100\n",
    "                    else: #si l'ellipse est plus grande que l'ellipse d'avant\n",
    "                        homogeneous_list_params[i-1][j] = param_avant+param*10/100\n",
    "            else:\n",
    "                if np.abs(param_avant-param) > seuil[j]: # écart en nombre de pixels (pour xc et yc)\n",
    "                    count +=1\n",
    "                    homogeneous_list_params[i-1][j] = param_avant\n",
    "\n",
    "    #print(count)\n",
    "    return homogeneous_list_params"
   ]
  },
  {
   "cell_type": "code",
   "execution_count": 6,
   "metadata": {},
   "outputs": [],
   "source": [
    "def smooth_3d_ellipses(homogeneous_list_params, nb_slices, ponderation):\n",
    "    '''\n",
    "    Lissage de la surface des ellipses\n",
    "    Args:\n",
    "        homogeneous_list_params (list[list[double]]): liste des paramètres des ellipses \n",
    "        nb_slices (int): nombre de coupes à prendre en compte pour le lissage\n",
    "        ponderation (list[int]): ponderation associée à chaque coupe\n",
    "    Return:\n",
    "        smooth_list_params (list[list[double]]): liste des paramètres des ellipses après lissage\n",
    "    '''\n",
    "    smooth_list_params = copy.deepcopy(homogeneous_list_params)\n",
    "\n",
    "    for i in range(len(homogeneous_list_params)-(nb_slices+1)):\n",
    "        for j in range(len(homogeneous_list_params[0])):\n",
    "            nearby_params = []\n",
    "            for k in range(nb_slices):\n",
    "                nearby_params.append(homogeneous_list_params[i+k][j])\n",
    "            smooth_list_params[i+nb_slices//2+1][j] = np.sum(list(np.multiply(nearby_params,ponderation))/np.sum(ponderation))\n",
    "    return smooth_list_params"
   ]
  },
  {
   "cell_type": "code",
   "execution_count": 7,
   "metadata": {},
   "outputs": [],
   "source": [
    "def find_slice_with_mask(mask):\n",
    "    '''\n",
    "    Détecte sur les index des premières et dernière tranches d'un masque. \n",
    "    Args:\n",
    "        mask (np array): le masque ou le fond est des 1 et le masque des 0\n",
    "    Return:\n",
    "        (rangemin,rangemax) (int,int): tuple avec l'index des premières et dernière tranches d'un masque. \n",
    "    '''\n",
    "    nb_slices_with_masks=[]\n",
    "    for nb_slice in range(mask.shape[0]-1, 0,-1):\n",
    "        if 0 in mask[nb_slice]:\n",
    "            nb_slices_with_masks.append(nb_slice)\n",
    "    rangemin = np.min(nb_slices_with_masks) #mask 1\n",
    "    rangemax = np.max(nb_slices_with_masks) #mask 1\n",
    "    return (rangemin,rangemax)"
   ]
  },
  {
   "cell_type": "code",
   "execution_count": 8,
   "metadata": {},
   "outputs": [],
   "source": [
    "def construct_ellipses_network(mask_list,range_to_do):\n",
    "    '''\n",
    "    En partant de la liste de masques construite par la network construction, des ellipses sont approximées pour reconstruire un réseau artériel lisse. \n",
    "    Args:\n",
    "        mask_list (list[np.array]): la liste des masque construite par la network construction\n",
    "    Return:\n",
    "        info_all_masks (list[dic]): une liste où pour chaque loigne (qui correspond à un masque), il y a un dictionnaire où les clefs sont: rangemin, rangemax, mask,  smooth_ellipses\n",
    "        ellipses_network (np.array): l'image 3D où le réseau d'ellipse est reconstitué\n",
    "    ''' \n",
    "    info_all_masks = []\n",
    "    ellipses_network=np.zeros(mask_list[0].shape)\n",
    "    for index_mask in (range(range_to_do)):#len(mask_list))):\n",
    "        print(index_mask+1, \" out of \", range_to_do)\n",
    "        mask = mask_list[index_mask]\n",
    "        mask = np.where(mask == 255, 0, 1)\n",
    "        rangemin,rangemax=find_slice_with_mask(mask)\n",
    "\n",
    "        list_params = fit_ellipses(mask, rangemin, rangemax)\n",
    "        \n",
    "        seuil = [7, 7, 60, 60, 300]\n",
    "        ponderation = [1,2,3,4,4,4,3,2,1]\n",
    "        nb_slices = 9\n",
    "\n",
    "        homogeneous_params = ensuring_3d_continuity(list_params, seuil)\n",
    "        smooth_params = smooth_3d_ellipses(homogeneous_params, nb_slices, ponderation)\n",
    "        smooth_ellipses = create_3d_ellipses(smooth_params)\n",
    "\n",
    "        before=np.zeros((rangemin, mask.shape[1],mask.shape[1]))\n",
    "        after=np.zeros((mask.shape[0]-rangemax, mask.shape[1],mask.shape[1]))\n",
    "        whole=np.concatenate((before,smooth_ellipses,after))\n",
    "        ellipses_network=ellipses_network+whole\n",
    "\n",
    "        info_of_one_mask={'index':index_mask, 'rangemin':rangemin,'rangemax':rangemax,'mask':mask, 'smooth_ellipses':smooth_ellipses}\n",
    "        info_all_masks.append(info_of_one_mask)\n",
    "    return info_all_masks, ellipses_network"
   ]
  },
  {
   "cell_type": "code",
   "execution_count": 12,
   "metadata": {},
   "outputs": [
    {
     "name": "stderr",
     "output_type": "stream",
     "text": [
      "100%|██████████| 23/23 [00:04<00:00,  5.29it/s]\n"
     ]
    }
   ],
   "source": [
    "mask_list = np.load(Path(\"temp/mask_list.npy\"))\n",
    "\n",
    "index_mask=3\n",
    "mask1 = mask_list[index_mask]\n",
    "mask1 = np.where(mask1 == 255, 0, 1)\n",
    "\n",
    "rangemin,rangemax =find_slice_with_mask(mask1)\n",
    "\n",
    "list_params = fit_ellipses(mask1, rangemin,rangemax)\n",
    "ellipses_3d = create_3d_ellipses(list_params)\n",
    "\n",
    "seuil = [7, 7, 60, 60, 300]\n",
    "ponderation = [1,2,3,4,4,4,3,2,1]\n",
    "nb_slices = 9\n",
    "\n",
    "homogeneous_params = ensuring_3d_continuity(list_params, seuil)\n",
    "smooth_params = smooth_3d_ellipses(homogeneous_params, nb_slices, ponderation)"
   ]
  },
  {
   "cell_type": "code",
   "execution_count": 13,
   "metadata": {},
   "outputs": [
    {
     "name": "stderr",
     "output_type": "stream",
     "text": [
      "WARNING: QWindowsWindow::setGeometry: Unable to set geometry 1920x984+0+34 (frame: 1942x1040-11-11) on QWidgetWindow/\"_QtMainWindowClassWindow\" on \"\\\\.\\DISPLAY1\". Resulting geometry: 1920x974+0+34 (frame: 1942x1030-11-11) margins: 11, 45, 11, 11 minimum size: 499x492 MINMAXINFO maxSize=0,0 maxpos=0,0 mintrack=1020,1040 maxtrack=0,0)\n"
     ]
    }
   ],
   "source": [
    "# create the new ellipses using parameters\n",
    "homogeneous_ellipses = create_3d_ellipses(homogeneous_params)\n",
    "smooth_ellipses = create_3d_ellipses(smooth_params)\n",
    "\n",
    "# look at the result\n",
    "image_array = np.load(Path(\"temp/preprocessed_image.npy\"))\n",
    "image_originale=image_array[rangemin:rangemax]\n",
    "mask1_slice=mask1[rangemin:rangemax]\n",
    "\n",
    "viewer = napari.Viewer()\n",
    "image_layer = viewer.add_image(image_originale, colormap=\"gray\")\n",
    "image_layer = viewer.add_image(ellipses_3d, colormap='blue',blending=\"additive\")\n",
    "image_layer = viewer.add_image(smooth_ellipses, colormap='green',blending=\"additive\")\n",
    "image_layer = viewer.add_image(np.where(mask1_slice==1,0,1), colormap='red',blending=\"additive\")\n",
    "napari.run()"
   ]
  },
  {
   "cell_type": "markdown",
   "metadata": {},
   "source": [
    "# constructing the whole network"
   ]
  },
  {
   "cell_type": "code",
   "execution_count": 11,
   "metadata": {},
   "outputs": [
    {
     "name": "stdout",
     "output_type": "stream",
     "text": [
      "1  out of  4\n"
     ]
    },
    {
     "name": "stderr",
     "output_type": "stream",
     "text": [
      "100%|██████████| 265/265 [00:45<00:00,  5.86it/s]\n"
     ]
    },
    {
     "name": "stdout",
     "output_type": "stream",
     "text": [
      "2  out of  4\n"
     ]
    },
    {
     "name": "stderr",
     "output_type": "stream",
     "text": [
      "100%|██████████| 230/230 [00:27<00:00,  8.48it/s]\n"
     ]
    },
    {
     "name": "stdout",
     "output_type": "stream",
     "text": [
      "3  out of  4\n"
     ]
    },
    {
     "name": "stderr",
     "output_type": "stream",
     "text": [
      "100%|██████████| 23/23 [00:05<00:00,  4.58it/s]\n"
     ]
    },
    {
     "name": "stdout",
     "output_type": "stream",
     "text": [
      "4  out of  4\n"
     ]
    },
    {
     "name": "stderr",
     "output_type": "stream",
     "text": [
      "100%|██████████| 23/23 [00:09<00:00,  2.46it/s]\n"
     ]
    }
   ],
   "source": [
    "# mask_list = np.load(Path(\"temp/mask_list.npy\"))\n",
    "# range_to_do=4\n",
    "# info_all_masks, ellipses_network=construct_ellipses_network(mask_list,range_to_do)"
   ]
  },
  {
   "cell_type": "code",
   "execution_count": null,
   "metadata": {},
   "outputs": [
    {
     "name": "stderr",
     "output_type": "stream",
     "text": [
      "WARNING: QWindowsWindow::setGeometry: Unable to set geometry 1920x1018+0+34 (frame: 1942x1074-11-11) on QWidgetWindow/\"_QtMainWindowClassWindow\" on \"\\\\.\\DISPLAY1\". Resulting geometry: 1920x974+0+34 (frame: 1942x1030-11-11) margins: 11, 45, 11, 11 minimum size: 545x509 MINMAXINFO maxSize=0,0 maxpos=0,0 mintrack=1112,1074 maxtrack=0,0)\n",
      "WARNING: QWindowsWindow::setGeometry: Unable to set geometry 1920x1072+0+34 (frame: 1942x1128-11-11) on QWidgetWindow/\"_QtMainWindowClassWindow\" on \"\\\\.\\DISPLAY1\". Resulting geometry: 1920x974+0+34 (frame: 1942x1030-11-11) margins: 11, 45, 11, 11 minimum size: 545x536 MINMAXINFO maxSize=0,0 maxpos=0,0 mintrack=1112,1128 maxtrack=0,0)\n"
     ]
    }
   ],
   "source": [
    "# viewer = napari.Viewer()\n",
    "# image_layer = viewer.add_image(ellipses_network, colormap=\"gray\")\n",
    "# napari.run()"
   ]
  }
 ],
 "metadata": {
  "kernelspec": {
   "display_name": "Python 3",
   "language": "python",
   "name": "python3"
  },
  "language_info": {
   "codemirror_mode": {
    "name": "ipython",
    "version": 3
   },
   "file_extension": ".py",
   "mimetype": "text/x-python",
   "name": "python",
   "nbconvert_exporter": "python",
   "pygments_lexer": "ipython3",
   "version": "3.11.5"
  }
 },
 "nbformat": 4,
 "nbformat_minor": 2
}
