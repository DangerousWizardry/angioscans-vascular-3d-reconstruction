{
 "cells": [
  {
   "cell_type": "code",
   "execution_count": 1,
   "metadata": {},
   "outputs": [
    {
     "name": "stderr",
     "output_type": "stream",
     "text": [
      "c:\\Users\\zoeba\\anaconda3\\Lib\\site-packages\\paramiko\\transport.py:219: CryptographyDeprecationWarning: Blowfish has been deprecated\n",
      "  \"class\": algorithms.Blowfish,\n"
     ]
    }
   ],
   "source": [
    "import numpy as np\n",
    "from pathlib import Path\n",
    "import cv2\n",
    "import pandas as pd\n",
    "from skimage import measure, filters, draw\n",
    "import matplotlib.pyplot as plt\n",
    "from matplotlib.patches import Ellipse\n",
    "import tqdm \n",
    "from scipy import ndimage\n",
    "\n",
    "import SimpleITK as sitk\n",
    "import itkwidgets \n",
    "import napari\n",
    "import copy\n",
    "\n",
    "from napari.utils.colormaps import colormap_utils as cu"
   ]
  },
  {
   "cell_type": "code",
   "execution_count": 2,
   "metadata": {},
   "outputs": [],
   "source": [
    "def find_slice_with_mask(mask):\n",
    "    '''\n",
    "    Détecte sur les index des premières et dernière tranches d'un masque. \n",
    "    Args:\n",
    "        mask (np array): le masque ou le fond est des 1 et le masque des 0\n",
    "    Return:\n",
    "        (rangemin,rangemax) (int,int): tuple avec l'index des premières et dernière tranches d'un masque. \n",
    "    '''\n",
    "    nb_slices_with_masks=[]\n",
    "    for nb_slice in range(mask.shape[0]-1, 0,-1):\n",
    "        if 1 in mask[nb_slice]:\n",
    "            nb_slices_with_masks.append(nb_slice)\n",
    "    rangemin = np.min(nb_slices_with_masks) #mask 1\n",
    "    rangemax = np.max(nb_slices_with_masks) #mask 1\n",
    "    return (rangemin,rangemax)"
   ]
  },
  {
   "cell_type": "code",
   "execution_count": 52,
   "metadata": {},
   "outputs": [],
   "source": [
    "def fit_ellipses(mask, rangemin, rangemax):\n",
    "    ''' \n",
    "    Le but est de récuperer les paramètres d'une liste ellipse en fonction d'une liste de masques fournis par le network construction\n",
    "    Args :\n",
    "        mask (numpy array) : masque des artères\n",
    "        rangemin (int): début des coupes sélectionnées\n",
    "        rangemax (int): fin des coupes sélectionnées\n",
    "    Return:\n",
    "        list_params_ellipses_to_return (list[list[double]]): paramètres de chaque ellipse\n",
    "    '''\n",
    "    list_params_ellipses=[]\n",
    "    \n",
    "    for index_img in tqdm.tqdm(reversed(range(rangemax-rangemin))):\n",
    "        img=mask[rangemin+index_img]\n",
    "        contours_found,_=cv2.findContours(img.astype(np.uint8), method=cv2.RETR_LIST, mode=cv2.CHAIN_APPROX_SIMPLE)\n",
    "        if len(contours_found)>0:\n",
    "            ellipse=cv2.fitEllipse(contours_found[0])\n",
    "            ellipse_ok=((ellipse[0][0], ellipse[0][1]), (ellipse[1][0]/2,ellipse[1][1]/2), ellipse[2])\n",
    "            list_params_ellipses.append(ellipse_ok)\n",
    "        else:\n",
    "            print(\"erreur nb contours\")\n",
    "    list_params_ellipses.reverse()\n",
    "    return list_params_ellipses"
   ]
  },
  {
   "cell_type": "code",
   "execution_count": 93,
   "metadata": {},
   "outputs": [],
   "source": [
    "def predict_and_compare_values(list_params):\n",
    "    #working on it\n",
    "    new_list_params=[list_params[-1]]\n",
    "    list_products = [my_tuple[1][0]*my_tuple[1][1] for my_tuple in list_params]\n",
    "    list_indexes= [ i for i in range(len(list_products))]\n",
    "    fit = np.polyfit(list_indexes, list_products, deg=1)\n",
    "    predict_size_area = np.poly1d(fit)\n",
    "    list_products_predicted=[predict_size_area(index) for index in list_indexes]\n",
    "    \n",
    "    count=0\n",
    "    for index in reversed(range(len(list_products_predicted)-1)):\n",
    "        product_predicted=list_products_predicted[index]\n",
    "        if np.abs((product_predicted-list_products[index])*100/product_predicted)<50: #si moins de 10 pourcent d'erreurs, je garde ma value originales\n",
    "            new_list_params.append(list_params[index])\n",
    "        else: #sinon, je mets les param de l'ellipse précédente\n",
    "            new_list_params.append(new_list_params[-1])\n",
    "            count+=1\n",
    "    print(\"count \",count)\n",
    "    new_list_params.reverse()\n",
    "    return new_list_params"
   ]
  },
  {
   "cell_type": "code",
   "execution_count": 120,
   "metadata": {},
   "outputs": [],
   "source": [
    "def dilation(img_3D, kernel_size):\n",
    "    ''' \n",
    "    Dilatation d'une image \n",
    "    Args:\n",
    "        img_3D (numpy array): image à dilater\n",
    "        kernel_size (int): taille du kernel\n",
    "    '''\n",
    "    kernel = cv2.getStructuringElement(cv2.MORPH_ELLIPSE,(kernel_size,kernel_size))\n",
    "    for index, slice in enumerate(img_3D):\n",
    "        img_3D[index] = cv2.dilate(img_3D[index] , kernel, iterations=1)"
   ]
  },
  {
   "cell_type": "code",
   "execution_count": 123,
   "metadata": {},
   "outputs": [],
   "source": [
    "def create_3d_ellipses(list_params_ellipses, shape_image, rangemin, rangemax, dilate=False):\n",
    "    ''' \n",
    "    Draw 3d ellipses on a white image\n",
    "    Args:\n",
    "        list_params_ellipses (list[list[double]]): the parameters of each ellipse\n",
    "        mask (numpy array): the initial masks\n",
    "        rangemin (int): first slice of the mask\n",
    "        rangemask (int): last slice of the mask\n",
    "        dilate (Boolean): indicatinf if neede to dliate of not the image\n",
    "    Return:\n",
    "        ellipses_3d (numpy array): images with drawing of ellipses on it\n",
    "    '''\n",
    "    ellipses_3d = []\n",
    "    for index_img in tqdm.tqdm(range(rangemax-rangemin)):\n",
    "        ellipse_mask = np.zeros((shape_image[1],shape_image[2]), dtype=np.uint8)\n",
    "        params = list_params_ellipses[index_img]\n",
    "        center = (int(params[0][0]),int(params[0][1]))\n",
    "        axis = (int(params[1][0]),int(params[1][1]))\n",
    "        angle = int(params[2])\n",
    "        color = 1\n",
    "        cv2.ellipse(ellipse_mask, center, axis, angle, 0, 360, color,-1)\n",
    "        ellipses_3d.append(ellipse_mask)\n",
    "    numpy_ellipse_3d=np.array(ellipses_3d)\n",
    "    if dilate:\n",
    "        dilation(numpy_ellipse_3d, kernel_size=4)\n",
    "    return numpy_ellipse_3d"
   ]
  },
  {
   "cell_type": "code",
   "execution_count": 124,
   "metadata": {},
   "outputs": [],
   "source": [
    "def keeping_arteries_only(filled_ellipses, image):\n",
    "    '''\n",
    "    Le but est de garder l'image originale en la restreignant à l'intérieur des ellipses.\n",
    "    Args:\n",
    "        filled_ellipses (np.array): les ellipses remplies\n",
    "        image (np.array): image d'origine \n",
    "    Return:\n",
    "        list_arteries_only (np.array): l'image originale restreinte à l'intérieur des ellipses\n",
    "    ''' \n",
    "    list_arteries_only=[]\n",
    "    for index in range(len(filled_ellipses)):\n",
    "        slice_ell=filled_ellipses[index]\n",
    "        slice_im=image[index]\n",
    "        arteries_only=np.where(slice_ell==1,slice_im, np.nan)\n",
    "        list_arteries_only.append(arteries_only)\n",
    "    return np.array(list_arteries_only)"
   ]
  },
  {
   "cell_type": "code",
   "execution_count": 125,
   "metadata": {},
   "outputs": [],
   "source": [
    "def construct_ellipses_network(mask_list,range_to_do):\n",
    "    #working on it \n",
    "    '''\n",
    "    En partant de la liste de masques construite par la network construction, des ellipses sont approximées pour reconstruire un réseau artériel lisse. \n",
    "    Args:\n",
    "        mask_list (list[np.array]): la liste des masque construite par la network construction\n",
    "    Return:\n",
    "        info_all_masks (list[dic]): une liste où pour chaque loigne (qui correspond à un masque), il y a un dictionnaire où les clefs sont: rangemin, rangemax, mask,  smooth_ellipses\n",
    "        ellipses_network (np.array): l'image 3D où le réseau d'ellipse est reconstitué\n",
    "    ''' \n",
    "    info_all_masks = []\n",
    "    ellipses_network=np.zeros(mask_list[0].shape)\n",
    "    for index_mask in (range(range_to_do)):#len(mask_list))):\n",
    "        print(index_mask+1, \" out of \", range_to_do)\n",
    "        mask = mask_list[index_mask]\n",
    "        mask_01 = np.where(mask == 255, 1, 0)\n",
    "        rangemin,rangemax=find_slice_with_mask(mask_01)\n",
    "\n",
    "        list_params=fit_ellipses(mask_01, rangemin, rangemax)\n",
    "        \n",
    "        ellipses_3d=create_3d_ellipses(list_params,mask.shape, rangemin, rangemax)\n",
    "        \n",
    "        \n",
    "        new_list_param=predict_and_compare_values(list_params)\n",
    "        new_ellipses_3d=create_3d_ellipses(new_list_param,mask.shape, rangemin, rangemax, dilate=True)\n",
    "        return new_ellipses_3d, ellipses_3d\n",
    "\n",
    "    #     before=np.zeros((rangemin, mask_01.shape[1],mask_01.shape[1]))\n",
    "    #     after=np.zeros((mask_01.shape[0]-rangemax, mask_01.shape[1],mask_01.shape[1]))\n",
    "    #     whole=np.concatenate((before,smooth_ellipses,after))\n",
    "        \n",
    "    #     ellipses_network=ellipses_network+whole\n",
    "\n",
    "    #     ellipses_network_ok=np.where(ellipses_network>1,1,ellipses_network)\n",
    "\n",
    "    #     info_of_one_mask={'index':index_mask, 'rangemin':rangemin,'rangemax':rangemax,'mask':mask_01, 'smooth_ellipses':smooth_ellipses}\n",
    "    #     info_all_masks.append(info_of_one_mask)\n",
    "    # return info_all_masks, ellipses_network_ok"
   ]
  },
  {
   "cell_type": "code",
   "execution_count": 8,
   "metadata": {},
   "outputs": [],
   "source": [
    "def construct_mask_network(mask_list,range_to_do):\n",
    "    '''\n",
    " \n",
    "    ''' \n",
    "    mask_network=np.zeros(mask_list[0].shape)\n",
    "    for index_mask in tqdm.tqdm(range(range_to_do)):#len(mask_list))):\n",
    "        mask_ok=np.where(mask_list[index_mask]==255,0,1)\n",
    "        \n",
    "        mask_network=mask_network+mask_ok\n",
    "        mask_network_ok=np.where(mask_network>1,1,mask_network)\n",
    "    return mask_network_ok"
   ]
  },
  {
   "cell_type": "code",
   "execution_count": 9,
   "metadata": {},
   "outputs": [],
   "source": [
    "def plotting_hist(images):\n",
    "    #will be used\n",
    "    '''\n",
    "    En partant  des images 3D, on plot l'histogramme de chaque slice.\n",
    "    Args:\n",
    "        images (np.array)\n",
    "    ''' \n",
    "    count=0\n",
    "    for index in range(len(images)):\n",
    "        slice_im=images[index]\n",
    "        if 255 in slice_im and count <10:\n",
    "            print(index,end=', ')\n",
    "            # plt.hist(slice_im.flatten(), bins=255)\n",
    "            # plt.title(index)\n",
    "            # plt.ylim((1,20))\n",
    "            # plt.xlim((1,256))\n",
    "            # plt.show()\n",
    "            # count+=1"
   ]
  },
  {
   "cell_type": "markdown",
   "metadata": {},
   "source": [
    "# constructing the whole network"
   ]
  },
  {
   "cell_type": "code",
   "execution_count": 10,
   "metadata": {},
   "outputs": [],
   "source": [
    "mask_list = np.load(Path(\"temp/mask_list.npy\"))\n",
    "range_to_do=1#len(mask_list)\n"
   ]
  },
  {
   "cell_type": "code",
   "execution_count": 121,
   "metadata": {},
   "outputs": [
    {
     "name": "stdout",
     "output_type": "stream",
     "text": [
      "1  out of  1\n"
     ]
    },
    {
     "name": "stderr",
     "output_type": "stream",
     "text": [
      "265it [00:00, 1049.45it/s]\n",
      "100%|██████████| 265/265 [00:00<00:00, 6030.94it/s]\n"
     ]
    },
    {
     "name": "stdout",
     "output_type": "stream",
     "text": [
      "count  10\n"
     ]
    },
    {
     "name": "stderr",
     "output_type": "stream",
     "text": [
      "100%|██████████| 265/265 [00:00<00:00, 5126.75it/s]\n"
     ]
    }
   ],
   "source": [
    "new_ellipses3D,ellipses3D= construct_ellipses_network(mask_list,range_to_do) #\n",
    "dilation(new_ellipses3D, 4)"
   ]
  },
  {
   "cell_type": "code",
   "execution_count": 122,
   "metadata": {},
   "outputs": [],
   "source": [
    "viewer = napari.Viewer()\n",
    "mask = mask_list[0]\n",
    "mask_01 = np.where(mask == 255, 1, 0)\n",
    "rangemin,rangemax=find_slice_with_mask(mask_01)\n",
    "\n",
    "image_array = np.load(Path(\"temp/preprocessed_image.npy\"))\n",
    "\n",
    "\n",
    "image_layer = viewer.add_image( image_array[rangemin:rangemax], colormap=\"gray\", contrast_limits=(0,255))\n",
    "# image_layer = viewer.add_image(mask_01[rangemin:rangemax], colormap='green',blending=\"additive\", contrast_limits=(0,1))\n",
    "\n",
    "image_layer = viewer.add_image(new_ellipses3D, colormap=\"blue\",blending=\"additive\", contrast_limits=(0,1))\n",
    "napari.run()"
   ]
  },
  {
   "cell_type": "code",
   "execution_count": 12,
   "metadata": {},
   "outputs": [],
   "source": []
  },
  {
   "cell_type": "markdown",
   "metadata": {},
   "source": [
    "average testing"
   ]
  },
  {
   "cell_type": "code",
   "execution_count": 42,
   "metadata": {},
   "outputs": [],
   "source": [
    "# network_arteries_only_no255=np.where(network_arteries_only==255, np.nan, network_arteries_only)\n",
    "# network_mean_slice=[]\n",
    "# print(len(network_arteries_only_no255))\n",
    "# for index in range(len(network_arteries_only_no255)):\n",
    "#     slice=network_arteries_only_no255[index]\n",
    "#     network_mean_slice.append(np.nanmean(slice))\n",
    "\n",
    "# moyenne_network = np.nanmean(network_mean_slice)\n",
    "# std_network = np.nanstd(network_mean_slice)\n",
    "# print(\"mean gray for all network: \", moyenne_network)\n",
    "# print(\"std gray for all network: \",std_network)\n",
    "\n",
    "# list_deviating_indices=[]\n",
    "# for index in range(len(network_mean_slice)):\n",
    "#     if network_mean_slice[index] < moyenne_network - 1.5*std_network:\n",
    "#         list_deviating_indices.append(index)\n",
    "# print(list_deviating_indices)"
   ]
  }
 ],
 "metadata": {
  "kernelspec": {
   "display_name": "Python 3",
   "language": "python",
   "name": "python3"
  },
  "language_info": {
   "codemirror_mode": {
    "name": "ipython",
    "version": 3
   },
   "file_extension": ".py",
   "mimetype": "text/x-python",
   "name": "python",
   "nbconvert_exporter": "python",
   "pygments_lexer": "ipython3",
   "version": "3.11.5"
  }
 },
 "nbformat": 4,
 "nbformat_minor": 2
}
