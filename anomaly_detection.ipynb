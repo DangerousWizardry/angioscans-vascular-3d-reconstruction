{
 "cells": [
  {
   "cell_type": "code",
   "execution_count": 1,
   "metadata": {},
   "outputs": [
    {
     "name": "stderr",
     "output_type": "stream",
     "text": [
      "c:\\Users\\zoeba\\anaconda3\\Lib\\site-packages\\paramiko\\transport.py:219: CryptographyDeprecationWarning: Blowfish has been deprecated\n",
      "  \"class\": algorithms.Blowfish,\n"
     ]
    }
   ],
   "source": [
    "import numpy as np\n",
    "from pathlib import Path\n",
    "import pandas as pd\n",
    "import cv2\n",
    "from skimage import measure, filters, draw\n",
    "import matplotlib.pyplot as plt\n",
    "from matplotlib.patches import Ellipse\n",
    "import tqdm \n",
    "from scipy import stats\n",
    "\n",
    "import SimpleITK as sitk\n",
    "import itkwidgets \n",
    "import napari\n",
    "import copy\n",
    "import gzip\n",
    "import time\n",
    "\n",
    "from napari.utils.colormaps import colormap_utils as cu"
   ]
  },
  {
   "cell_type": "code",
   "execution_count": 2,
   "metadata": {},
   "outputs": [],
   "source": [
    "def find_slice_with_mask(mask):\n",
    "    '''\n",
    "    Détecte sur les index des premières et dernière tranches d'un masque. \n",
    "    Args:\n",
    "        mask (np array): le masque ou le fond est des 1 et le masque des 0\n",
    "    Return:\n",
    "        (rangemin,rangemax) (int,int): tuple avec l'index des premières et dernière tranches d'un masque. \n",
    "    '''\n",
    "    nb_slices_with_masks=[]\n",
    "    for nb_slice in range(mask.shape[0]-1, 0,-1):\n",
    "        if 255 in mask[nb_slice]:\n",
    "            nb_slices_with_masks.append(nb_slice)\n",
    "    rangemin = np.min(nb_slices_with_masks) #mask 1\n",
    "    rangemax = np.max(nb_slices_with_masks) #mask 1\n",
    "    return (rangemin,rangemax)"
   ]
  },
  {
   "cell_type": "code",
   "execution_count": 3,
   "metadata": {},
   "outputs": [],
   "source": [
    "def fit_ellipses(mask, rangemin, rangemax):\n",
    "    ''' \n",
    "    Le but est de récuperer les paramètres d'une liste ellipse en fonction d'une liste de masques fournis par le network construction\n",
    "    Args :\n",
    "        mask (numpy array) : masque des artères\n",
    "        rangemin (int): début des coupes sélectionnées\n",
    "        rangemax (int): fin des coupes sélectionnées\n",
    "    Return:\n",
    "        list_params_ellipses_to_return (list[list[double]]): paramètres de chaque ellipse\n",
    "    '''\n",
    "    list_params_ellipses=[]\n",
    "    for index_img in (reversed(range(rangemax-rangemin))):\n",
    "        img=mask[rangemin+index_img]\n",
    "        contours_found,_=cv2.findContours(img.astype(np.uint8), method=cv2.RETR_LIST, mode=cv2.CHAIN_APPROX_SIMPLE)\n",
    "        if len(contours_found)>0: \n",
    "            if len(contours_found[0])>5:\n",
    "                ellipse=cv2.fitEllipse(contours_found[0])\n",
    "                ellipse_ok=((ellipse[0][0], ellipse[0][1]), (ellipse[1][0]/2,ellipse[1][1]/2), ellipse[2])\n",
    "                list_params_ellipses.append(ellipse_ok)\n",
    "            else:\n",
    "                ellipse_ok=((list_params_ellipses[-1][0][0], list_params_ellipses[-1][0][1]), (list_params_ellipses[-1][1][0]/2,ellipse[1][1]/2), list_params_ellipses[-1][2])\n",
    "                list_params_ellipses.append(ellipse_ok)\n",
    "        else:\n",
    "            print(\"erreur nb contours\")\n",
    "            \n",
    "    list_params_ellipses.reverse()\n",
    "    return list_params_ellipses"
   ]
  },
  {
   "cell_type": "code",
   "execution_count": 28,
   "metadata": {},
   "outputs": [],
   "source": [
    "def predict_and_compare_values(list_params, rangemin, rangemax, all_ranges_max):\n",
    "    '''\n",
    "    Ajuste les paramêtre des ellispes les unes par rapport au autres. \n",
    "    Args:\n",
    "        list_params (list): les paramêtres originaux des ellipses pour un mask donné\n",
    "        rangemin (int) : l'index de la première tranche de ce mask\n",
    "        all_ranges_max (list[int]): les index maximums de chaque mask\n",
    "    Return:\n",
    "        new_list_params (list): les paramêtres des ellipses après modification pour un mask donné \n",
    "    '''\n",
    "    \n",
    "    new_list_params=[list_params[-1]]\n",
    "    list_products_ab = [my_tuple[1][0]*my_tuple[1][1] for my_tuple in list_params]\n",
    "    # list_indexes= [ i for i in range(len(list_products_ab))]\n",
    "    # t1=time.time()\n",
    "    # fit = np.polyfit(list_indexes, list_products_ab, deg=1)\n",
    "    # predict_size_area = np.poly1d(fit)\n",
    "    # list_products_ab_predicted=[predict_size_area(index) for index in list_indexes]\n",
    "    # t2=time.time()\n",
    "    # print(\"time polyfit: \", t2-t1)\n",
    "\n",
    "    list_products_ab_predicted=[]\n",
    "    ranges_poly_fit=[rangemin]\n",
    "    \n",
    "    for one_range in all_ranges_max:\n",
    "        if one_range < rangemax-1 and one_range > rangemin:\n",
    "            ranges_poly_fit.append(one_range)\n",
    "    ranges_poly_fit.append(rangemax)\n",
    "    ranges_poly_fit.sort()\n",
    "    print(\"ranges polyfit\", ranges_poly_fit)\n",
    "\n",
    "    for index in range(len(ranges_poly_fit)-1):\n",
    "        index_low=ranges_poly_fit[index]-rangemin\n",
    "        index_high=ranges_poly_fit[index+1]-rangemin\n",
    "        list_products_ab_per_segment=list_products_ab[index_low:index_high]\n",
    "        list_indexes_per_segment= [ i for i in range(len(list_products_ab_per_segment))]\n",
    "        print(\"list_products_ab_per_segment\",list_products_ab_per_segment)\n",
    "        print(\"list_indexes_per_segment\",list_indexes_per_segment )\n",
    "        fit = np.polyfit(list_indexes_per_segment, list_products_ab_per_segment, deg=1)\n",
    "        predict_size_area = np.poly1d(fit)\n",
    "        list_products_ab_predicted_per_segment=[predict_size_area(index_fit) for index_fit in list_indexes_per_segment]\n",
    "        list_products_ab_predicted=list_products_ab_predicted+list_products_ab_predicted_per_segment\n",
    "\n",
    "    \n",
    "    count=0\n",
    "    for index in reversed(range(len(list_products_ab_predicted)-1)):\n",
    "        product_predicted=list_products_ab_predicted[index]\n",
    "        if np.abs((product_predicted-list_products_ab[index])*100/product_predicted)<50: #si moins de 10 pourcent d'erreurs, je garde ma value originales\n",
    "            new_list_params.append(list_params[index])\n",
    "        elif (index+rangemin) in all_ranges_max:#si je suis à une jonction de 2 mask = bifurcation\n",
    "            new_list_params.append(list_params[index])\n",
    "        else: #sinon, je mets les param de l'ellipse précédente\n",
    "            new_list_params.append(new_list_params[-1])\n",
    "            count+=1\n",
    "    new_list_params.reverse()\n",
    "    return new_list_params, list_products_ab, list_products_ab_predicted"
   ]
  },
  {
   "cell_type": "code",
   "execution_count": 5,
   "metadata": {},
   "outputs": [],
   "source": [
    "def dilation(img_3D, kernel_size):\n",
    "    ''' \n",
    "    Dilatation d'une image \n",
    "    Args:\n",
    "        img_3D (numpy array): image à dilater\n",
    "        kernel_size (int): taille du kernel\n",
    "    '''\n",
    "    kernel = cv2.getStructuringElement(cv2.MORPH_ELLIPSE,(kernel_size,kernel_size))\n",
    "    for index, slice in enumerate(img_3D):\n",
    "        img_3D[index] = cv2.dilate(img_3D[index] , kernel, iterations=1)"
   ]
  },
  {
   "cell_type": "code",
   "execution_count": 6,
   "metadata": {},
   "outputs": [],
   "source": [
    "def create_3d_ellipses(list_params_ellipses, shape_image, rangemin, rangemax, dilate=False):\n",
    "    ''' \n",
    "    Draw 3d ellipses on a white image\n",
    "    Args:\n",
    "        list_params_ellipses (list[list[double]]): the parameters of each ellipse\n",
    "        mask (numpy array): the initial masks\n",
    "        rangemin (int): first slice of the mask\n",
    "        rangemax (int): last slice of the mask\n",
    "        dilate (Boolean): indicatinf if neede to dliate of not the image\n",
    "    Return:\n",
    "        ellipses_3d (numpy array): images with drawing of ellipses on it\n",
    "    '''\n",
    "    ellipses_3d = []\n",
    "    for index_img in (range(rangemax-rangemin)):\n",
    "        ellipse_mask = np.zeros((shape_image[1],shape_image[2]), dtype=np.uint8)\n",
    "        params = list_params_ellipses[index_img]\n",
    "        center = (int(params[0][0]),int(params[0][1]))\n",
    "        axis = (int(params[1][0]),int(params[1][1]))\n",
    "        angle = int(params[2])\n",
    "        color = 255\n",
    "        cv2.ellipse(ellipse_mask, center, axis, angle, 0, 360, color,-1)\n",
    "        ellipses_3d.append(ellipse_mask)\n",
    "    numpy_ellipse_3d=np.array(ellipses_3d)\n",
    "    if dilate:\n",
    "        dilation(numpy_ellipse_3d, kernel_size=4)\n",
    "    return numpy_ellipse_3d"
   ]
  },
  {
   "cell_type": "code",
   "execution_count": 7,
   "metadata": {},
   "outputs": [],
   "source": [
    "def keeping_arteries_only(filled_ellipses, image):\n",
    "    '''\n",
    "    Le but est de garder l'image originale en la restreignant à l'intérieur des ellipses.\n",
    "    Args:\n",
    "        filled_ellipses (np.array): les ellipses remplies\n",
    "        image (np.array): image d'origine \n",
    "    Return:\n",
    "        list_arteries_only (np.array): l'image originale restreinte à l'intérieur des ellipses\n",
    "    ''' \n",
    "    list_arteries_only=np.where(filled_ellipses==255, image, 0)\n",
    "    return list_arteries_only"
   ]
  },
  {
   "cell_type": "code",
   "execution_count": 21,
   "metadata": {},
   "outputs": [],
   "source": [
    "def construct_ellipses_network(mask, rangemin,rangemax, all_ranges_max): \n",
    "    '''\n",
    "    En partant de la liste de masques construite par la network construction, des ellipses sont approximées pour reconstruire un réseau artériel lisse. \n",
    "    Args:\n",
    "        mask_list (list[np.array]): la liste des masque construite par la network construction\n",
    "        rangemin (int): last slice of the mask in the total 3D block\n",
    "        rangemax (int): first slice of the mask in the total 3D block\n",
    "        all_ranges_max (list[int]): les index maximums de chaque mask\n",
    "\n",
    "    Return:\n",
    "        info_all_masks (list[dic]): une liste où pour chaque loigne (qui correspond à un masque), il y a un dictionnaire où les clefs sont: rangemin, rangemax, mask,  smooth_ellipses\n",
    "    ''' \n",
    "    list_params=fit_ellipses(mask, rangemin, rangemax)\n",
    "       \n",
    "    new_list_param, list_products_ab, list_products_ab_predicted=predict_and_compare_values(list_params, rangemin,rangemax, all_ranges_max)\n",
    "    new_ellipses_3d=create_3d_ellipses(new_list_param,mask.shape, rangemin, rangemax, dilate=True)\n",
    "\n",
    "    before=np.zeros((rangemin, mask.shape[1],mask.shape[1]))\n",
    "    after=np.zeros((mask.shape[0]-rangemax, mask.shape[1],mask.shape[1]))\n",
    "    whole_size_ellipses_3D=np.concatenate((before,new_ellipses_3d,after))\n",
    "\n",
    "    info_of_one_mask={'rangemin':rangemin,\n",
    "                      'rangemax':rangemax,\n",
    "                      'mask':mask, \n",
    "                      'ellipses_3D':whole_size_ellipses_3D, \n",
    "                      'list_ab':list_products_ab,\n",
    "                      'list_ab_predicted':list_products_ab_predicted\n",
    "                      }\n",
    "    return info_of_one_mask"
   ]
  },
  {
   "cell_type": "code",
   "execution_count": 9,
   "metadata": {},
   "outputs": [],
   "source": [
    "def construct_mask_network(mask_list,min_range,max_range):\n",
    "    '''\n",
    "    En partant de la liste de masques, le réseau complet est construit. \n",
    "    Args:\n",
    "        mask_list (list[np.array]): la liste des masque construite par la network construction\n",
    "        min_range (int): l'index du premier masque à traiter\n",
    "        max_range (int): l'index du dernier masque à traiter\n",
    "\n",
    "    Return:\n",
    "        mask_network (np.array): l'image 3D où le réseau de mask est reconstitué\n",
    "    ''' \n",
    "    mask_network=np.zeros(mask_list[0].shape)\n",
    "    print(\"Constructing the mask network...\", end= \" \")\n",
    "    for index_mask in (range(min_range, max_range)):\n",
    "        mask_network=np.where(mask_list[index_mask]!=0,mask_list[index_mask],mask_network)  \n",
    "    print(\"Done\")\n",
    "    return mask_network"
   ]
  },
  {
   "cell_type": "markdown",
   "metadata": {},
   "source": [
    "Stats"
   ]
  },
  {
   "cell_type": "code",
   "execution_count": 10,
   "metadata": {},
   "outputs": [],
   "source": [
    "class Descriptor:\n",
    "    def __init__(self, index, list_pixels, ab, ab_pred):\n",
    "        self.index = index\n",
    "        self.list_pixels = list_pixels\n",
    "        self.list_pixels_without_calcifications = self.remove_calcifications(list_pixels)\n",
    "        self.mean = self.compute_mean()\n",
    "        self.sd = self.compute_sd()\n",
    "        self.proportion_calcification = self.compute_calcification()\n",
    "        self.value_occlusion = []\n",
    "        self.ab = ab\n",
    "        self.ab_pred = ab_pred\n",
    "\n",
    "    def remove_calcifications(self, list_pixels):\n",
    "        list_without_calcifications = [valeur for valeur in list_pixels if valeur < 250]\n",
    "        return list_without_calcifications\n",
    "\n",
    "    def compute_mean(self):\n",
    "        return np.mean(self.list_pixels_without_calcifications)\n",
    "\n",
    "    def compute_sd(self):\n",
    "        return np.std(self.list_pixels_without_calcifications)\n",
    "\n",
    "    def compute_calcification(self):\n",
    "        nb_pixel_250 = sum(1 for valeur in self.list_pixels if valeur > 250)\n",
    "        proportion = nb_pixel_250 / len(self.list_pixels)\n",
    "        return proportion\n",
    "\n",
    "    # def compute_occlusion(self, list_reference):\n",
    "    #     stat_value = stats.ks_2samp(self.list_pixels_without_calcifications, list_reference)\n",
    "    #     self.value_occlusion = stat_value[0]"
   ]
  },
  {
   "cell_type": "code",
   "execution_count": 11,
   "metadata": {},
   "outputs": [],
   "source": [
    "def compute_stats(info_one_mask, arteries):  \n",
    "      \n",
    "    rangemin=info_one_mask['rangemin']\n",
    "    rangemax=info_one_mask['rangemax']\n",
    "    arteries=arteries[rangemin:rangemax]\n",
    "    ellipses3D=info_one_mask['ellipses_3D'][rangemin:rangemax]\n",
    "    list_ab=info_one_mask['list_ab']\n",
    "    list_ab_predicted=info_one_mask['list_ab_predicted']\n",
    "\n",
    "    list_descriptor = []\n",
    "    #Récupérer une liste de valeurs de pixels par slice, en prenant en compte uniquement les pixels dans l'ellipse\n",
    "    arteries_only = np.where(ellipses3D == 255, arteries, np.nan)\n",
    "\n",
    "    # créer l'objet descriptor pour chaque slice\n",
    "    for index, slice in enumerate(arteries_only):\n",
    "        slice = slice.flatten()\n",
    "        slice = list(slice[np.logical_not(np.isnan(slice))]) # remove nan\n",
    "        list_descriptor.append(Descriptor(index+rangemin, slice,list_ab[index], list_ab_predicted[index]))\n",
    "\n",
    "    list_reference = []\n",
    "    for descriptor in list_descriptor:\n",
    "        list_reference = np.concatenate((list_reference, descriptor.list_pixels_without_calcifications))\n",
    "\n",
    "    # for descriptor in list_descriptor:\n",
    "    #     descriptor.compute_occlusion(list_reference)\n",
    "\n",
    "    return list_descriptor"
   ]
  },
  {
   "cell_type": "code",
   "execution_count": 12,
   "metadata": {},
   "outputs": [],
   "source": [
    "def convert_stats_to_table(list_descriptor):\n",
    "    #créer un tableau regroupant les caractéristiques des objets\n",
    "    tableau_attributs = [\n",
    "        [objet.index, objet.mean, objet.sd, objet.proportion_calcification, objet.value_occlusion, objet.ab, objet.ab_pred] for objet in list_descriptor\n",
    "    ]\n",
    "\n",
    "    df = pd.DataFrame(tableau_attributs, columns=['index', 'mean', 'sd', 'proportion_calcification', 'value_occlusion', 'ab', 'ab_pred'])\n",
    "    return df"
   ]
  },
  {
   "cell_type": "code",
   "execution_count": 19,
   "metadata": {},
   "outputs": [],
   "source": [
    "def constructing_all_networks(image_preprocessed, mask_list, min_range, max_range, reconstruct_ellipse=False, reconstruct_arteries=False, reconstruct_masks=False):\n",
    "    '''\n",
    "    Fonction qui permet de construire les réseaux d'artères, d'ellipses et de masks. \n",
    "    Args:\n",
    "        image_preprocessed (np.array): l'image pré-traitée\n",
    "        mask_list (list[np.array]): la liste des masque construite par la network construction\n",
    "        min_range (int): l'index du premier masque à traiter\n",
    "        max_range (int): l'index du dernier masque à traiter\n",
    "        reconstruct_ellipse (boolean): indique si le réseau d'ellipses doit être construit\n",
    "        reconstruct_arteries (boolean): indique si le réseau d'artères doit être construit\n",
    "        reconstruct_masks (boolean): indique si le réseau de masks doit être construit\n",
    "\n",
    "    Return:\n",
    "        mask_network (np.array): l'image 3D où le réseau de mask est reconstitué\n",
    "        ellipses_network (np.array): l'image 3D où le réseau d'ellipses est reconstitué\n",
    "        arteries_network (np.array): l'image 3D où le réseau d'artères est reconstitué\n",
    "    ''' \n",
    "    ellipses_network=np.zeros_like(mask_list[0])\n",
    "    arteries_network=np.zeros_like(mask_list[0])\n",
    "    mask_network=np.zeros_like(mask_list[0])\n",
    "\n",
    "    list_table_stats=[]\n",
    "\n",
    "    all_ranges_max=[] #storing all index where there is a bifurcation\n",
    "    for index in range(12): #attention ici remettre len(mask_list)\n",
    "        print(index)\n",
    "        all_ranges_max.append(find_slice_with_mask(mask_list[index])[1])\n",
    "\n",
    "    if (max_range-min_range)==1:\n",
    "        print(1, \" out of \", 1)\n",
    "        rangemin,rangemax=find_slice_with_mask(mask_list[min_range])\n",
    "        info_one_mask= construct_ellipses_network(mask_list[min_range],rangemin,rangemax+1, all_ranges_max)\n",
    "        ellipses_network=info_one_mask['ellipses_3D']\n",
    "        arteries_network=keeping_arteries_only(info_one_mask['ellipses_3D'], image_preprocessed)\n",
    "        mask_network=mask_list[min_range]\n",
    "        \n",
    "        # list_descriptor=compute_stats(arteries_network[rangemin:rangemax+1], ellipses_network[rangemin:rangemax+1], rangemin)\n",
    "        list_descriptor=compute_stats(info_one_mask, arteries_network)\n",
    "        df=convert_stats_to_table(list_descriptor)\n",
    "        \n",
    "        list_table_stats.append(df)\n",
    "    else:\n",
    "        for index in tqdm.tqdm(range(min_range,max_range)):\n",
    "            rangemin,rangemax=find_slice_with_mask(mask_list[index])\n",
    "            info_one_mask= construct_ellipses_network(mask_list[index],rangemin,rangemax+1, all_ranges_max)\n",
    "    \n",
    "            if reconstruct_ellipse:\n",
    "                ellipses_network=np.where(info_one_mask['ellipses_3D']!=0, info_one_mask['ellipses_3D'], ellipses_network)\n",
    "            arteries=keeping_arteries_only(info_one_mask['ellipses_3D'], image_preprocessed)\n",
    "            if reconstruct_arteries:\n",
    "                arteries_network=np.where(arteries!=0,arteries, arteries_network)\n",
    "                \n",
    "            list_descriptor=compute_stats(info_one_mask, arteries)\n",
    "            df=convert_stats_to_table(list_descriptor)\n",
    "            list_table_stats.append(df) \n",
    "            \n",
    "        if reconstruct_masks :\n",
    "            mask_network=construct_mask_network(mask_list,min_range,max_range)\n",
    "    return mask_network, ellipses_network, arteries_network, list_table_stats"
   ]
  },
  {
   "cell_type": "code",
   "execution_count": 14,
   "metadata": {},
   "outputs": [
    {
     "name": "stdout",
     "output_type": "stream",
     "text": [
      "(19, 1532, 512, 512)\n"
     ]
    }
   ],
   "source": [
    "f = gzip.GzipFile('temp/mask_list.npy.gz', \"r\")\n",
    "mask_list = np.load(f)\n",
    "print(mask_list.shape)\n",
    "image_preprocessed = np.load(Path(\"temp/preprocessed_image.npy\"))"
   ]
  },
  {
   "cell_type": "markdown",
   "metadata": {},
   "source": [
    "# attention à mettre False en argument de la fonction"
   ]
  },
  {
   "cell_type": "code",
   "execution_count": 32,
   "metadata": {},
   "outputs": [
    {
     "name": "stdout",
     "output_type": "stream",
     "text": [
      "0\n",
      "1\n",
      "2\n",
      "3\n",
      "4\n",
      "5\n",
      "6\n",
      "7\n",
      "8\n",
      "9\n",
      "10\n",
      "11\n"
     ]
    },
    {
     "name": "stderr",
     "output_type": "stream",
     "text": [
      "  0%|          | 0/6 [00:00<?, ?it/s]"
     ]
    },
    {
     "name": "stdout",
     "output_type": "stream",
     "text": [
      "ranges polyfit [1301, 1319, 1395, 1531]\n",
      "list_products_ab_per_segment [23.869125236831678, 8.190875463449174, 8.304950821246848, 0.2687705251639727, 7.435574108041351, 2.895757429627608, 4.228934045224918, 6.403732734636236, 5.04213750259396, 5.04213750259396, 4.544205282131514, 4.558983779563391, 7.657506737766312, 5.694230980058279, 6.290948627046646, 6.282020623240442, 8.018405763627811, 9.111869897010592]\n",
      "list_indexes_per_segment [0, 1, 2, 3, 4, 5, 6, 7, 8, 9, 10, 11, 12, 13, 14, 15, 16, 17]\n",
      "list_products_ab_per_segment [10.842023228601192, 147.48017601254196, 140.36362120365538, 134.98719730017274, 110.25464251713129, 113.38151013449169, 117.44931170455675, 114.47110457024246, 118.7998910084525, 122.38192788406013, 125.56272849906236, 131.97456057881936, 133.09741701609437, 130.7669381080268, 125.75435411927174, 129.56774775014856, 129.056777922734, 127.86885272243762, 132.1177978646665, 129.2683304213142, 132.67298304313044, 131.0320756984056, 128.04257924744888, 133.88278443242598, 140.30951104322867, 138.81402520090342, 136.6502527119883, 133.1124920748698, 131.60785765897072, 129.689781328766, 118.81940019776903, 114.71298916516935, 111.47420214351587, 118.7038859353379, 105.17860184337587, 101.37160030408722, 89.91427830327939, 105.23336399937762, 127.67944826183611, 98.84238893853035, 100.01671652911955, 105.4282201452661, 134.54421747849574, 130.83001614408568, 127.46656867094316, 128.63245732607174, 130.18719347931255, 125.42465044234632, 126.8065759668525, 119.45685749248696, 116.80938561165385, 105.62080076088023, 92.04287455684153, 113.77192416371236, 108.20766032960091, 105.23141926488825, 102.1329302239792, 101.94492019654717, 100.45997768891903, 98.77638126877719, 97.47759959373798, 90.36493502522535, 85.47968313425372, 81.64706104504694, 104.24122876824822, 97.89125628224792, 98.17628390872233, 102.72013545080335, 104.32471780543347, 154.92149755130413, 162.4328890295401, 123.91044072734985, 120.924437612166, 158.11012878005386, 160.25671713555494, 158.94661734900728]\n",
      "list_indexes_per_segment [0, 1, 2, 3, 4, 5, 6, 7, 8, 9, 10, 11, 12, 13, 14, 15, 16, 17, 18, 19, 20, 21, 22, 23, 24, 25, 26, 27, 28, 29, 30, 31, 32, 33, 34, 35, 36, 37, 38, 39, 40, 41, 42, 43, 44, 45, 46, 47, 48, 49, 50, 51, 52, 53, 54, 55, 56, 57, 58, 59, 60, 61, 62, 63, 64, 65, 66, 67, 68, 69, 70, 71, 72, 73, 74, 75]\n",
      "list_products_ab_per_segment [158.10087607597234, 314.7407694605099, 361.0187386051748, 646.8811594262224, 544.3359466433685, 242.59138803600763, 230.9407669570246, 230.08315579766713, 191.81091987597938, 188.0959924184899, 184.54136991113774, 190.2283744142769, 146.77609418988595, 175.92556042926844, 172.18320016690996, 161.56947955211217, 163.1946278287851, 164.94320200928996, 167.37330815465702, 173.04807059069663, 175.25571267646228, 173.87530995901216, 175.27393064995067, 179.996796381045, 182.35123107325762, 185.58315774719813, 188.16989024287977, 189.76903869071248, 193.7075550352738, 188.83917512055632, 186.8244034002946, 185.48300070046207, 187.85054360900176, 185.11839692549438, 187.27983124421644, 184.04090093986906, 186.69022339910953, 186.94483111895806, 189.63581987469115, 189.2372865033758, 192.63513815494662, 191.2788122832444, 192.67999871004758, 188.19914397410685, 186.12847418283673, 185.4698224371723, 181.23258753277696, 176.23473570063652, 178.47745666011542, 185.5947140453236, 194.03851574801956, 203.97722446229272, 203.5523302315214, 200.8466766114907, 200.14244306301407, 204.07920208240557, 196.0135295861328, 193.8500609392795, 194.27933857129028, 191.17345251601364, 182.92911801677292, 186.57544955205867, 186.45133904807153, 187.81875398342254, 188.123834486154, 191.82353829701788, 179.58545166393378, 184.3101814859665, 187.28276812891727, 180.55330541840522, 182.40495637450294, 179.56875389243578, 184.68990620055683, 190.19875505687014, 186.40602894555013, 184.89836905981065, 178.6178409279537, 181.78398085027402, 182.87610614505866, 177.17312254387707, 191.670181085894, 191.6389595327746, 193.26316025476262, 183.0144515360953, 178.38921307708551, 174.29701328554074, 171.17420299180503, 161.89854181205646, 163.95302963876657, 169.75133079394982, 167.23134399999253, 164.54433549889654, 160.3164969742429, 157.76608228420173, 162.17405834605415, 164.33510858649242, 163.53629574085426, 165.1792095148303, 171.41417452293263, 178.26943429795938, 179.2246517856065, 179.39344086225628, 179.30711468799927, 183.19117004067448, 181.03281619104382, 182.3076354550658, 175.40112612941812, 170.29010485673552, 172.90754876384563, 172.05268479646475, 172.58518221521445, 174.22953153454, 176.26036104400555, 170.6515702571778, 168.4389150088682, 166.56654285511468, 169.11901594117808, 168.3252949074831, 174.8319789135212, 174.91913262182788, 170.02058164992104, 169.70830756340547, 172.3967154655129, 168.36071668400746, 169.54022984555195, 174.66146884745467, 172.1350618648603, 172.00949805317578, 176.7800559567877, 181.32150848851597, 184.00707847061312, 185.36839824131675, 184.56790206701226, 178.60567110265038, 175.10914387299545, 177.3711576033811]\n",
      "list_indexes_per_segment [0, 1, 2, 3, 4, 5, 6, 7, 8, 9, 10, 11, 12, 13, 14, 15, 16, 17, 18, 19, 20, 21, 22, 23, 24, 25, 26, 27, 28, 29, 30, 31, 32, 33, 34, 35, 36, 37, 38, 39, 40, 41, 42, 43, 44, 45, 46, 47, 48, 49, 50, 51, 52, 53, 54, 55, 56, 57, 58, 59, 60, 61, 62, 63, 64, 65, 66, 67, 68, 69, 70, 71, 72, 73, 74, 75, 76, 77, 78, 79, 80, 81, 82, 83, 84, 85, 86, 87, 88, 89, 90, 91, 92, 93, 94, 95, 96, 97, 98, 99, 100, 101, 102, 103, 104, 105, 106, 107, 108, 109, 110, 111, 112, 113, 114, 115, 116, 117, 118, 119, 120, 121, 122, 123, 124, 125, 126, 127, 128, 129, 130, 131, 132, 133, 134, 135]\n"
     ]
    },
    {
     "name": "stderr",
     "output_type": "stream",
     "text": [
      " 17%|█▋        | 1/6 [00:08<00:43,  8.75s/it]"
     ]
    },
    {
     "name": "stdout",
     "output_type": "stream",
     "text": [
      "ranges polyfit [1366, 1396]\n",
      "list_products_ab_per_segment [4.509634843479944, 9.019269686959888, 14.587624825317334, 33.9721526018011, 31.12578242902964, 31.12578242902964, 31.12578242902964, 42.203376684208706, 56.03249588722247, 14.594849128117346, 15.325212409017126, 14.412001687127486, 14.08359977291093, 13.741664746119454, 13.765311800705376, 27.221126472072456, 17.488976702185255, 17.511483943775147, 44.32477655651155, 64.91432542072471, 15.419622382016769, 9.768417422246785, 9.59266822411621, 7.981797315140909, 7.037689164320284, 8.36112363089228, 14.863059311064717, 30.679791988668512, 41.53286303770119, 57.872241520458374]\n",
      "list_indexes_per_segment [0, 1, 2, 3, 4, 5, 6, 7, 8, 9, 10, 11, 12, 13, 14, 15, 16, 17, 18, 19, 20, 21, 22, 23, 24, 25, 26, 27, 28, 29]\n"
     ]
    },
    {
     "name": "stderr",
     "output_type": "stream",
     "text": [
      " 33%|███▎      | 2/6 [00:18<00:37,  9.48s/it]"
     ]
    },
    {
     "name": "stdout",
     "output_type": "stream",
     "text": [
      "ranges polyfit [1127, 1134, 1154, 1166, 1263, 1320]\n",
      "list_products_ab_per_segment [18.948902096418806, 18.948902096418806, 29.58585974309608, 56.18740716757702, 78.87371063666797, 2.190233996538808, 182.39846794945788]\n",
      "list_indexes_per_segment [0, 1, 2, 3, 4, 5, 6]\n",
      "list_products_ab_per_segment [69.30351084655695, 47.824062407637484, 41.043575444628004, 36.15983688123379, 35.30684977315923, 34.79207214171947, 30.60150002622686, 27.275882579141808, 30.18619805251774, 28.19413584122003, 29.90006962309485, 24.91226358923086, 22.98530621326904, 16.189601010168644, 9.564767781381306, 14.43915756451861, 16.701700936174575, 16.26156511643603, 19.073090498709007, 20.098297946026378]\n",
      "list_indexes_per_segment [0, 1, 2, 3, 4, 5, 6, 7, 8, 9, 10, 11, 12, 13, 14, 15, 16, 17, 18, 19]\n",
      "list_products_ab_per_segment [20.25150414284053, 60.35285860570866, 60.2682793993954, 58.44393635405868, 53.465363482670455, 56.253532472571806, 52.033929803997125, 50.83198936221061, 48.62565866252862, 49.780394356505894, 54.8651583503688, 52.00393172584609]\n",
      "list_indexes_per_segment [0, 1, 2, 3, 4, 5, 6, 7, 8, 9, 10, 11]\n",
      "list_products_ab_per_segment [53.347377244997006, 52.851719900757416, 53.22331549453247, 54.776293997796984, 45.002790492898384, 47.86635698790815, 50.59547078104515, 56.93818657494376, 60.208683210837535, 64.49885492001158, 70.2097851841404, 71.05932815635242, 70.30646007547148, 71.06248878592214, 72.35265332572453, 73.37702996514327, 71.63643544499246, 69.418494212714, 68.81071100409827, 67.28822457372007, 65.00893363801106, 64.21766252990346, 61.68644828557626, 59.28865740339916, 58.75907540389653, 57.30345346260583, 57.14602546439892, 55.8224761399033, 55.592254495561065, 55.16803053179524, 53.42295530903948, 52.36644889788295, 50.94313332299316, 50.80226456539776, 50.38771826940979, 48.45031420168425, 47.634106087039754, 47.54772873983802, 46.77812265469947, 44.34707442393051, 44.142364201007695, 42.85253790559159, 40.726656833059224, 39.47925968498248, 33.786539317702136, 31.8878911272609, 27.35759289629732, 27.706826918674324, 26.45763539938298, 26.878896778628132, 24.328390253153884, 24.763808661688017, 31.3119258642962, 33.341336341618444, 33.24237674784399, 35.740095505425415, 34.009751183746175, 36.41338328927827, 39.606952122715256, 40.8605059250026, 40.866340592849156, 42.33620403353143, 43.20204412237945, 42.15942884893457, 42.16454221285949, 41.8261323079671, 40.2596954377168, 38.5269782501864, 38.14500346699447, 37.10631958884096, 35.49209148278578, 35.74483229715497, 34.29427802596888, 34.079229736391426, 33.111153760783054, 30.37065103886971, 28.884591355079465, 29.593679293273453, 29.689271599596395, 29.41305028816896, 28.107851341243986, 27.32540004173734, 26.528351674207443, 27.723188328013748, 29.754018459566396, 30.006057584711243, 30.128042988486413, 30.895649111016155, 29.130973773509595, 28.76846163279515, 28.96214240518566, 29.366715385183852, 28.858962850245007, 28.570047670855274, 29.156875320562904, 29.27788854458413, 29.417151725926487]\n",
      "list_indexes_per_segment [0, 1, 2, 3, 4, 5, 6, 7, 8, 9, 10, 11, 12, 13, 14, 15, 16, 17, 18, 19, 20, 21, 22, 23, 24, 25, 26, 27, 28, 29, 30, 31, 32, 33, 34, 35, 36, 37, 38, 39, 40, 41, 42, 43, 44, 45, 46, 47, 48, 49, 50, 51, 52, 53, 54, 55, 56, 57, 58, 59, 60, 61, 62, 63, 64, 65, 66, 67, 68, 69, 70, 71, 72, 73, 74, 75, 76, 77, 78, 79, 80, 81, 82, 83, 84, 85, 86, 87, 88, 89, 90, 91, 92, 93, 94, 95, 96]\n",
      "list_products_ab_per_segment [29.60033925417929, 70.63357254474249, 69.54192584868997, 65.83193874501558, 65.15975336490101, 68.43805457028793, 69.61636912834729, 70.77776830874882, 71.52271569550885, 71.96373809817851, 74.13549422816686, 75.95556899550593, 79.80154653068894, 83.3022665553126, 86.00030683291789, 91.32210267972096, 96.00102815120044, 96.09527436010103, 93.35761528449439, 97.26875193800879, 95.58975296893914, 96.37405745548767, 102.23796856476838, 105.13056632540975, 108.82739476119696, 130.39768959942194, 147.70002833742183, 154.73467272265862, 157.82538319835294, 166.23535311383785, 176.87025197101957, 177.25985099746686, 177.61645872811823, 180.76137125396144, 174.0577151139296, 155.8619784330267, 145.7816825599184, 135.98489404911652, 134.43500347473218, 129.59395149978081, 125.19587121350924, 133.69488867315067, 129.715720835271, 135.90648561939815, 127.4868338408669, 113.29968438259311, 111.43968664944987, 111.84446472999389, 109.96656374639406, 108.51332809919404, 108.16749498764239, 109.75189369120562, 103.92093684697102, 97.38097432038376, 92.00621524934922, 94.1454250600691, 95.21179113018752]\n",
      "list_indexes_per_segment [0, 1, 2, 3, 4, 5, 6, 7, 8, 9, 10, 11, 12, 13, 14, 15, 16, 17, 18, 19, 20, 21, 22, 23, 24, 25, 26, 27, 28, 29, 30, 31, 32, 33, 34, 35, 36, 37, 38, 39, 40, 41, 42, 43, 44, 45, 46, 47, 48, 49, 50, 51, 52, 53, 54, 55, 56]\n"
     ]
    },
    {
     "name": "stderr",
     "output_type": "stream",
     "text": [
      " 50%|█████     | 3/6 [00:28<00:29,  9.70s/it]"
     ]
    },
    {
     "name": "stdout",
     "output_type": "stream",
     "text": [
      "ranges polyfit [1114, 1134, 1154, 1166, 1264]\n",
      "list_products_ab_per_segment [6.740635358088095e-19, 2.2271770401918616, 3.1833781861905663, 3.8169621054101412, 0.0, 2.1507180318434393, 20.275188537041686, 20.275188537041686, 19.28799542922866, 14.0450324603529, 17.960239105306755, 17.960239105306755, 17.960239105306755, 17.960239105306755, 17.960239105306755, 17.960239105306755, 15.019270248899602, 13.58061177431864, 12.122514889706508, 12.832022429247445]\n",
      "list_indexes_per_segment [0, 1, 2, 3, 4, 5, 6, 7, 8, 9, 10, 11, 12, 13, 14, 15, 16, 17, 18, 19]\n",
      "list_products_ab_per_segment [11.678364352829249, 8.977029069764171, 0.0, 1.6284207674573281, 1.4789271867098677, 3.2016127083358157, 6.403225416671631, 12.806450833343263, 12.806450833343263, 12.806450833343263, 12.806450833343263, 12.806450833343263, 12.806450833343263, 12.806450833343263, 12.806450833343263, 12.806450833343263, 57.49233050705152, 17.834855128548952, 14.116140494177444, 0.0]\n",
      "list_indexes_per_segment [0, 1, 2, 3, 4, 5, 6, 7, 8, 9, 10, 11, 12, 13, 14, 15, 16, 17, 18, 19]\n",
      "list_products_ab_per_segment [0.0, 0.0, 0.0, 0.0, 2.1507180318434393, 7.497038642493862, 23.085062569060938, 13.682351774270842, 17.000229657128898, 19.871196101333226, 21.454871398987052, 23.432408239534197]\n",
      "list_indexes_per_segment [0, 1, 2, 3, 4, 5, 6, 7, 8, 9, 10, 11]\n",
      "list_products_ab_per_segment [23.701672466128002, 59.29199759388439, 58.775778366214126, 50.6513964205169, 55.3914510557247, 53.879532053594176, 49.491256943902044, 49.315231467473495, 49.35643089436053, 50.23701745125936, 52.034442548499555, 51.639280332091175, 49.16425296688499, 44.79249202372739, 47.83947288929494, 50.44560856891076, 50.163331749019335, 55.283726997882695, 52.80272221730161, 53.34773290479734, 53.15490137044458, 56.75009747234867, 61.30781345877972, 60.703624627035424, 64.39203119237118, 64.28292990640102, 65.56494664116053, 66.65232109281351, 63.63167054366886, 63.246970353839515, 53.620352604432355, 61.89201016380321, 59.49918353489011, 56.46225189067627, 55.421267532365164, 55.02985251865084, 54.864258602349764, 52.290439803073696, 49.67787435328091, 54.18656997853577, 42.52056722503403, 40.82999507842692, 38.72574054095139, 33.64097582578461, 36.52752249533023, 37.89057040599869, 34.61768748964823, 37.52678039868624, 40.60610112726863, 36.56899410290134, 45.955336631614045, 50.509652832854044, 52.48370381994209, 54.29482414248923, 56.43463526983578, 56.91611140178475, 56.267074443601814, 53.96469763713867, 53.22432182466764, 48.46306553393515, 46.679594656066, 46.25211588172533, 47.93077651327803, 48.372938412163876, 48.37473059983199, 47.38174558802484, 43.25525406379893, 41.26826329627829, 35.75767333147405, 38.1142410124653, 35.39406225639709, 29.721871965981336, 28.679046483716775, 29.108436557580717, 28.640236228883396, 25.522681702595037, 26.88003709073905, 25.50431749841664, 24.496869779937242, 20.65811188367661, 16.969984589734054, 14.537443156613904, 12.407060842041346, 11.369851214465143, 11.678826879002827, 12.169015310560667, 13.587924480231777, 15.003622767128604, 23.196637225393488, 19.860579459484143, 20.433056900543534, 20.602104146881288, 20.774357287511748, 63.09952853249479, 66.13718900491267, 67.2703206371807, 27.652225557668544, 29.20302694627344]\n",
      "list_indexes_per_segment [0, 1, 2, 3, 4, 5, 6, 7, 8, 9, 10, 11, 12, 13, 14, 15, 16, 17, 18, 19, 20, 21, 22, 23, 24, 25, 26, 27, 28, 29, 30, 31, 32, 33, 34, 35, 36, 37, 38, 39, 40, 41, 42, 43, 44, 45, 46, 47, 48, 49, 50, 51, 52, 53, 54, 55, 56, 57, 58, 59, 60, 61, 62, 63, 64, 65, 66, 67, 68, 69, 70, 71, 72, 73, 74, 75, 76, 77, 78, 79, 80, 81, 82, 83, 84, 85, 86, 87, 88, 89, 90, 91, 92, 93, 94, 95, 96, 97]\n"
     ]
    },
    {
     "name": "stderr",
     "output_type": "stream",
     "text": [
      " 67%|██████▋   | 4/6 [00:40<00:20, 10.47s/it]"
     ]
    },
    {
     "name": "stdout",
     "output_type": "stream",
     "text": [
      "ranges polyfit [1073, 1083, 1134, 1154, 1167]\n",
      "list_products_ab_per_segment [0.42829540269027433, 0.8565908053805487, 1.7131816107610973, 2.0605297073394553, 2.44755055241302, 3.190745387899881, 3.563460665051352, 5.89809741323927, 5.989751649719892, 6.041322947718527]\n",
      "list_indexes_per_segment [0, 1, 2, 3, 4, 5, 6, 7, 8, 9]\n",
      "list_products_ab_per_segment [7.998115858167921, 38.71371135508525, 38.71371135508525, 38.71371135508525, 38.71371135508525, 38.71371135508525, 24.0262636323107, 24.184786701300027, 24.331433754340196, 24.44466507360903, 53.018261004897795, 49.87213830422843, 24.228410222316597, 22.2817259571234, 21.422429739762947, 23.204972122643994, 22.4077452519723, 21.770341215034023, 21.948118920398656, 23.913031461682976, 23.464495754655218, 21.540354839293286, 21.713510043637143, 19.910063598556007, 19.089807658046993, 14.797352270905094, 14.023244870043527, 9.575844393974421, 10.143399901711405, 10.967886655873144, 10.228957245822926, 10.609576852903956, 10.745967333732494, 11.718581645780887, 13.1914203537832, 16.436875055902647, 19.17627877112659, 19.134796174179428, 17.39153408994048, 16.30442624697207, 15.043296509028096, 14.614521406879021, 13.055355126598215, 11.754323994452761, 11.754646581778161, 9.738138842758985, 6.641425021942268, 6.641425021942268, 7.421698744549303, 8.103227174044719, 13.565088757251942]\n",
      "list_indexes_per_segment [0, 1, 2, 3, 4, 5, 6, 7, 8, 9, 10, 11, 12, 13, 14, 15, 16, 17, 18, 19, 20, 21, 22, 23, 24, 25, 26, 27, 28, 29, 30, 31, 32, 33, 34, 35, 36, 37, 38, 39, 40, 41, 42, 43, 44, 45, 46, 47, 48, 49, 50]\n",
      "list_products_ab_per_segment [15.75496335469029, 16.492961103157768, 17.33179838751755, 17.68170812598555, 13.879620915623605, 13.340881118004859, 9.963009242038424, 14.054227654922897, 20.681210541445125, 21.97236092299363, 22.17309844219176, 21.517424159186703, 21.815558364566186, 21.824776458832275, 20.988013761802904, 20.151951183873507, 22.40232697517149, 23.20509825615636, 22.98953598929984, 23.428612512772588]\n",
      "list_indexes_per_segment [0, 1, 2, 3, 4, 5, 6, 7, 8, 9, 10, 11, 12, 13, 14, 15, 16, 17, 18, 19]\n",
      "list_products_ab_per_segment [24.65108120179957, 23.839475109889463, 22.519562814152778, 21.74875805839349, 21.91522441871348, 17.892852184258345, 17.350577062278262, 20.358016612761276, 21.04715036041398, 20.792015667256692, 22.53550288173301, 23.540635191383217, 23.899930119744567]\n",
      "list_indexes_per_segment [0, 1, 2, 3, 4, 5, 6, 7, 8, 9, 10, 11, 12]\n"
     ]
    },
    {
     "name": "stderr",
     "output_type": "stream",
     "text": [
      " 83%|████████▎ | 5/6 [00:51<00:10, 10.80s/it]"
     ]
    },
    {
     "name": "stdout",
     "output_type": "stream",
     "text": [
      "ranges polyfit [1135, 1155]\n",
      "list_products_ab_per_segment [17.86945233104916, 24.398312301796068, 31.74843843165877, 40.8636211152384, 51.271485301167104, 60.656230049272835, 66.94105207466237, 68.45788500262688, 70.39621515954786, 89.84052038429127, 56.032679582024, 56.032679582024, 56.032679582024, 55.14288228778241, 52.981826724446364, 34.531391490810165, 29.425512552081955, 25.162536267679684, 17.467130978403475, 25.604863366595964]\n",
      "list_indexes_per_segment [0, 1, 2, 3, 4, 5, 6, 7, 8, 9, 10, 11, 12, 13, 14, 15, 16, 17, 18, 19]\n"
     ]
    },
    {
     "name": "stderr",
     "output_type": "stream",
     "text": [
      "100%|██████████| 6/6 [01:01<00:00, 10.23s/it]\n"
     ]
    }
   ],
   "source": [
    "minrange=0\n",
    "maxrange=6\n",
    "mask_network, ellipses_network, arteries_network, list_table_stats=constructing_all_networks(\n",
    "    image_preprocessed, \n",
    "    mask_list, \n",
    "    min_range=minrange, \n",
    "    max_range=maxrange, \n",
    "    reconstruct_ellipse=True, \n",
    "    reconstruct_arteries=True, \n",
    "    reconstruct_masks=False)"
   ]
  },
  {
   "cell_type": "code",
   "execution_count": 16,
   "metadata": {},
   "outputs": [],
   "source": [
    "viewer = napari.Viewer()\n",
    "image_layer = viewer.add_image(mask_list[13], colormap=\"gray\", contrast_limits=(0,255))\n",
    "napari.run()"
   ]
  },
  {
   "cell_type": "code",
   "execution_count": 17,
   "metadata": {},
   "outputs": [
    {
     "data": {
      "text/plain": [
       "0"
      ]
     },
     "execution_count": 17,
     "metadata": {},
     "output_type": "execute_result"
    }
   ],
   "source": [
    "np.sum(mask_list[13])"
   ]
  },
  {
   "cell_type": "code",
   "execution_count": 30,
   "metadata": {},
   "outputs": [
    {
     "name": "stdout",
     "output_type": "stream",
     "text": [
      "[     index       mean         sd  proportion_calcification value_occlusion  \\\n",
      "0     1301  67.218750  24.634496                  0.000000              []   \n",
      "1     1302  56.671875  24.944974                  0.000000              []   \n",
      "2     1303  77.136986  57.691032                  0.000000              []   \n",
      "3     1304  81.596774  61.493892                  0.000000              []   \n",
      "4     1305  71.000000  51.493188                  0.000000              []   \n",
      "..     ...        ...        ...                       ...             ...   \n",
      "225   1526  77.495726  48.117370                  0.073879              []   \n",
      "226   1527  76.453125  46.682779                  0.073587              []   \n",
      "227   1528  82.610778  44.720134                  0.072222              []   \n",
      "228   1529  86.039280  37.441565                  0.083958              []   \n",
      "229   1530  87.860000  35.753887                  0.072643              []   \n",
      "\n",
      "             ab     ab_pred  \n",
      "0     23.869125    8.632489  \n",
      "1      8.190875    8.426315  \n",
      "2      8.304951    8.220141  \n",
      "3      0.268771    8.013967  \n",
      "4      7.435574    7.807793  \n",
      "..          ...         ...  \n",
      "225  185.368398  159.413171  \n",
      "226  184.567902  158.939469  \n",
      "227  178.605671  158.465767  \n",
      "228  175.109144  157.992065  \n",
      "229  177.371158  157.518363  \n",
      "\n",
      "[230 rows x 7 columns],     index       mean         sd  proportion_calcification value_occlusion  \\\n",
      "0    1366   8.023438   9.998801                       0.0              []   \n",
      "1    1367  21.859375  28.368318                       0.0              []   \n",
      "2    1368  33.914062  37.674392                       0.0              []   \n",
      "3    1369   7.527607  23.874753                       0.0              []   \n",
      "4    1370  17.650307  36.133959                       0.0              []   \n",
      "5    1371  32.067485  41.934967                       0.0              []   \n",
      "6    1372  47.705521  45.386673                       0.0              []   \n",
      "7    1373  54.780000  46.514854                       0.0              []   \n",
      "8    1374  63.360000  46.422951                       0.0              []   \n",
      "9    1375  61.680000  42.030675                       0.0              []   \n",
      "10   1376  47.222222  42.484710                       0.0              []   \n",
      "11   1377  45.632000  41.481666                       0.0              []   \n",
      "12   1378  53.442308  40.363213                       0.0              []   \n",
      "13   1379  52.795918  36.601818                       0.0              []   \n",
      "14   1380  48.884615  34.927482                       0.0              []   \n",
      "15   1381  40.388889  31.693410                       0.0              []   \n",
      "16   1382  50.857143  32.351177                       0.0              []   \n",
      "17   1383  56.857143  33.811643                       0.0              []   \n",
      "18   1384  44.542373  40.029786                       0.0              []   \n",
      "19   1385  46.347458  37.716466                       0.0              []   \n",
      "20   1386  40.372881  37.251049                       0.0              []   \n",
      "21   1387  10.731959  25.540958                       0.0              []   \n",
      "22   1388  14.907216  30.218136                       0.0              []   \n",
      "23   1389  18.927835  34.409375                       0.0              []   \n",
      "24   1390  22.268041  35.951145                       0.0              []   \n",
      "25   1391  27.649485  34.157923                       0.0              []   \n",
      "26   1392  39.144330  34.972740                       0.0              []   \n",
      "27   1393  43.131250  32.702661                       0.0              []   \n",
      "28   1394  39.000000  34.892462                       0.0              []   \n",
      "29   1395  51.774194  35.023636                       0.0              []   \n",
      "\n",
      "           ab    ab_pred  \n",
      "0    4.509635  21.629046  \n",
      "1    9.019270  21.779214  \n",
      "2   14.587625  21.929382  \n",
      "3   33.972153  22.079550  \n",
      "4   31.125782  22.229718  \n",
      "5   31.125782  22.379886  \n",
      "6   31.125782  22.530054  \n",
      "7   42.203377  22.680222  \n",
      "8   56.032496  22.830391  \n",
      "9   14.594849  22.980559  \n",
      "10  15.325212  23.130727  \n",
      "11  14.412002  23.280895  \n",
      "12  14.083600  23.431063  \n",
      "13  13.741665  23.581231  \n",
      "14  13.765312  23.731399  \n",
      "15  27.221126  23.881568  \n",
      "16  17.488977  24.031736  \n",
      "17  17.511484  24.181904  \n",
      "18  44.324777  24.332072  \n",
      "19  64.914325  24.482240  \n",
      "20  15.419622  24.632408  \n",
      "21   9.768417  24.782576  \n",
      "22   9.592668  24.932744  \n",
      "23   7.981797  25.082913  \n",
      "24   7.037689  25.233081  \n",
      "25   8.361124  25.383249  \n",
      "26  14.863059  25.533417  \n",
      "27  30.679792  25.683585  \n",
      "28  41.532863  25.833753  \n",
      "29  57.872242  25.983921  ]\n"
     ]
    }
   ],
   "source": [
    "print(list_table_stats)"
   ]
  },
  {
   "cell_type": "code",
   "execution_count": 33,
   "metadata": {},
   "outputs": [
    {
     "name": "stderr",
     "output_type": "stream",
     "text": [
      "WARNING: QWindowsWindow::setGeometry: Unable to set geometry 1920x984+0+34 (frame: 1942x1040-11-11) on QWidgetWindow/\"_QtMainWindowClassWindow\" on \"\\\\.\\DISPLAY1\". Resulting geometry: 1920x974+0+34 (frame: 1942x1030-11-11) margins: 11, 45, 11, 11 minimum size: 545x492 MINMAXINFO maxSize=0,0 maxpos=0,0 mintrack=1112,1040 maxtrack=0,0)\n"
     ]
    }
   ],
   "source": [
    "viewer = napari.Viewer()\n",
    "image_layer = viewer.add_image(arteries_network, colormap=\"gray\", contrast_limits=(0,255))\n",
    "image_layer = viewer.add_image(ellipses_network, colormap=\"blue\", contrast_limits=(0,255), blending=\"additive\")\n",
    "image_layer = viewer.add_image(mask_network, colormap=\"green\", contrast_limits=(0,255), blending=\"additive\")\n",
    "napari.run()"
   ]
  },
  {
   "cell_type": "code",
   "execution_count": 17,
   "metadata": {},
   "outputs": [],
   "source": [
    "image_original = sitk.ReadImage(Path(\"data/anonymise_patient1.mhd\"))\n",
    "image_original_array = sitk.GetArrayViewFromImage(image_original)"
   ]
  },
  {
   "cell_type": "code",
   "execution_count": 18,
   "metadata": {},
   "outputs": [],
   "source": [
    "to_view=np.where(ellipses_network==255, arteries_network, image_original_array)"
   ]
  },
  {
   "cell_type": "code",
   "execution_count": 19,
   "metadata": {},
   "outputs": [
    {
     "name": "stderr",
     "output_type": "stream",
     "text": [
      "WARNING: QWindowsWindow::setGeometry: Unable to set geometry 1920x984+0+34 (frame: 1942x1040-11-11) on QWidgetWindow/\"_QtMainWindowClassWindow\" on \"\\\\.\\DISPLAY1\". Resulting geometry: 1920x974+0+34 (frame: 1942x1030-11-11) margins: 11, 45, 11, 11 minimum size: 545x492 MINMAXINFO maxSize=0,0 maxpos=0,0 mintrack=1112,1040 maxtrack=0,0)\n"
     ]
    }
   ],
   "source": [
    "viewer = napari.Viewer()\n",
    "image_layer = viewer.add_image(to_view, colormap=\"gray\", contrast_limits=(0,255))\n",
    "image_layer = viewer.add_image(ellipses_network, colormap=\"blue\", contrast_limits=(0,255), blending=\"additive\")\n",
    "image_layer = viewer.add_image(mask_network, colormap=\"green\", contrast_limits=(0,255), blending=\"additive\")\n",
    "napari.run()"
   ]
  },
  {
   "cell_type": "markdown",
   "metadata": {},
   "source": [
    "saved just in case\n"
   ]
  },
  {
   "cell_type": "code",
   "execution_count": null,
   "metadata": {},
   "outputs": [],
   "source": [
    "min_range=0\n",
    "max_range=6#len(mask_list)\n",
    "info_one_mask={}\n",
    "ellipses_network=np.zeros_like(mask_list[0])#, dtype=np.uint8)\n",
    "arteries_network=np.zeros_like(mask_list[0])#, dtype=np.uint8)\n",
    "\n",
    "reconstruct_ellipse=True\n",
    "reconstruct_arteries=True\n",
    "\n",
    "all_ranges_max=[]\n",
    "for index in range(len(mask_list)):\n",
    "    all_ranges_max.append(find_slice_with_mask(mask_list[index])[1])\n",
    "\n",
    "\n",
    "for index in range(min_range,max_range):\n",
    "    print(index+1-min_range, \" out of \", max_range-min_range)\n",
    "\n",
    "    rangemin,rangemax=find_slice_with_mask(mask_list[index])\n",
    "\n",
    "    info_one_mask= construct_ellipses_network(mask_list[index],rangemin,rangemax+1, all_ranges_max) #test, +1 ici \n",
    "    if reconstruct_ellipse:\n",
    "        ellipses_network=ellipses_network+info_one_mask['ellipses_3D']\n",
    "        ellipses_network_ok=np.where(ellipses_network>255,255,ellipses_network)\n",
    "    arteries_whole=keeping_arteries_only(info_one_mask['ellipses_3D'], image_preprocessed)\n",
    "    \n",
    "    if reconstruct_arteries:\n",
    "        arteries_network=arteries_network+arteries_whole\n",
    "        arteries_network=np.where(arteries_network>255,arteries_network/2,arteries_network)  "
   ]
  },
  {
   "cell_type": "code",
   "execution_count": 28,
   "metadata": {},
   "outputs": [],
   "source": [
    "mask_network=construct_mask_network(mask_list,min_range,max_range)"
   ]
  }
 ],
 "metadata": {
  "kernelspec": {
   "display_name": "Python 3",
   "language": "python",
   "name": "python3"
  },
  "language_info": {
   "codemirror_mode": {
    "name": "ipython",
    "version": 3
   },
   "file_extension": ".py",
   "mimetype": "text/x-python",
   "name": "python",
   "nbconvert_exporter": "python",
   "pygments_lexer": "ipython3",
   "version": "3.11.5"
  }
 },
 "nbformat": 4,
 "nbformat_minor": 2
}
