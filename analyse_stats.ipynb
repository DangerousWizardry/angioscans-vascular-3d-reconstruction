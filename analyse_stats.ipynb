{
 "cells": [
  {
   "cell_type": "code",
   "execution_count": 2,
   "metadata": {},
   "outputs": [],
   "source": [
    "import numpy as np\n",
    "from pathlib import Path\n",
    "import cv2\n",
    "import pandas as pd\n",
    "from skimage import measure, filters, draw\n",
    "import matplotlib.pyplot as plt\n",
    "from matplotlib.patches import Ellipse\n",
    "import tqdm \n",
    "from scipy import ndimage\n",
    "\n",
    "import SimpleITK as sitk\n",
    "import itkwidgets \n",
    "import napari\n",
    "import copy\n",
    "\n",
    "from napari.utils.colormaps import colormap_utils as cu\n",
    "from scipy import stats\n",
    "import gzip"
   ]
  },
  {
   "cell_type": "code",
   "execution_count": 3,
   "metadata": {},
   "outputs": [],
   "source": [
    "# Load results of anomaly detection\n",
    "\n",
    "# np.save(Path(\"temp/arteries.npy\"), arteries)\n",
    "# np.save(Path(\"temp/ellipses.npy\"), new_ellipses3D)\n",
    "arteries = np.load(Path(\"temp/arteries_min_max.npy\"))\n",
    "ellipses3D = np.load(Path(\"temp/ellipses.npy\"))"
   ]
  },
  {
   "cell_type": "markdown",
   "metadata": {},
   "source": [
    "Récupérer une liste de valeurs de pixels par slice, en prenant en compte uniquement les pixels dans l'ellipse"
   ]
  },
  {
   "cell_type": "code",
   "execution_count": 4,
   "metadata": {},
   "outputs": [],
   "source": [
    "arteries_only = np.where(ellipses3D == 255, arteries, np.nan)\n",
    "arteries_only_flatten = arteries_only.reshape(arteries_only.shape[0], arteries_only.shape[1]*arteries_only.shape[2])\n",
    "list_values=[]\n",
    "for slice in arteries_only_flatten:\n",
    "    slice = list(slice[np.logical_not(np.isnan(slice))]) # remove nan\n",
    "    list_values.append(slice)"
   ]
  },
  {
   "cell_type": "code",
   "execution_count": 5,
   "metadata": {},
   "outputs": [],
   "source": [
    "# a modifier pour avoir une classe calcification avec la slice, le pourcentage et le masque de calcification\n",
    "\n",
    "def find_calcifications (pixel_values, pourcentage):\n",
    "    ''' \n",
    "    Fonction pour trouver les calcifications les plus importantes de chaque masque\n",
    "    Args:\n",
    "        pixel_values (list[list[double]]) : valeurs des pixels dans chacune des coupes de l'image\n",
    "        pourcentage (int) : le pourcentage de calcifications qu'on veut retourner \n",
    "    Return:\n",
    "        list_calcifications (list[int, double]) : retourne un tuple avec l'index de la coupe et son pourcentage de calcification\n",
    "    '''\n",
    "    # calcul pourcentage de calcification\n",
    "    proportion_calcification = []\n",
    "    for slice in pixel_values:\n",
    "        nb_pixel_250 = sum(1 for valeur in slice if valeur > 250)\n",
    "        proportion = nb_pixel_250 / len(slice)\n",
    "        proportion_calcification.append(proportion)\n",
    "\n",
    "    # sélectionner les n plus grosses calcifications\n",
    "    n = int(pourcentage/100 * len(list_values))\n",
    "    sorted_indices = np.argsort(proportion_calcification)[::-1] #trier indices par ordre décroissant\n",
    "    top_n_indices = sorted_indices[:n]\n",
    "    list_calcifications = [(i, proportion_calcification[i]) for i in top_n_indices]\n",
    "\n",
    "    return list_calcifications"
   ]
  },
  {
   "cell_type": "code",
   "execution_count": 6,
   "metadata": {},
   "outputs": [],
   "source": [
    "def remove_calcifications(pixel_values):\n",
    "    for i in range(len(pixel_values)):\n",
    "        pixel_values[i] = [valeur for valeur in list_values[i] if valeur < 250]"
   ]
  },
  {
   "cell_type": "code",
   "execution_count": 7,
   "metadata": {},
   "outputs": [],
   "source": [
    "def find_occlusions(pixel_values):\n",
    "    ''' \n",
    "    Fonction qui permet de trouver les coupes contenant des occlusions grâce à la comparaison de la distribution des valeurs\n",
    "    des pixels de la coupe avec une distribution de référence.  Cette fonction utilise le test de Kolmogorov-Smirnov qui permet\n",
    "    de comparer la distribution empirique cumulative de deux échantillons pour tester s'ils suivent la même loi ou non.\n",
    "    \n",
    "    Args:\n",
    "        pixel_values (list[list[double]]) : valeurs des pixels dans chacune des coupes de l'image\n",
    "    Return:\n",
    "        list_occlusions (list[int, double]) : retourne un tuple avec l'index de la coupe et la valeur du résultat du test.\n",
    "        Plus la valeur du test est élevée plus la différence de la coupe avec la référence est importante\n",
    "    '''\n",
    "    # mettre toutes les valeurs de pixels de l'image dans une seule liste\n",
    "    list_values_flatten = [element for sublist in pixel_values for element in sublist]\n",
    "\n",
    "    list_pvalues = []\n",
    "    list_stats_test = []\n",
    "    list_mean = []\n",
    "\n",
    "    for slice in pixel_values:\n",
    "        a = stats.ks_2samp(slice, list_values_flatten)\n",
    "        list_stats_test.append(a[0])\n",
    "        list_pvalues.append(a[1])\n",
    "        list_mean.append(np.mean(slice))\n",
    "\n",
    "    # sélectionner les 20 plus grosses occlusions (valeurs moyenne < moyenne)\n",
    "    sorted_indices = np.argsort(list_stats_test)[::-1] #trier indices par ordre décroissant\n",
    "    count = 0\n",
    "    list_occlusions = []\n",
    "    for index in sorted_indices:\n",
    "        if list_mean[index] < np.mean(list_mean): # prendre seulement  les coupes trop foncées et pas les coupes trop claires\n",
    "            list_occlusions.append((index, list_stats_test[index]))\n",
    "            count += 1\n",
    "            if count > 20:\n",
    "                break\n",
    "\n",
    "    return list_occlusions"
   ]
  },
  {
   "cell_type": "code",
   "execution_count": 8,
   "metadata": {},
   "outputs": [
    {
     "name": "stdout",
     "output_type": "stream",
     "text": [
      "[(71, 0.2643171806167401), (72, 0.24675324675324675), (73, 0.2412280701754386), (70, 0.24034334763948498), (69, 0.23555555555555555), (67, 0.22317596566523606), (68, 0.20851063829787234), (66, 0.20306513409961685), (74, 0.19736842105263158), (75, 0.16176470588235295), (80, 0.15196078431372548), (144, 0.1488673139158576), (76, 0.14761904761904762), (145, 0.1465798045602606), (65, 0.1417624521072797), (146, 0.14012738853503184), (77, 0.1391304347826087), (82, 0.13736263736263737), (150, 0.13119533527696792), (149, 0.13099041533546327)]\n"
     ]
    }
   ],
   "source": [
    "print(find_calcifications(list_values, 5))"
   ]
  },
  {
   "cell_type": "code",
   "execution_count": 9,
   "metadata": {},
   "outputs": [],
   "source": [
    "remove_calcifications(list_values)"
   ]
  },
  {
   "cell_type": "code",
   "execution_count": 10,
   "metadata": {},
   "outputs": [],
   "source": [
    "list_occlusions = find_occlusions(list_values)"
   ]
  },
  {
   "cell_type": "code",
   "execution_count": 11,
   "metadata": {},
   "outputs": [
    {
     "name": "stdout",
     "output_type": "stream",
     "text": [
      "[(3, 0.6615179331256764), (0, 0.6552835240738539), (20, 0.6242967315220337), (21, 0.6141542069198163), (4, 0.5248024184405171), (22, 0.48646356071603736), (18, 0.43266305028524554), (5, 0.4242729177578249), (15, 0.4236723317883001), (19, 0.3754491199369868), (121, 0.3610907828826657), (14, 0.3494998135133538), (17, 0.34284896732709264), (122, 0.3400423073022245), (120, 0.3389271964036159), (16, 0.3328219003979587), (123, 0.32271022503504554), (23, 0.3172330411265247), (1, 0.3168688259845217), (124, 0.31205490738756714), (114, 0.3037945282685858)]\n"
     ]
    }
   ],
   "source": [
    "print(list_occlusions)"
   ]
  },
  {
   "cell_type": "code",
   "execution_count": null,
   "metadata": {},
   "outputs": [],
   "source": [
    "# ## en cours de test\n",
    "# # creer un joli numpy array à partir de ma liste\n",
    "# npa_occlusions = np.array(list_occlusions)\n",
    "# print(npa_occlusions)\n",
    "\n",
    "# # essayer de regrouper si plusieurs occlusions à côté\n",
    "# for occlusion in list_occlusions:\n",
    "#     val = occlusion[0]+1 \n",
    "#     if val in list_occlusions[0]:\n",
    "#         print(occlusion[0])"
   ]
  },
  {
   "cell_type": "code",
   "execution_count": null,
   "metadata": {},
   "outputs": [],
   "source": [
    "viewer = napari.Viewer()\n",
    "image_layer = viewer.add_image(arteries, colormap=\"gray\", contrast_limits=(0,255))\n",
    "image_layer = viewer.add_image(ellipses3D, colormap=\"blue\", contrast_limits=(0,255), blending=\"additive\")\n",
    "napari.run()"
   ]
  },
  {
   "cell_type": "markdown",
   "metadata": {},
   "source": [
    "jolis histogrammes pour tester des trucs"
   ]
  },
  {
   "cell_type": "code",
   "execution_count": 12,
   "metadata": {},
   "outputs": [
    {
     "data": {
      "image/png": "[encoded data removed]",
      "text/plain": [
       "<Figure size 640x480 with 1 Axes>"
      ]
     },
     "metadata": {},
     "output_type": "display_data"
    }
   ],
   "source": [
    "# fit a normal distribution on the points on each slice\n",
    "from scipy.stats import norm\n",
    "\n",
    "my_slice = list_values[120]\n",
    "\n",
    "# fit a normal distribution\n",
    "mu, std = norm.fit(my_slice)\n",
    "plt.hist(my_slice, bins=25, density=True, alpha=0.6, color='g')\n",
    "\n",
    "# Plot\n",
    "xmin = 0\n",
    "xmax = 255\n",
    "x = np.linspace(xmin, xmax, 100)\n",
    "p = norm.pdf(x, mu, std)\n",
    "plt.plot(x, p, 'k', linewidth=2)\n",
    "title = \"Fit results: mu = %.2f,  std = %.2f\" % (mu, std)\n",
    "plt.title(title)\n",
    "\n",
    "plt.show()"
   ]
  },
  {
   "cell_type": "code",
   "execution_count": 13,
   "metadata": {},
   "outputs": [
    {
     "data": {
      "image/png": "[encoded data removed]",
      "text/plain": [
       "<Figure size 640x480 with 1 Axes>"
      ]
     },
     "metadata": {},
     "output_type": "display_data"
    }
   ],
   "source": [
    "# créer une distribution de référence : en utilisant tous les points ?\n",
    "\n",
    "# fit a normal distribution\n",
    "list_values_flatten = [element for sublist in list_values for element in sublist]\n",
    "mu0, std0 = norm.fit(list_values_flatten)\n",
    "plt.hist(list_values_flatten, bins=25, density=True, alpha=0.6, color='g')\n",
    "\n",
    "# Plot\n",
    "xmin = 0\n",
    "xmax = 255\n",
    "x = np.linspace(xmin, xmax, 100)\n",
    "p = norm.pdf(x, mu, std)\n",
    "plt.plot(x, p, 'k', linewidth=2)\n",
    "title = \"Fit results: mu = %.2f,  std = %.2f\" % (mu, std)\n",
    "plt.title(title)\n",
    "\n",
    "plt.show()"
   ]
  }
 ],
 "metadata": {
  "kernelspec": {
   "display_name": "base",
   "language": "python",
   "name": "python3"
  },
  "language_info": {
   "codemirror_mode": {
    "name": "ipython",
    "version": 3
   },
   "file_extension": ".py",
   "mimetype": "text/x-python",
   "name": "python",
   "nbconvert_exporter": "python",
   "pygments_lexer": "ipython3",
   "version": "3.11.5"
  }
 },
 "nbformat": 4,
 "nbformat_minor": 2
}
