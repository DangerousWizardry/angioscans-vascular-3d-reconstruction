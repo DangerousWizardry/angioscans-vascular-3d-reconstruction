{
 "cells": [
  {
   "cell_type": "code",
   "execution_count": null,
   "metadata": {},
   "outputs": [],
   "source": [
    "import SimpleITK as sitk\n",
    "import itkwidgets \n",
    "\n",
    "import matplotlib.pyplot as plt\n",
    "from pathlib import Path\n",
    "import numpy as np"
   ]
  },
  {
   "cell_type": "code",
   "execution_count": null,
   "metadata": {},
   "outputs": [],
   "source": [
    "mr_image = sitk.ReadImage(Path(\"data/anonymise_patient1.mhd\"))\n",
    "npa = sitk.GetArrayViewFromImage(mr_image)\n",
    "\n",
    "# Display the image slice from the middle of the stack, z axis\n",
    "z = int(mr_image.GetDepth()/2)\n",
    "npa_zslice = sitk.GetArrayViewFromImage(mr_image)[z,:,:]\n",
    "\n",
    "itkwidgets.view(mr_image)"
   ]
  },
  {
   "cell_type": "code",
   "execution_count": null,
   "metadata": {},
   "outputs": [],
   "source": [
    "selected_image = mr_image\n",
    "print(\"Before modification:\")\n",
    "print(\"origin: \" + str(selected_image.GetOrigin()))\n",
    "print(\"size: \" + str(selected_image.GetSize()))\n",
    "print(\"spacing: \" + str(selected_image.GetSpacing()))\n",
    "print(\"direction: \" + str(selected_image.GetDirection()))\n",
    "print(\"pixel type: \" + str(selected_image.GetPixelIDTypeAsString()))\n",
    "print(\n",
    "    \"number of pixel components: \" + str(selected_image.GetNumberOfComponentsPerPixel())\n",
    ")\n"
   ]
  },
  {
   "cell_type": "code",
   "execution_count": null,
   "metadata": {},
   "outputs": [],
   "source": [
    "image_array = sitk.GetArrayFromImage(mr_image)\n",
    "histogram, bin_edges = np.histogram(image_array.flatten(),bins=255)\n",
    "plt.plot(bin_edges[0:-1], histogram, color='blue')\n",
    "plt.title(\"Histogramme de l'image médicale\")\n",
    "plt.xlabel(\"Valeur des pixels\")\n",
    "plt.ylabel(\"Fréquence\")\n",
    "plt.show()\n"
   ]
  },
  {
   "cell_type": "code",
   "execution_count": null,
   "metadata": {},
   "outputs": [],
   "source": [
    "\n",
    "thresholdFilter = sitk.IntensityWindowingImageFilter()\n",
    "thresholdFilter.SetWindowMinimum(150)\n",
    "thresholdFilter.SetWindowMaximum(1000)\n",
    "thresholdFilter.SetOutputMinimum(0)\n",
    "thresholdFilter.SetOutputMaximum(255)\n",
    "resultTreshold = thresholdFilter.Execute(mr_image)\n",
    "\n",
    "itkwidgets.view(resultTreshold)\n"
   ]
  },
  {
   "cell_type": "code",
   "execution_count": null,
   "metadata": {},
   "outputs": [],
   "source": [
    "# thresholdMaxCompFilter = sitk.ThresholdMaximumConnectedComponentsImageFilter()\n",
    "# thresholdMaxCompFilter.SetMinimumObjectSizeInPixels(150000)\n",
    "# thresholdMaxCompFilter.SetInsideValue(255)\n",
    "# thresholdMaxCompFilter.SetOutsideValue(0)\n",
    "# resultThresholdMaxComp = thresholdMaxCompFilter.Execute(resultTreshold)\n",
    "# itkwidgets.view(resultThresholdMaxComp)"
   ]
  },
  {
   "cell_type": "code",
   "execution_count": null,
   "metadata": {},
   "outputs": [],
   "source": []
  }
 ],
 "metadata": {
  "kernelspec": {
   "display_name": "Python 3",
   "language": "python",
   "name": "python3"
  },
  "language_info": {
   "codemirror_mode": {
    "name": "ipython",
    "version": 3
   },
   "file_extension": ".py",
   "mimetype": "text/x-python",
   "name": "python",
   "nbconvert_exporter": "python",
   "pygments_lexer": "ipython3",
   "version": "3.7.9"
  }
 },
 "nbformat": 4,
 "nbformat_minor": 2
}
